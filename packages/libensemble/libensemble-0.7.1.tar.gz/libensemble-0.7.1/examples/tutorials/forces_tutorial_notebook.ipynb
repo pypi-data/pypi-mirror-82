{
 "cells": [
  {
   "cell_type": "markdown",
   "metadata": {},
   "source": [
    "Executor with Electrostatic Forces\n",
    "----------------------------------------\n",
    "\n",
    "This tutorial highlights libEnsemble’s capability to execute and monitor external scripts or user applications within simulation or generator functions using the executor. In this tutorial, our calling script registers an external C executable that simulates electrostatic forces between a collection of particles. The ``sim_f`` routine then launches and polls this executable.\n",
    "\n",
    "It is possible to use ``subprocess`` calls from Python to issue commands such as ``jsrun`` or ``aprun`` to run applications. Unfortunately, hard-coding such commands within user scripts isn’t portable. Furthermore, many systems like Argonne’s Theta do not allow libEnsemble to submit additional tasks from the compute nodes. On these systems a proxy launch mechanism (such as Balsam) is required. libEnsemble’s Executor was developed to directly address such issues.\n",
    "\n",
    "Getting Started\n",
    "------------------\n",
    "\n",
    "**An MPI distribution and ``mpi4py`` are required to use this notebook locally**.\n",
    "\n",
    "A simulation source file ``forces.c`` is available in the libEnsemble repository for compiling into an application ``forces.x``. This app will be registered by the Executor for launching by libEnsemble's workers."
   ]
  },
  {
   "cell_type": "code",
   "execution_count": null,
   "metadata": {},
   "outputs": [],
   "source": [
    "import subprocess\n",
    "import requests\n",
    "\n",
    "url = 'https://raw.githubusercontent.com/Libensemble/libensemble/master/libensemble/tests/scaling_tests/forces/forces.c'\n",
    "forces = requests.get(url)\n",
    "open('./forces.c', 'wb').write(forces.content)\n",
    "\n",
    "subprocess.run('mpicc -O3 -o forces.x forces.c -lm'.split())"
   ]
  },
  {
   "cell_type": "markdown",
   "metadata": {},
   "source": [
    "Simulation Function\n",
    "-----------------------\n",
    "\n",
    "__*Note: Several of these stand-alone Simulation Function code-cells may not execute properly since the calling script with all expected parameters isn't defined until later. The complete libEnsemble routine should still function as expected.*__\n",
    "\n",
    "Our ``sim_f`` is where we’ll use libEnsemble’s executor to configure and submit for execution our compiled simulation code. We will poll this task’s state while it runs, and once we’ve detected it has finished we will send any results or exit statuses back to the manager.\n",
    "\n",
    "Create a Python file named ``tutorial_forces_simf.py`` containing:"
   ]
  },
  {
   "cell_type": "code",
   "execution_count": null,
   "metadata": {},
   "outputs": [],
   "source": [
    "import os\n",
    "import time\n",
    "import numpy as np\n",
    "\n",
    "from libensemble.executors.executor import Executor\n",
    "from libensemble.message_numbers import WORKER_DONE, WORKER_KILL, TASK_FAILED\n",
    "\n",
    "MAX_SEED = 32767\n",
    "\n",
    "def perturb(particles, seed, max_fraction):\n",
    "    \"\"\"Modify particle count\"\"\"\n",
    "    seed_fraction = seed/MAX_SEED\n",
    "    max_delta = particles * max_fraction\n",
    "    delta = seed_fraction * max_delta\n",
    "    delta = delta - max_delta/2  # translate so -/+\n",
    "    new_particles = particles + delta\n",
    "    return int(new_particles)\n",
    "\n",
    "def read_last_line(filepath):\n",
    "    \"\"\"Read last line of statfile\"\"\"\n",
    "    try:\n",
    "        with open(filepath, 'rb') as fh:\n",
    "            line = fh.readlines()[-1].decode().rstrip()\n",
    "    except Exception:\n",
    "        line = \"\"  # In case file is empty or not yet created\n",
    "    return line"
   ]
  },
  {
   "cell_type": "markdown",
   "metadata": {},
   "source": [
    "We use libEnsemble’s message number tags to communicate the worker’s status to the manager. For testing purposes, the ``perturb()`` function randomizes the resources used for each calculation. The second function parses forces values and statuses in the ``.stat`` file produced by our compiled code. Now we can write the actual ``sim_f``. We’ll first write the function definition, extract our parameters from ``sim_specs``, define a random seed, and use ``perturb()`` to randomize our particle counts."
   ]
  },
  {
   "cell_type": "code",
   "execution_count": null,
   "metadata": {},
   "outputs": [],
   "source": [
    "def run_forces(H, persis_info, sim_specs, libE_info):\n",
    "    calc_status = 0\n",
    "\n",
    "    x = H['x']\n",
    "    sim_particles = sim_specs['user']['sim_particles']\n",
    "    sim_timesteps = sim_specs['user']['sim_timesteps']\n",
    "    time_limit = sim_specs['user']['sim_kill_minutes'] * 60.0\n",
    "\n",
    "    cores = sim_specs['user'].get('cores', None)\n",
    "    kill_rate = sim_specs['user'].get('kill_rate', 0)\n",
    "    particle_variance = sim_specs['user'].get('particle_variance', 0)\n",
    "\n",
    "    seed = int(np.rint(x[0][0]))\n",
    "\n",
    "    # To give a random variance of work-load\n",
    "    sim_particles = perturb(sim_particles, seed, particle_variance)"
   ]
  },
  {
   "cell_type": "markdown",
   "metadata": {},
   "source": [
    "Next we will instantiate our executor and submit our registered application for execution."
   ]
  },
  {
   "cell_type": "code",
   "execution_count": null,
   "metadata": {},
   "outputs": [],
   "source": [
    "    # Use pre-defined executor object\n",
    "    exctr = Executor.executor\n",
    "\n",
    "    # Arguments for our registered simulation\n",
    "    args = str(int(sim_particles)) + ' ' + str(sim_timesteps) + ' ' + str(seed) + ' ' + str(kill_rate)\n",
    "\n",
    "    # Submit our simulation for execution.\n",
    "    if cores:\n",
    "        task = exctr.submit(calc_type='sim', num_procs=cores, app_args=args,\n",
    "                            stdout='out.txt', stderr='err.txt', wait_on_run=True)\n",
    "    else:\n",
    "        task = exctr.submit(calc_type='sim', app_args=args, stdout='out.txt',\n",
    "                            stderr='err.txt', wait_on_run=True)"
   ]
  },
  {
   "cell_type": "markdown",
   "metadata": {},
   "source": [
    "In each executor ``submit()`` routine, we define the type of calculation being performed, optionally the number of processors to run the task on, additional arguments for the simulation code, and files for ``stdout`` and ``stderr`` output. The ``wait_on_run`` argument pauses sim_f execution until the task is confirmed to be running. See the docs for more information about these and other options.\n",
    "\n",
    "The rest of our ``sim_f`` polls the task’s dynamically updated attributes for its status, determines if a successful run occurred after the task completes, then formats and returns the output data to the manager.\n",
    "\n",
    "We can poll the task and kill it in certain circumstances:"
   ]
  },
  {
   "cell_type": "code",
   "execution_count": null,
   "metadata": {},
   "outputs": [],
   "source": [
    "    # Stat file to check for bad runs\n",
    "    statfile = 'forces.stat'\n",
    "    filepath = os.path.join(task.workdir, statfile)\n",
    "    line = None\n",
    "\n",
    "    poll_interval = 1\n",
    "    while not task.finished :\n",
    "        line = read_last_line(filepath)  # Parse some output from the task\n",
    "        if line == \"kill\":\n",
    "            task.kill()\n",
    "        elif task.runtime > time_limit:\n",
    "            task.kill()\n",
    "        else:\n",
    "            time.sleep(poll_interval)\n",
    "            task.poll()                   # updates the task's attributes\n"
   ]
  },
  {
   "cell_type": "markdown",
   "metadata": {},
   "source": [
    "Once our task finishes, adjust ``calc_status`` (our “exit code”) and report to the user based on the task’s final state:"
   ]
  },
  {
   "cell_type": "code",
   "execution_count": null,
   "metadata": {},
   "outputs": [],
   "source": [
    "    if task.finished:\n",
    "        if task.state == 'FINISHED':\n",
    "            print(\"Task {} completed\".format(task.name))\n",
    "            calc_status = WORKER_DONE\n",
    "            if read_last_line(filepath) == \"kill\":\n",
    "                print(\"Warning: Task complete but marked bad (kill flag in forces.stat)\")\n",
    "        elif task.state == 'FAILED':\n",
    "            print(\"Warning: Task {} failed: Error code {}\".format(task.name, task.errcode))\n",
    "            calc_status = TASK_FAILED\n",
    "        elif task.state == 'USER_KILLED':\n",
    "            print(\"Warning: Task {} has been killed\".format(task.name))\n",
    "            calc_status = WORKER_KILL\n",
    "        else:\n",
    "            print(\"Warning: Task {} in unknown state {}. Error code {}\".format(task.name, task.state, task.errcode))"
   ]
  },
  {
   "cell_type": "markdown",
   "metadata": {},
   "source": [
    "Load output data from our task and return to the libEnsemble manager:"
   ]
  },
  {
   "cell_type": "code",
   "execution_count": null,
   "metadata": {},
   "outputs": [],
   "source": [
    "    time.sleep(0.2) # Small buffer to guarantee data has been written\n",
    "    try:\n",
    "        data = np.loadtxt(filepath)\n",
    "        final_energy = data[-1]\n",
    "    except Exception:\n",
    "        final_energy = np.nan\n",
    "\n",
    "    outspecs = sim_specs['out']\n",
    "    output = np.zeros(1, dtype=outspecs)\n",
    "    output['energy'][0] = final_energy\n",
    "\n",
    "    return output, persis_info, calc_status\n"
   ]
  },
  {
   "cell_type": "markdown",
   "metadata": {},
   "source": [
    "Calling Script\n",
    "----------------\n",
    "\n",
    "Finally, lets write our calling script to parameterize our simulation and generation functions and call libEnsemble. Create a Python file containing:"
   ]
  },
  {
   "cell_type": "code",
   "execution_count": null,
   "metadata": {},
   "outputs": [],
   "source": [
    "#!/usr/bin/env python\n",
    "import os\n",
    "import numpy as np\n",
    "from tutorial_forces_simf import run_forces  # Sim func from current dir\n",
    "\n",
    "from libensemble.libE import libE\n",
    "from libensemble.gen_funcs.sampling import uniform_random_sample\n",
    "from libensemble.tools import parse_args, add_unique_random_streams\n",
    "from libensemble.executors.mpi_executor import MPIExecutor\n",
    "\n",
    "nworkers = 4\n",
    "libE_specs = {'nworkers': nworkers, 'comms': 'local'}\n",
    "\n",
    "# Create executor and register sim to it\n",
    "exctr = MPIExecutor()  # Use auto_resources=False to oversubscribe\n",
    "\n",
    "# Create empty simulation input directory\n",
    "if not os.path.isdir('./sim'):\n",
    "    os.mkdir('./sim')\n",
    "\n",
    "# Register simulation executable with executor\n",
    "sim_app = os.path.join(os.getcwd(), 'forces.x')\n",
    "exctr.register_calc(full_path=sim_app, calc_type='sim')"
   ]
  },
  {
   "cell_type": "markdown",
   "metadata": {},
   "source": [
    "On line 4 we import our not-yet-written ``sim_f``. We also import necessary libEnsemble components and a convenience function to initiate ``persis_info``.\n",
    "\n",
    "Next we define our executor class instance. This instance can be customized with many of the settings defined here. We’ll register our simulation with the executor and use the same instance within our ``sim_f``.\n",
    "\n",
    "libEnsemble can perform and write every simulation (within the ensemble) in a separate directory for organization and potential I/O benefits. In this example, libEnsemble copies a source directory and its contents to create these simulation directories. For our purposes, an empty directory ``./sim`` is sufficient.\n",
    "\n",
    "Next define the ``sim_specs`` and ``gen_specs`` data structures:"
   ]
  },
  {
   "cell_type": "code",
   "execution_count": null,
   "metadata": {},
   "outputs": [],
   "source": [
    "# State the sim_f, its arguments, output, and parameters (and their sizes)\n",
    "sim_specs = {'sim_f': run_forces,         # sim_f, imported above\n",
    "             'in': ['x'],                 # Name of input for sim_f\n",
    "             'out': [('energy', float)],  # Name, type of output from sim_f\n",
    "             'user': {'simdir_basename': 'forces',  # User parameters for sim_f\n",
    "                      'cores': 1,\n",
    "                      'sim_particles': 1e3,\n",
    "                      'sim_timesteps': 5,\n",
    "                      'sim_kill_minutes': 10.0,\n",
    "                      'particle_variance': 0.2,\n",
    "                      'kill_rate': 0.5}\n",
    "             }\n",
    "\n",
    "# State the gen_f, its arguments, output, and necessary parameters.\n",
    "gen_specs = {'gen_f': uniform_random_sample,  # Generator function\n",
    "             'in': ['sim_id'],                # Generator input\n",
    "             'out': [('x', float, (1,))],     # Name, type and size of data from gen_f\n",
    "             'user': {'lb': np.array([0]),            # User parameters for gen_f\n",
    "                      'ub': np.array([32767]),\n",
    "                      'gen_batch_size': 1000,\n",
    "                      'batch_mode': True,\n",
    "                      'num_active_gens': 1,\n",
    "                      }\n",
    "             }"
   ]
  },
  {
   "cell_type": "markdown",
   "metadata": {},
   "source": [
    "These dictionaries configure our generation function ``gen_f`` and our simulation function ``sim_f``, respectively, as the ``uniform_random_sample`` and ``run_forces`` functions. Our ``gen_f`` will generate random seeds when initializing each ``sim_f`` call.\n",
    "\n",
    "After some additions to ``libE_specs`` and defining our ``exit_criteria`` and ``persis_info``, our script calls the main libE routine:"
   ]
  },
  {
   "cell_type": "code",
   "execution_count": null,
   "metadata": {},
   "outputs": [],
   "source": [
    "libE_specs['save_every_k_gens'] = 1000  # Save every K steps\n",
    "libE_specs['sim_input_dir'] = './sim'   # Sim dir to be copied for each worker\n",
    "\n",
    "exit_criteria = {'sim_max': 8}\n",
    "\n",
    "persis_info = add_unique_random_streams({}, nworkers + 1)\n",
    "\n",
    "H, persis_info, flag = libE(sim_specs, gen_specs, exit_criteria,\n",
    "                            persis_info=persis_info, libE_specs=libE_specs)"
   ]
  },
  {
   "cell_type": "markdown",
   "metadata": {},
   "source": [
    "This may take about a minute to complete. Output should appear in a new\n",
    "directory ``./ensemble``, with sub-directories labeled by ``sim_id`` and worker.\n",
    "\n",
    "The following lines parse and display some output."
   ]
  },
  {
   "cell_type": "code",
   "execution_count": null,
   "metadata": {},
   "outputs": [],
   "source": [
    "import os\n",
    "\n",
    "for dir in os.listdir('./ensemble'):\n",
    "    with open(os.path.join('./ensemble', dir, 'out.txt')) as f:\n",
    "        out = f.readlines()\n",
    "    print(dir + ':')\n",
    "    for line in out:\n",
    "        print(line)\n",
    "    print('-'*60)"
   ]
  },
  {
   "cell_type": "code",
   "execution_count": null,
   "metadata": {},
   "outputs": [],
   "source": []
  }
 ],
 "metadata": {
  "kernelspec": {
   "display_name": "Python 3",
   "language": "python",
   "name": "python3"
  },
  "language_info": {
   "codemirror_mode": {
    "name": "ipython",
    "version": 3
   },
   "file_extension": ".py",
   "mimetype": "text/x-python",
   "name": "python",
   "nbconvert_exporter": "python",
   "pygments_lexer": "ipython3",
   "version": "3.6.0"
  }
 },
 "nbformat": 4,
 "nbformat_minor": 2
}
