{
 "cells": [
  {
   "cell_type": "code",
   "execution_count": null,
   "metadata": {},
   "outputs": [],
   "source": [
    "%matplotlib ipympl\n",
    "import numpy as np\n",
    "import matplotlib.pyplot as plt\n",
    "from mpl_interactions import ipyplot as iplt"
   ]
  },
  {
   "cell_type": "markdown",
   "metadata": {},
   "source": [
    "# Visualizing the Lotka-Volterra Model\n",
    "\n",
    "The [Lotka-Volterra](https://en.wikipedia.org/wiki/Lotka%E2%80%93Volterra_equations) equations are a set of coupled [ordinary differential equations](https://en.wikipedia.org/wiki/Ordinary_differential_equation)(ODEs) that can be used to model predator prey relationships.\n",
    "\n",
    "They have 4 parameters that can each be tuned individually which will affect how the flucuations in population behave. In order to explore this 4D parameter space we can use `mpl_interactions`' `plot` function to plot the results of the integrated ODE and have the plot update automatically as we update the parameters. \n",
    "\n",
    "## Define the function\n"
   ]
  },
  {
   "cell_type": "code",
   "execution_count": null,
   "metadata": {},
   "outputs": [],
   "source": [
    "# this cell is based on https://scipy-cookbook.readthedocs.io/items/LoktaVolterraTutorial.html\n",
    "from scipy import integrate\n",
    "\n",
    "t = np.linspace(0, 15, 1000)  # time\n",
    "X0 = np.array([10, 5])  # initials conditions: 10 rabbits and 5 foxes\n",
    "\n",
    "\n",
    "def f(a, b, c, d):\n",
    "    def dX_dt(X, t=0):\n",
    "        \"\"\" Return the growth rate of fox and rabbit populations. \"\"\"\n",
    "        return np.array([a * X[0] - b * X[0] * X[1], -c * X[1] + d * b * X[0] * X[1]])\n",
    "    X, _ = integrate.odeint(dX_dt, X0, t, full_output=True)\n",
    "    return X"
   ]
  },
  {
   "cell_type": "markdown",
   "metadata": {},
   "source": [
    "## Make the plots\n",
    "\n",
    "Here we make two plots. On the left is a parametric plot that shows all the possible combinations of rabbits and foxes that we can have. The plot on the right has time on the X axis and shows how the fox and rabbit populations evolve in time."
   ]
  },
  {
   "cell_type": "code",
   "execution_count": null,
   "metadata": {},
   "outputs": [],
   "source": [
    "fig, (ax1, ax2) = plt.subplots(ncols=2, figsize=(10, 4.8))\n",
    "controls = iplt.plot(\n",
    "    f, ax=ax1, a=(0.5, 2), b=(0.1, 3), c=(1, 3), d=(0.1, 2), parametric=True\n",
    ")\n",
    "ax1.set_xlabel(\"rabbits\")\n",
    "ax1.set_ylabel(\"foxes\")\n",
    "\n",
    "iplt.plot(f, ax=ax2, controls=controls, label=[\"rabbits\", \"foxes\"])\n",
    "ax2.set_xlabel(\"time\")\n",
    "ax2.set_ylabel(\"population\")\n",
    "_ = ax2.legend()"
   ]
  },
  {
   "cell_type": "markdown",
   "metadata": {},
   "source": [
    "You may have noticed that as set up we will end up calling our function `f` twice every time we update the parameters. This is a bummer because now we're doing twice as much computational work as we need. A great future improvement would be to implement caching of values to prevent this. If you'd like to contribute to an open source project please swing by https://github.com/ianhi/mpl-interactions and ask about how to get started on this. We'd be happy to help point you in the right direction."
   ]
  },
  {
   "cell_type": "code",
   "execution_count": null,
   "metadata": {},
   "outputs": [],
   "source": []
  }
 ],
 "metadata": {
  "kernelspec": {
   "display_name": "Python 3",
   "language": "python",
   "name": "python3"
  },
  "language_info": {
   "codemirror_mode": {
    "name": "ipython",
    "version": 3
   },
   "file_extension": ".py",
   "mimetype": "text/x-python",
   "name": "python",
   "nbconvert_exporter": "python",
   "pygments_lexer": "ipython3",
   "version": "3.8.5"
  }
 },
 "nbformat": 4,
 "nbformat_minor": 4
}
