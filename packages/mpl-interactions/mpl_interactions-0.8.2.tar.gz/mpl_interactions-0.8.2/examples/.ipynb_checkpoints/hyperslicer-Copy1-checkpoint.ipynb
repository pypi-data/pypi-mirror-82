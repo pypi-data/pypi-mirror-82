{
 "cells": [
  {
   "cell_type": "markdown",
   "metadata": {},
   "source": [
    "# Hyperslicer Tutorial\n",
    "\n",
    "The `hyperslicer` creates sliders to select slices of a multidimensional array (a hyperstack). It minimally requires an arrary whose last two (or three, if using RGB(A) images) dimensions are the image dimensions and all previous dimensions are taken to represent slices of the hyperstack. It will automatically generate sliders that select the the relevant slice along each dimension of the input array.\n",
    "\n",
    "The example here uses a hyperspectral stimulated raman scattering stack of beads that are Raman active at different wavenumbers (No need to worry about the specifics but if you're interested, the experimental setup is very similar to what is described [here](https://pubs.acs.org/doi/abs/10.1021/jp308938t). You can download the dataset from [here](https://github.com/jrussell25/data-sharing/raw/master/srs_beads.npy). The image contains two different bead species made of PMMA and polystyrene of different sizes. Some basic information for viewing and understanding the dataset is given in the table below.\n",
    "\n",
    "\n",
    "| Bead type | Approx. Size | Peak index | Peak wavenumber |\n",
    "------------|--------------|------------|-----------------|\n",
    "PMMA        | 10 µm        | 66         | 2935 cm^(-1)    |\n",
    "Polystyrene | 5 µm         | 111        | 3033 cm^(-1)    |"
   ]
  },
  {
   "cell_type": "code",
   "execution_count": 1,
   "metadata": {},
   "outputs": [],
   "source": [
    "import pooch\n",
    "reg = {    \"data/kidney.tif\": \"80c0799bc58b08cf6eaa53ecd202305eb42fd7bc73746cb6c5064dbeae7e8476\"}\n",
    "registry_urls = {\n",
    "    \"data/cells.tif\": \"https://github.com/scikit-image/skimage-tutorials/raw/master/images/cells.tif\",\n",
    "    \"data/rank_filters_tests_3d.npz\": \"https://gitlab.com/scikit-image/data/-/raw/master/Tests_besides_Equalize_Otsu/add18_entropy/rank_filters_tests_3d.npz\",\n",
    "    \"data/brain.tiff\": \"https://gitlab.com/scikit-image/data/-/raw/master/brain.tiff\",\n",
    "    \"data/eagle.png\": \"https://gitlab.com/scikit-image/data/-/raw/master/eagle.png\",\n",
    "    \"data/kidney.tif\": \"https://gitlab.com/scikit-image/data/-/raw/master/kidney-tissue-fluorescence.tif\",\n",
    "    \"data/lily.tif\": \"https://gitlab.com/scikit-image/data/-/raw/master/lily-of-the-valley-fluorescence.tif\",\n",
    "    \"data/mitosis.tif\": \"https://gitlab.com/scikit-image/data/-/raw/master/AS_09125_050116030001_D03f00d0.tif\",\n",
    "    \"restoration/tests/astronaut_rl.npy\": \"https://gitlab.com/scikit-image/data/-/raw/master/astronaut_rl.npy\",\n",
    "}\n",
    "fetcher = pooch.create('.','',registry=reg,urls= registry_urls)\n",
    "kidney = fetcher.fetch('data/kidney.tif')\n"
   ]
  },
  {
   "cell_type": "code",
   "execution_count": 2,
   "metadata": {},
   "outputs": [],
   "source": [
    "import io\n",
    "\n",
    "import matplotlib.pyplot as plt\n",
    "import numpy as np\n",
    "import requests\n",
    "\n",
    "from skimage import io as skio\n",
    "from mpl_interactions import hyperslicer\n",
    "\n",
    "%matplotlib ipympl"
   ]
  },
  {
   "cell_type": "code",
   "execution_count": 3,
   "metadata": {},
   "outputs": [],
   "source": [
    "import tifffile\n",
    "url = \"https://github.com/scikit-image/skimage-tutorials/raw/master/images/cells.tif\"\n",
    "url = \"https://gitlab.com/scikit-image/data/-/raw/master/kidney-tissue-fluorescence.tif\"\n",
    "\n",
    "response = requests.get(\n",
    "    url\n",
    ")\n",
    "response.raise_for_status()\n",
    "heck = tifffile.imread(io.BytesIO(response.content))"
   ]
  },
  {
   "cell_type": "code",
   "execution_count": 4,
   "metadata": {},
   "outputs": [
    {
     "data": {
      "text/plain": [
       "(16, 3, 512, 512)"
      ]
     },
     "execution_count": 4,
     "metadata": {},
     "output_type": "execute_result"
    }
   ],
   "source": [
    "heck.shape"
   ]
  },
  {
   "cell_type": "code",
   "execution_count": 5,
   "metadata": {},
   "outputs": [
    {
     "data": {
      "application/vnd.jupyter.widget-view+json": {
       "model_id": "7b73b87f937a41b28649b06540394e82",
       "version_major": 2,
       "version_minor": 0
      },
      "text/plain": [
       "Canvas(toolbar=Toolbar(toolitems=[('Home', 'Reset original view', 'home', 'home'), ('Back', 'Back to previous …"
      ]
     },
     "metadata": {},
     "output_type": "display_data"
    },
    {
     "data": {
      "application/vnd.jupyter.widget-view+json": {
       "model_id": "292cb6d53a3249e7afe95994341f30f3",
       "version_major": 2,
       "version_minor": 0
      },
      "text/plain": [
       "VBox(children=(HBox(children=(IntSlider(value=0, description='z', max=15, readout=False), Label(value='0.00'))…"
      ]
     },
     "metadata": {},
     "output_type": "display_data"
    }
   ],
   "source": [
    "fig, ax = plt.subplots()\n",
    "controls = hyperslicer(heck, axes=(('z', 0, 1), ('color', {'r','g','b'})))"
   ]
  },
  {
   "cell_type": "code",
   "execution_count": 31,
   "metadata": {},
   "outputs": [],
   "source": []
  },
  {
   "cell_type": "code",
   "execution_count": 32,
   "metadata": {},
   "outputs": [
    {
     "data": {
      "text/plain": [
       "(256, 256)"
      ]
     },
     "execution_count": 32,
     "metadata": {},
     "output_type": "execute_result"
    }
   ],
   "source": [
    "heck = skio.imread(io.BytesIO(response.content),format='tif')\n",
    "heck.shape"
   ]
  },
  {
   "cell_type": "code",
   "execution_count": 34,
   "metadata": {},
   "outputs": [
    {
     "data": {
      "text/plain": [
       "array([[0.08104197, 0.06801737, 0.08972504, ..., 0.06439942, 0.09913169,\n",
       "        0.07525326],\n",
       "       [0.06222865, 0.06946454, 0.05426918, ..., 0.06946454, 0.07452967,\n",
       "        0.0788712 ],\n",
       "       [0.05209841, 0.07742402, 0.06657019, ..., 0.06222865, 0.09334298,\n",
       "        0.08248915],\n",
       "       ...,\n",
       "       [0.06078148, 0.06078148, 0.04196816, ..., 0.06729378, 0.07018813,\n",
       "        0.08972504],\n",
       "       [0.05499276, 0.06367583, 0.07018813, ..., 0.08465991, 0.08683068,\n",
       "        0.06512301],\n",
       "       [0.06222865, 0.06512301, 0.06439942, ..., 0.08176556, 0.10202605,\n",
       "        0.11432706]])"
      ]
     },
     "execution_count": 34,
     "metadata": {},
     "output_type": "execute_result"
    }
   ],
   "source": [
    "heck"
   ]
  },
  {
   "cell_type": "code",
   "execution_count": 2,
   "metadata": {},
   "outputs": [],
   "source": [
    "# Get the dataset directly from github\n",
    "response = requests.get(\n",
    "    \"https://github.com/jrussell25/data-sharing/raw/master/srs_beads.npy\"\n",
    ")\n",
    "response.raise_for_status()\n",
    "beads = np.load(io.BytesIO(response.content))"
   ]
  },
  {
   "cell_type": "code",
   "execution_count": 3,
   "metadata": {},
   "outputs": [
    {
     "name": "stdout",
     "output_type": "stream",
     "text": [
      "(126, 512, 512)\n"
     ]
    }
   ],
   "source": [
    "print(beads.shape)  # (126, 512, 512)"
   ]
  },
  {
   "cell_type": "code",
   "execution_count": null,
   "metadata": {
    "gif": "hyperslicer1.gif"
   },
   "outputs": [],
   "source": [
    "# Pass vmin and vmax for 8bit images otherwise the linear intensity slider appears useless\n",
    "fig1, ax1 = plt.subplots()\n",
    "control1 = hyperslicer(\n",
    "    beads, vmin=0, vmax=255, play_buttons=True, play_button_pos=\"left\"\n",
    ")"
   ]
  },
  {
   "cell_type": "markdown",
   "metadata": {},
   "source": [
    "`beads4d` adds a linear scale from 0-1 over the intensities at each wavenumber and demonstrates the generalization to higher dimensional stacks."
   ]
  },
  {
   "cell_type": "code",
   "execution_count": null,
   "metadata": {},
   "outputs": [],
   "source": [
    "beads4d = np.linspace(0, 1, 25)[:, None, None, None] * np.stack(\n",
    "    [beads for i in range(25)]\n",
    ")"
   ]
  },
  {
   "cell_type": "code",
   "execution_count": null,
   "metadata": {},
   "outputs": [],
   "source": [
    "print(beads4d.shape)  # (25, 126, 512, 512)"
   ]
  },
  {
   "cell_type": "code",
   "execution_count": null,
   "metadata": {
    "gif": "hyperslicer2.gif"
   },
   "outputs": [],
   "source": [
    "fig2, ax2 = plt.subplots()\n",
    "controls2 = hyperslicer(beads4d, vmin=0, vmax=255)"
   ]
  },
  {
   "cell_type": "markdown",
   "metadata": {},
   "source": [
    "### Names and Values for sliders\n",
    "\n",
    "You can also provide names and or limits to map the sliders from the integers to other numbers. For instance in the `beads4d` dataset, we can replace the first dimension with the relative intensity of the image in [0,1] and the first dimension with the relevant spectrosocpic values, Raman wavenumbers. \n",
    "\n",
    "The cells below show the two valid ways to generate these hyperslicers, first by passing a start, stop tuple and second by passing a full array containing the slider values. `hyperslicer` handles mapping these values to indices to slice the data. Either of these options can be mixed with `None` or simply omitted to generate the default integer valued sliders as above. Separately, you can provide names for each axis to replace the `axis0` style labels used by default.\n",
    "\n",
    "*Note*: Matplotlib sliders currently do not support displaying different values than the slider actually uses internally. Thus for `hyperslicer` matplotlib sliders must be IntSliders that display the values of the index of the array that you are accessing."
   ]
  },
  {
   "cell_type": "code",
   "execution_count": null,
   "metadata": {},
   "outputs": [],
   "source": [
    "wns = np.linspace(2798.6521739130435, 3064.95652173913, beads4d.shape[1])"
   ]
  },
  {
   "cell_type": "code",
   "execution_count": null,
   "metadata": {
    "gif": "hyperslicer3.gif"
   },
   "outputs": [],
   "source": [
    "fig3, ax3 = plt.subplots()\n",
    "controls3 = hyperslicer(\n",
    "    beads4d, vmin=0, vmax=255, axis0=(0, 1), axis1=wns, names=(\"linear\", \"wavenums\")\n",
    ")"
   ]
  },
  {
   "cell_type": "markdown",
   "metadata": {},
   "source": [
    "Instead of specifying the values for each axis and the names separately, one can use the `axes` keyword argument which expects a 2-tuple for each axis containing `(name, (start, stop))` or `(name, slider_value_array)`. Using the axes argument is probably the best way to use `hyperslicer`."
   ]
  },
  {
   "cell_type": "code",
   "execution_count": null,
   "metadata": {},
   "outputs": [],
   "source": [
    "fig4, ax4 = plt.subplots()\n",
    "controls4 = hyperslicer(\n",
    "    beads4d, vmin=0, vmax=255, axes=((\"linear\", (0, 1)), (\"wavenums\", wns))\n",
    ")"
   ]
  },
  {
   "cell_type": "markdown",
   "metadata": {},
   "source": [
    "If you're looking for ImageJ/FIJI type experience, adding play buttons is a nice touch."
   ]
  },
  {
   "cell_type": "code",
   "execution_count": null,
   "metadata": {
    "gif": "hyperslicer5.gif"
   },
   "outputs": [],
   "source": [
    "fig5, ax5 = plt.subplots()\n",
    "controls5 = hyperslicer(\n",
    "    beads4d,\n",
    "    vmin=0,\n",
    "    vmax=255,\n",
    "    axes=((\"linear\", (0, 1)), (\"wavenums\", wns)),\n",
    "    play_buttons=True,\n",
    "    play_button_pos=\"left\",\n",
    ")"
   ]
  },
  {
   "cell_type": "markdown",
   "metadata": {},
   "source": [
    "### Other ways of specifying axes\n",
    "\n",
    "All of the below are valid calls to hyperslicer, which generally supports omitting any of the labels or names while falling back to integer valued sliders. If you come across bugs relating to omitting values or passing `None` please feel free to [open an issue](https://github.com/ianhi/mpl-interactions/issues)."
   ]
  },
  {
   "cell_type": "code",
   "execution_count": null,
   "metadata": {},
   "outputs": [],
   "source": [
    "fig6, ax6 = plt.subplots()\n",
    "controls6 = hyperslicer(\n",
    "    beads4d, vmin=0, vmax=255, axes=((\"linear\", (0, 1)), \"wavenums\")\n",
    ")"
   ]
  },
  {
   "cell_type": "code",
   "execution_count": null,
   "metadata": {},
   "outputs": [],
   "source": [
    "fig7, ax7 = plt.subplots()\n",
    "controls7 = hyperslicer(beads4d, vmin=0, vmax=255, axes=((\"linear\", 0, 1), \"wavenums\"))"
   ]
  },
  {
   "cell_type": "code",
   "execution_count": null,
   "metadata": {},
   "outputs": [],
   "source": [
    "fig8, ax8 = plt.subplots()\n",
    "controls8 = hyperslicer(beads4d, vmin=0, vmax=255, axes=((0, 1), \"wavenums\"))"
   ]
  },
  {
   "cell_type": "code",
   "execution_count": null,
   "metadata": {},
   "outputs": [],
   "source": []
  }
 ],
 "metadata": {
  "kernelspec": {
   "display_name": "Python 3",
   "language": "python",
   "name": "python3"
  },
  "language_info": {
   "codemirror_mode": {
    "name": "ipython",
    "version": 3
   },
   "file_extension": ".py",
   "mimetype": "text/x-python",
   "name": "python",
   "nbconvert_exporter": "python",
   "pygments_lexer": "ipython3",
   "version": "3.8.5"
  }
 },
 "nbformat": 4,
 "nbformat_minor": 4
}
