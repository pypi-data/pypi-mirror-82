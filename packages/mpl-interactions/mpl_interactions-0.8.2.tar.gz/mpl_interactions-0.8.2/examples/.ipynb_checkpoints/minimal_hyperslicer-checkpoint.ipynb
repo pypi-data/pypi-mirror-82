{
 "cells": [
  {
   "cell_type": "markdown",
   "metadata": {},
   "source": [
    "# Minimal Hyperslicer Tutorial\n",
    "\n",
    "The hyperslicer function is meant to make it easier to explore imaging hyperstacks. It was designed with hyperspectral Coherent Raman Scattering in mind but should be useful for other advanced microscopy modalities such as FLIM and would play nicely with standard xyzt type stacks.\n",
    "\n",
    "Currently this minimal version simply takes an arrary whose last two dimension are the image dimensions and all previous dimensions are taken to represent other slices of the hyperstack. It will automatically generate IntSliders that select the the relevant slice along each dimension of the input array. \n",
    "\n",
    "The minimal example here uses a hyperspectral stimulated raman scattering stack of beads that are Raman active at different wavenumbers. You can download the dataset from [here](https://github.com/jrussell25/data-sharing/raw/master/srs_beads.npy). You can see the two different species with the larger beads (PMMA) peaking around frame 63 and the smaller beads (Polystyrene) peaking around frame 110."
   ]
  },
  {
   "cell_type": "code",
   "execution_count": null,
   "metadata": {},
   "outputs": [],
   "source": [
    "import numpy as np\n",
    "import matplotlib.pyplot as plt\n",
    "import requests\n",
    "import io\n",
    "from mpl_interactions import hyperslicer\n",
    "%matplotlib ipympl"
   ]
  },
  {
   "cell_type": "code",
   "execution_count": null,
   "metadata": {},
   "outputs": [],
   "source": [
    "response = requests.get('https://github.com/jrussell25/data-sharing/raw/master/srs_beads.npy')\n",
    "response.raise_for_status()\n",
    "beads = np.load(io.BytesIO(response.content)) "
   ]
  },
  {
   "cell_type": "code",
   "execution_count": null,
   "metadata": {},
   "outputs": [],
   "source": [
    "fig1, ax1, control1 = hyperslicer(beads, vmin=0, vmax=255)"
   ]
  },
  {
   "cell_type": "code",
   "execution_count": null,
   "metadata": {},
   "outputs": [],
   "source": [
    "beads4d = np.linspace(0,1,25)[:,None,None,None]*np.stack([beads for i in range(25)])"
   ]
  },
  {
   "cell_type": "markdown",
   "metadata": {},
   "source": [
    "`beads4d` adds a linear scale from 0-1 over the intensities at each wavenumber and demonstrates the generalization to higher dimensional stacks."
   ]
  },
  {
   "cell_type": "code",
   "execution_count": null,
   "metadata": {},
   "outputs": [],
   "source": [
    "fig2, ax2, controls2 = hyperslicer(beads4d, vmin=0, vmax=255)"
   ]
  },
  {
   "cell_type": "code",
   "execution_count": null,
   "metadata": {},
   "outputs": [],
   "source": []
  }
 ],
 "metadata": {
  "kernelspec": {
   "display_name": "Python 3",
   "language": "python",
   "name": "python3"
  },
  "language_info": {
   "codemirror_mode": {
    "name": "ipython",
    "version": 3
   },
   "file_extension": ".py",
   "mimetype": "text/x-python",
   "name": "python",
   "nbconvert_exporter": "python",
   "pygments_lexer": "ipython3",
   "version": "3.8.5"
  }
 },
 "nbformat": 4,
 "nbformat_minor": 4
}
