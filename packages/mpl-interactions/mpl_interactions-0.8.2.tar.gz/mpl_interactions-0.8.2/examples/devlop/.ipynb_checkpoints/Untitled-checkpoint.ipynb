{
 "cells": [
  {
   "cell_type": "code",
   "execution_count": 9,
   "metadata": {},
   "outputs": [],
   "source": [
    "%matplotlib ipympl\n",
    "import matplotlib.pyplot as plt\n",
    "import numpy as np\n",
    "from ipywidgets import interact\n",
    "import ipywidgets as widgets\n",
    "import mpl_interactions.ipyplot as iplt"
   ]
  },
  {
   "cell_type": "code",
   "execution_count": 4,
   "metadata": {},
   "outputs": [
    {
     "data": {
      "text/plain": [
       "<Figure size 432x288 with 0 Axes>"
      ]
     },
     "metadata": {},
     "output_type": "display_data"
    },
    {
     "data": {
      "application/vnd.jupyter.widget-view+json": {
       "model_id": "85479da1faea49e9b1efe325ff550be2",
       "version_major": 2,
       "version_minor": 0
      },
      "text/plain": [
       "interactive(children=(Checkbox(value=False, description='Spiral'), IntSlider(value=2000, description='n', max=…"
      ]
     },
     "metadata": {},
     "output_type": "display_data"
    }
   ],
   "source": [
    "# plt.figure(figsize=(24,24))\n",
    "fig = plt.figure()\n",
    "\n",
    "\n",
    "@interact\n",
    "def spiral(Spiral=False, n=2000, x1=50, y1=50, z1=50, k1=300):\n",
    "    if Spiral == False:\n",
    "        x = 0\n",
    "        y = 0\n",
    "        plt.scatter(x, y, s=3, c=\"black\")\n",
    "    else:\n",
    "        angle = np.linspace(x1, y1 * 1 * np.pi, n)\n",
    "        radius = np.linspace(z1, k1, n)\n",
    "        x = radius * np.cos(angle) + 150\n",
    "        y = radius * np.sin(angle) + 150\n",
    "        plt.scatter(x, y, s=3, c=\"black\")\n",
    "\n",
    "\n",
    "# @interact\n",
    "# def contrast(vuc=(0.2,1,0.01),vlc=(0.1,1,0.01)):\n",
    "#     vu = np.quantile(qphi, vuc);\n",
    "    vl = np.quantile(qphi, vlc);\n",
    "#     print(\"upper =\",vu, \" lower=\",vl);\n",
    "\n",
    "\n",
    "# plt.imshow(qphi, origin='lower',vmin=vl,vmax=vu);\n",
    "plt.show()"
   ]
  },
  {
   "cell_type": "code",
   "execution_count": 18,
   "metadata": {},
   "outputs": [
    {
     "data": {
      "application/vnd.jupyter.widget-view+json": {
       "model_id": "c180145cf35045e4af3a56891383acf8",
       "version_major": 2,
       "version_minor": 0
      },
      "text/plain": [
       "Canvas(toolbar=Toolbar(toolitems=[('Home', 'Reset original view', 'home', 'home'), ('Back', 'Back to previous …"
      ]
     },
     "metadata": {},
     "output_type": "display_data"
    },
    {
     "data": {
      "application/vnd.jupyter.widget-view+json": {
       "model_id": "86ac64e9b10646d294ef2473041c9f4c",
       "version_major": 2,
       "version_minor": 0
      },
      "text/plain": [
       "VBox(children=(RadioButtons(options=(True, False), value=True), HBox(children=(IntSlider(value=0, description=…"
      ]
     },
     "metadata": {},
     "output_type": "display_data"
    },
    {
     "data": {
      "application/vnd.jupyter.widget-view+json": {
       "model_id": "797245ee6a6949dba7ad100b78221f93",
       "version_major": 2,
       "version_minor": 0
      },
      "text/plain": [
       "Output()"
      ]
     },
     "metadata": {},
     "output_type": "display_data"
    }
   ],
   "source": [
    "%matplotlib ipympl\n",
    "import matplotlib.pyplot as plt\n",
    "import numpy as np\n",
    "import ipywidgets as widgets\n",
    "import mpl_interactions.ipyplot as iplt\n",
    "\n",
    "# define the functions to be plotted\n",
    "def spiral(Spiral=False, n=2000, x1=50, y1=50, z1=50, k1=300):\n",
    "    if Spiral == False:\n",
    "        x = 0\n",
    "        y = 0\n",
    "        return x, y\n",
    "    else:\n",
    "        angle = np.linspace(x1, y1 * 1 * np.pi, n)\n",
    "        radius = np.linspace(z1, k1, n)\n",
    "        x = radius * np.cos(angle) + 150\n",
    "        y = radius * np.sin(angle) + 150\n",
    "        return x, y\n",
    "\n",
    "\n",
    "# Do some trickery with an output widget to capture the print statements\n",
    "out = widgets.Output()\n",
    "def vmin(vuc, vlc):\n",
    "    out.clear_output()\n",
    "    vl = np.quantile(img, vlc)\n",
    "    with out:\n",
    "        print(vl)\n",
    "    return vl\n",
    "\n",
    "\n",
    "def vmax(vlc, vuc):\n",
    "    vu = np.quantile(img, vuc)\n",
    "    with out:\n",
    "        print(vu)\n",
    "    return vu\n",
    "\n",
    "\n",
    "fig, (ax1, ax2) = plt.subplots(1,2, figsize=(12,5))\n",
    "controls = iplt.scatter(\n",
    "    spiral,\n",
    "    Spiral={(True, False)},\n",
    "    n=np.arange(1800, 2200),\n",
    "    x1=(25, 75),\n",
    "    y1=(25, 75),\n",
    "    z1=(25, 75),\n",
    "    k1=(200, 400),\n",
    "    parametric=True,\n",
    "    s= 3,\n",
    "    c=\"black\",\n",
    "    ax=ax1\n",
    ")\n",
    "# load a dummy image\n",
    "img = plt.imread(\"https://matplotlib.org/3.3.1/_images/stinkbug.png\") # I think this will break in maptlotlib 3.4\n",
    "controls = iplt.imshow(img, vmin=vmin, vmax=vmax, vuc=(.1, 1, 1000), vlc=(.1, 1, 1000), controls=controls[None], ax=ax2)\n",
    "\n",
    "# display the print statements\n",
    "display(out)"
   ]
  },
  {
   "cell_type": "code",
   "execution_count": 5,
   "metadata": {},
   "outputs": [
    {
     "data": {
      "text/plain": [
       "array([0.49411765, 0.8509804 , 0.17254902])"
      ]
     },
     "execution_count": 5,
     "metadata": {},
     "output_type": "execute_result"
    }
   ],
   "source": [
    "np.quantile(img, (.1, 1,0.01))"
   ]
  },
  {
   "cell_type": "code",
   "execution_count": null,
   "metadata": {},
   "outputs": [],
   "source": [
    "\n",
    "\n",
    "def vmin(min_, max_):\n",
    "    return min(min_, max_)\n",
    "\n",
    "\n",
    "def vmax(min_, max_):\n",
    "    return max(min_, max_)\n",
    "\n",
    "\n",
    "fig4, ax4 = plt.subplots()\n",
    "controls4 = iplt.imshow(img, vmin=vmin, vmax=vmax, min_=(0, 0.7), max_=(0.3, 1))"
   ]
  }
 ],
 "metadata": {
  "kernelspec": {
   "display_name": "Python 3",
   "language": "python",
   "name": "python3"
  },
  "language_info": {
   "codemirror_mode": {
    "name": "ipython",
    "version": 3
   },
   "file_extension": ".py",
   "mimetype": "text/x-python",
   "name": "python",
   "nbconvert_exporter": "python",
   "pygments_lexer": "ipython3",
   "version": "3.8.5"
  }
 },
 "nbformat": 4,
 "nbformat_minor": 4
}
