{
 "cells": [
  {
   "cell_type": "markdown",
   "metadata": {},
   "source": [
    "## Danger zone. This notebook is just here to be convenient for development"
   ]
  },
  {
   "cell_type": "code",
   "execution_count": 1,
   "metadata": {},
   "outputs": [],
   "source": [
    "%matplotlib ipympl\n",
    "import matplotlib.pyplot as plt\n",
    "import numpy as np\n",
    "import ipywidgets as widgets\n",
    "%load_ext autoreload\n",
    "%autoreload 2\n",
    "from mpl_interactions import *"
   ]
  },
  {
   "cell_type": "code",
   "execution_count": 2,
   "metadata": {},
   "outputs": [
    {
     "data": {
      "application/vnd.jupyter.widget-view+json": {
       "model_id": "f4214a26ee654475806fa5825eda5059",
       "version_major": 2,
       "version_minor": 0
      },
      "text/plain": [
       "VBox(children=(VBox(children=(HBox(children=(IntSlider(value=0, description='mean', max=99, readout=False), La…"
      ]
     },
     "metadata": {},
     "output_type": "display_data"
    }
   ],
   "source": [
    "N = 50\n",
    "def f(mean):\n",
    "    return np.random.rand(N) + mean\n",
    "def f2(x,mean):\n",
    "    return np.random.rand(N) - mean\n",
    "blarg = interactive_scatter(f,f2, mean = (0, 1, 100), s = None, c = [np.random.randn(N),np.random.randn(N)])"
   ]
  },
  {
   "cell_type": "code",
   "execution_count": 3,
   "metadata": {},
   "outputs": [
    {
     "data": {
      "application/vnd.jupyter.widget-view+json": {
       "model_id": "154146a8e587404dab8c0838caf3e2ff",
       "version_major": 2,
       "version_minor": 0
      },
      "text/plain": [
       "VBox(children=(VBox(children=(HBox(children=(IntSlider(value=0, description='mean', max=99, readout=False), La…"
      ]
     },
     "metadata": {},
     "output_type": "display_data"
    }
   ],
   "source": [
    "\n",
    "N = 50\n",
    "mean = 0\n",
    "x =  np.random.rand(N) + mean\n",
    "def f1(x, mean):\n",
    "    return np.random.rand(N) + mean\n",
    "def f2(x,mean):\n",
    "    return np.random.rand(N) - mean\n",
    "blarg = interactive_scatter(x,[f1,f2], mean = (0, 1, 100), s = None, c = ['red', 'blue'])"
   ]
  },
  {
   "cell_type": "code",
   "execution_count": 4,
   "metadata": {},
   "outputs": [
    {
     "data": {
      "application/vnd.jupyter.widget-view+json": {
       "model_id": "d47ddb13c12d4d979074f9e625a9df2b",
       "version_major": 2,
       "version_minor": 0
      },
      "text/plain": [
       "VBox(children=(VBox(children=(HBox(children=(IntSlider(value=0, description='mean', max=99, readout=False), La…"
      ]
     },
     "metadata": {},
     "output_type": "display_data"
    }
   ],
   "source": [
    "\n",
    "N = 50\n",
    "mean = 0\n",
    "x =  np.random.rand(N) + mean\n",
    "def f1(x, mean):\n",
    "    return np.random.rand(N) + mean\n",
    "def f2(x,mean):\n",
    "    return np.random.rand(N) - mean\n",
    "c = np.random.rand(N,4)\n",
    "blarg = interactive_scatter(x,[f1,f2], mean = (0, 1, 100), s = None, c = c)"
   ]
  },
  {
   "cell_type": "code",
   "execution_count": 7,
   "metadata": {},
   "outputs": [
    {
     "data": {
      "application/vnd.jupyter.widget-view+json": {
       "model_id": "4c7f702954ba4ace93ace27d335136bb",
       "version_major": 2,
       "version_minor": 0
      },
      "text/plain": [
       "VBox(children=(VBox(children=(HBox(children=(IntSlider(value=0, description='mean', max=99, readout=False), La…"
      ]
     },
     "metadata": {},
     "output_type": "display_data"
    }
   ],
   "source": [
    "\n",
    "def c_func1(x,y, mean):\n",
    "    return x\n",
    "def c_func2(x,y, mean):\n",
    "    return y\n",
    "blarg = interactive_scatter(x,[f1,f2], mean = (0, 1, 100), s = None, c = [c_func1, c_func2])"
   ]
  },
  {
   "cell_type": "code",
   "execution_count": 14,
   "metadata": {},
   "outputs": [
    {
     "data": {
      "application/vnd.jupyter.widget-view+json": {
       "model_id": "888d2139fccb4fabb0959b59e209ec2d",
       "version_major": 2,
       "version_minor": 0
      },
      "text/plain": [
       "VBox(children=(VBox(children=(HBox(children=(IntSlider(value=0, description='mean', max=99, readout=False), La…"
      ]
     },
     "metadata": {},
     "output_type": "display_data"
    }
   ],
   "source": [
    "\n",
    "def c_func1(x,y, mean):\n",
    "    arr = np.random.rand(N, 4)\n",
    "    arr[1,:] = 0\n",
    "    return arr\n",
    "def c_func2(x,y, mean):\n",
    "    arr = np.random.rand(N, 4)\n",
    "    arr[:,[1,2]] = 0\n",
    "    return arr\n",
    "\n",
    "blarg = interactive_scatter(x,[f1,f2], mean = (0, 1, 100), s = None, c = [c_func1, c_func2])"
   ]
  },
  {
   "cell_type": "markdown",
   "metadata": {},
   "source": [
    "## Modifying other attributes - broadcastable\n",
    "\n",
    "The arguments for `c`, `s`, and `edgecolors` will broadcast over functions. So you can either give a single function, or a list of functions of the same length as the number of functions you want to plot the scatter of."
   ]
  },
  {
   "cell_type": "code",
   "execution_count": 5,
   "metadata": {},
   "outputs": [
    {
     "data": {
      "application/vnd.jupyter.widget-view+json": {
       "model_id": "7722fa7b8668435b80b69f76ca4393c0",
       "version_major": 2,
       "version_minor": 0
      },
      "text/plain": [
       "VBox(children=(VBox(children=(HBox(children=(IntSlider(value=0, description='mean', max=99, readout=False), La…"
      ]
     },
     "metadata": {},
     "output_type": "display_data"
    }
   ],
   "source": [
    "N = 50\n",
    "mean =  0\n",
    "x = np.random.rand(N) + mean - .5\n",
    "def f(x, mean):\n",
    "    return np.random.rand(N) + mean - .5\n",
    "def c_func(x,y, mean):\n",
    "    return x\n",
    "def s_func(x,y, mean):\n",
    "    return np.abs(40/(x+.001))\n",
    "def ec_func(x,y,mean):\n",
    "    if np.random.rand() >.5:\n",
    "        return 'black'\n",
    "    else:\n",
    "        return 'red'\n",
    "blarg = interactive_scatter(x, f, mean = (0, 1, 100), c= c_func, s=s_func, alpha=.5, edgecolors=ec_func)"
   ]
  },
  {
   "cell_type": "markdown",
   "metadata": {},
   "source": [
    "`alpha` will broadcast accross functions but "
   ]
  },
  {
   "cell_type": "code",
   "execution_count": 6,
   "metadata": {},
   "outputs": [
    {
     "data": {
      "application/vnd.jupyter.widget-view+json": {
       "model_id": "d12598c4647946e69a086dac198d7366",
       "version_major": 2,
       "version_minor": 0
      },
      "text/plain": [
       "VBox(children=(VBox(children=(HBox(children=(IntSlider(value=0, description='mean', max=99, readout=False), La…"
      ]
     },
     "metadata": {},
     "output_type": "display_data"
    }
   ],
   "source": [
    "def alpha_func(mean):\n",
    "    return mean / 1.\n",
    "mean = .5\n",
    "x = -np.random.rand(N)\n",
    "y = np.random.rand(N) + mean - .5\n",
    "blarg2 = interactive_scatter(x,y, mean = (0.1, 1, 100), c= c_func, s=s_func, alpha=alpha_func, edgecolors=ec_func)"
   ]
  },
  {
   "cell_type": "code",
   "execution_count": 62,
   "metadata": {},
   "outputs": [
    {
     "data": {
      "text/plain": [
       "-0.9999725403540604"
      ]
     },
     "execution_count": 62,
     "metadata": {},
     "output_type": "execute_result"
    }
   ],
   "source": [
    "np.min(x)"
   ]
  },
  {
   "cell_type": "code",
   "execution_count": 65,
   "metadata": {},
   "outputs": [
    {
     "data": {
      "application/vnd.jupyter.widget-view+json": {
       "model_id": "f0f09a4a78d24fc4aac457340a364250",
       "version_major": 2,
       "version_minor": 0
      },
      "text/plain": [
       "VBox(children=(VBox(children=(HBox(children=(IntSlider(value=0, description='mean', max=99, readout=False), La…"
      ]
     },
     "metadata": {},
     "output_type": "display_data"
    }
   ],
   "source": [
    "N = 500\n",
    "x = np.random.rand(N) - .5\n",
    "y = np.random.rand(N) - .5\n",
    "def f(mean):\n",
    "    x = (np.random.rand(N)-.5) + mean\n",
    "    y = 10*(np.random.rand(N)-.5) + mean\n",
    "    return x, y  \n",
    "def threshold(x,y,mean):\n",
    "    colors = np.zeros((len(x), 4))\n",
    "    colors[:,-1] = 1\n",
    "    deltas = np.abs(y - mean)\n",
    "    idx = deltas < .01\n",
    "    deltas /= deltas.max()\n",
    "    colors[~idx, -1] = np.clip(.8-deltas[~idx],0,1)\n",
    "#     print(colors)\n",
    "    return colors\n",
    "\n",
    "blarg2 = interactive_scatter(x,y, mean = (0, 1, 100), alpha = None, c= threshold)"
   ]
  },
  {
   "cell_type": "code",
   "execution_count": null,
   "metadata": {},
   "outputs": [],
   "source": [
    "plt.scatter()"
   ]
  }
 ],
 "metadata": {
  "kernelspec": {
   "display_name": "Python 3",
   "language": "python",
   "name": "python3"
  },
  "language_info": {
   "codemirror_mode": {
    "name": "ipython",
    "version": 3
   },
   "file_extension": ".py",
   "mimetype": "text/x-python",
   "name": "python",
   "nbconvert_exporter": "python",
   "pygments_lexer": "ipython3",
   "version": "3.7.8"
  }
 },
 "nbformat": 4,
 "nbformat_minor": 4
}
