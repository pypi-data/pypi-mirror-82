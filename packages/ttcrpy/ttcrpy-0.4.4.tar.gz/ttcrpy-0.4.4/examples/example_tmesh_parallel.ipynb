{
 "cells": [
  {
   "cell_type": "markdown",
   "metadata": {},
   "source": [
    "# Example - parallel computation"
   ]
  },
  {
   "cell_type": "code",
   "execution_count": 2,
   "metadata": {},
   "outputs": [],
   "source": [
    "import numpy as np\n",
    "import pygmsh\n",
    "from ttcrpy import tmesh\n",
    "from numpy.random import default_rng"
   ]
  },
  {
   "cell_type": "markdown",
   "metadata": {},
   "source": [
    "Define a function for slowness"
   ]
  },
  {
   "cell_type": "code",
   "execution_count": 18,
   "metadata": {},
   "outputs": [],
   "source": [
    "def f(z):\n",
    "    return 1.0 / (1.5 + 4.5*z)"
   ]
  },
  {
   "cell_type": "code",
   "execution_count": 19,
   "metadata": {},
   "outputs": [
    {
     "name": "stdout",
     "output_type": "stream",
     "text": [
      "Info    : Running 'gmsh -3 /var/folders/j6/s0152dxj3q54bsjvw2s42b0m0000gn/T/tmpkcevih03.geo -format msh -bin -o /var/folders/j6/s0152dxj3q54bsjvw2s42b0m0000gn/T/tmpf2quna1_.msh' [Gmsh 4.5.6, 1 node, max. 1 thread]\n",
      "Info    : Started on Sat Aug 22 21:43:46 2020\n",
      "Info    : Reading '/var/folders/j6/s0152dxj3q54bsjvw2s42b0m0000gn/T/tmpkcevih03.geo'...\n",
      "Info    : Done reading '/var/folders/j6/s0152dxj3q54bsjvw2s42b0m0000gn/T/tmpkcevih03.geo'\n",
      "Info    : Meshing 1D...\n",
      "Info    : [  0 %] Meshing curve 1 (Line)\n",
      "Info    : [ 10 %] Meshing curve 2 (Line)\n",
      "Info    : [ 20 %] Meshing curve 3 (Line)\n",
      "Info    : [ 30 %] Meshing curve 4 (Line)\n",
      "Info    : [ 40 %] Meshing curve 5 (Line)\n",
      "Info    : [ 50 %] Meshing curve 6 (Line)\n",
      "Info    : [ 50 %] Meshing curve 7 (Line)\n",
      "Info    : [ 60 %] Meshing curve 8 (Line)\n",
      "Info    : [ 70 %] Meshing curve 9 (Line)\n",
      "Info    : [ 80 %] Meshing curve 10 (Line)\n",
      "Info    : [ 90 %] Meshing curve 11 (Line)\n",
      "Info    : [100 %] Meshing curve 12 (Line)\n",
      "Info    : Done meshing 1D (0.001092 s)\n",
      "Info    : Meshing 2D...\n",
      "Info    : [  0 %] Meshing surface 19 (Surface, Frontal-Delaunay)\n",
      "Info    : [ 20 %] Meshing surface 20 (Surface, Frontal-Delaunay)\n",
      "Info    : [ 40 %] Meshing surface 21 (Surface, Frontal-Delaunay)\n",
      "Info    : [ 50 %] Meshing surface 22 (Surface, Frontal-Delaunay)\n",
      "Info    : [ 70 %] Meshing surface 23 (Surface, Frontal-Delaunay)\n",
      "Info    : [ 90 %] Meshing surface 24 (Surface, Frontal-Delaunay)\n",
      "Info    : Done meshing 2D (0.231606 s)\n",
      "Info    : Meshing 3D...\n",
      "Info    : 3D Meshing 1 volume with 1 connected component\n",
      "Info    : Tetrahedrization of 4094 nodes in 0.056088 seconds\n",
      "Info    : Reconstructing mesh...\n",
      "Info    :  - Creating surface mesh\n",
      "Info    :  - Identifying boundary edges\n",
      "Info    :  - Recovering boundary\n",
      "Info    :  - Added 1 Steiner point\n",
      "Info    : Done reconstructing mesh (0.122714 s)\n",
      "Info    : Found volume 26\n",
      "Info    : It. 0 - 0 nodes created - worst tet radius 25.5283 (nodes removed 0 0)\n",
      "Info    : It. 500 - 494 nodes created - worst tet radius 2.32831 (nodes removed 0 6)\n",
      "Info    : It. 1000 - 994 nodes created - worst tet radius 1.89739 (nodes removed 0 6)\n",
      "Info    : It. 1500 - 1494 nodes created - worst tet radius 1.69472 (nodes removed 0 6)\n",
      "Info    : It. 2000 - 1994 nodes created - worst tet radius 1.54729 (nodes removed 0 6)\n",
      "Info    : It. 2500 - 2494 nodes created - worst tet radius 1.43958 (nodes removed 0 6)\n",
      "Info    : It. 3000 - 2994 nodes created - worst tet radius 1.36114 (nodes removed 0 6)\n",
      "Info    : It. 3500 - 3494 nodes created - worst tet radius 1.29707 (nodes removed 0 6)\n",
      "Info    : It. 4000 - 3994 nodes created - worst tet radius 1.24886 (nodes removed 0 6)\n",
      "Info    : It. 4500 - 4494 nodes created - worst tet radius 1.20331 (nodes removed 0 6)\n",
      "Info    : It. 5000 - 4994 nodes created - worst tet radius 1.161 (nodes removed 0 6)\n",
      "Info    : It. 5500 - 5494 nodes created - worst tet radius 1.12934 (nodes removed 0 6)\n",
      "Info    : It. 6000 - 5994 nodes created - worst tet radius 1.10002 (nodes removed 0 6)\n",
      "Info    : It. 6500 - 6494 nodes created - worst tet radius 1.07352 (nodes removed 0 6)\n",
      "Info    : It. 7000 - 6994 nodes created - worst tet radius 1.05068 (nodes removed 0 6)\n",
      "Info    : It. 7500 - 7494 nodes created - worst tet radius 1.0298 (nodes removed 0 6)\n",
      "Info    : It. 8000 - 7994 nodes created - worst tet radius 1.00921 (nodes removed 0 6)\n",
      "Info    : 3D refinement terminated (12331 nodes total):\n",
      "Info    :  - 1 Delaunay cavities modified for star shapeness\n",
      "Info    :  - 6 nodes could not be inserted\n",
      "Info    :  - 65049 tetrahedra created in 0.487011 sec. (133567 tets/s)\n",
      "Info    : Done meshing 3D (0.800018 s)\n",
      "Info    : Optimizing mesh...\n",
      "Info    : Optimizing volume 26\n",
      "Info    : Optimization starts (volume = 1) with worst = 0.00331811 / average = 0.782447:\n",
      "Info    : 0.00 < quality < 0.10 :       148 elements\n",
      "Info    : 0.10 < quality < 0.20 :       405 elements\n",
      "Info    : 0.20 < quality < 0.30 :       660 elements\n",
      "Info    : 0.30 < quality < 0.40 :      1116 elements\n",
      "Info    : 0.40 < quality < 0.50 :      1686 elements\n",
      "Info    : 0.50 < quality < 0.60 :      2842 elements\n",
      "Info    : 0.60 < quality < 0.70 :      6375 elements\n",
      "Info    : 0.70 < quality < 0.80 :     14828 elements\n",
      "Info    : 0.80 < quality < 0.90 :     24413 elements\n",
      "Info    : 0.90 < quality < 1.00 :     12573 elements\n",
      "Info    : 1202 edge swaps, 30 node relocations (volume = 1): worst = 0.219515 / average = 0.794157 (0.050332 s)\n",
      "Info    : 1205 edge swaps, 31 node relocations (volume = 1): worst = 0.222059 / average = 0.794173 (0.058809 s)\n",
      "Info    : 1206 edge swaps, 32 node relocations (volume = 1): worst = 0.222059 / average = 0.794183 (0.067138 s)\n",
      "Info    : No ill-shaped tets in the mesh :-)\n",
      "Info    : 0.00 < quality < 0.10 :         0 elements\n",
      "Info    : 0.10 < quality < 0.20 :         0 elements\n",
      "Info    : 0.20 < quality < 0.30 :         1 elements\n",
      "Info    : 0.30 < quality < 0.40 :      1113 elements\n",
      "Info    : 0.40 < quality < 0.50 :      1615 elements\n",
      "Info    : 0.50 < quality < 0.60 :      2748 elements\n",
      "Info    : 0.60 < quality < 0.70 :      6372 elements\n",
      "Info    : 0.70 < quality < 0.80 :     15023 elements\n",
      "Info    : 0.80 < quality < 0.90 :     24549 elements\n",
      "Info    : 0.90 < quality < 1.00 :     12541 elements\n",
      "Info    : Done optimizing mesh (0.148975 s)\n",
      "Info    : 12330 nodes 72429 elements\n",
      "Info    : Writing '/var/folders/j6/s0152dxj3q54bsjvw2s42b0m0000gn/T/tmpf2quna1_.msh'...\n",
      "Info    : Done writing '/var/folders/j6/s0152dxj3q54bsjvw2s42b0m0000gn/T/tmpf2quna1_.msh'\n",
      "Info    : Stopped on Sat Aug 22 21:43:47 2020\n"
     ]
    }
   ],
   "source": [
    "geom = pygmsh.built_in.Geometry()\n",
    "lcar = 0.042\n",
    "geom.add_box(0.0, 1.0, 0.0, 1.0, 0.0, 1.0, lcar=lcar)\n",
    "msh = pygmsh.generate_mesh(geom)"
   ]
  },
  {
   "cell_type": "markdown",
   "metadata": {},
   "source": [
    "Create some variables"
   ]
  },
  {
   "cell_type": "code",
   "execution_count": 20,
   "metadata": {},
   "outputs": [],
   "source": [
    "slowness = f(msh.points[:,2])\n",
    "n_threads = np.arange(2, 9)\n",
    "\n",
    "rng = default_rng(1966)\n",
    "\n",
    "src = rng.uniform(0.01, 0.99, (100, 3))\n",
    "rcv = rng.uniform(0.05, 0.95, (100, 3))\n"
   ]
  },
  {
   "cell_type": "code",
   "execution_count": 21,
   "metadata": {},
   "outputs": [],
   "source": [
    "tm = tmesh.Mesh3d(msh.points, tetra=msh.cells_dict['tetra'], method='DSPM', cell_slowness=0)\n",
    "tm.set_slowness(slowness)"
   ]
  },
  {
   "cell_type": "code",
   "execution_count": 22,
   "metadata": {},
   "outputs": [
    {
     "ename": "AttributeError",
     "evalue": "'ttcrpy.tmesh.Mesh3d' object has no attribute 'is_outside'",
     "output_type": "error",
     "traceback": [
      "\u001b[0;31m---------------------------------------------------------------------------\u001b[0m",
      "\u001b[0;31mAttributeError\u001b[0m                            Traceback (most recent call last)",
      "\u001b[0;32m<ipython-input-22-4351e655b2a1>\u001b[0m in \u001b[0;36m<module>\u001b[0;34m\u001b[0m\n\u001b[0;32m----> 1\u001b[0;31m \u001b[0mtt\u001b[0m \u001b[0;34m=\u001b[0m \u001b[0mtm\u001b[0m\u001b[0;34m.\u001b[0m\u001b[0mraytrace\u001b[0m\u001b[0;34m(\u001b[0m\u001b[0msrc\u001b[0m\u001b[0;34m[\u001b[0m\u001b[0;34m:\u001b[0m\u001b[0;36m10\u001b[0m\u001b[0;34m,\u001b[0m\u001b[0;34m:\u001b[0m\u001b[0;34m]\u001b[0m\u001b[0;34m,\u001b[0m \u001b[0mrcv\u001b[0m\u001b[0;34m)\u001b[0m\u001b[0;34m\u001b[0m\u001b[0;34m\u001b[0m\u001b[0m\n\u001b[0m",
      "\u001b[0;32m~/src/ttcr/ttcrpy/tmesh.pyx\u001b[0m in \u001b[0;36mttcrpy.tmesh.Mesh3d.raytrace\u001b[0;34m()\u001b[0m\n",
      "\u001b[0;31mAttributeError\u001b[0m: 'ttcrpy.tmesh.Mesh3d' object has no attribute 'is_outside'"
     ]
    }
   ],
   "source": [
    "tt = tm.raytrace(src[:10,:], rcv)"
   ]
  },
  {
   "cell_type": "code",
   "execution_count": 4,
   "metadata": {},
   "outputs": [
    {
     "name": "stdout",
     "output_type": "stream",
     "text": [
      "0\n",
      "1\n",
      "2\n",
      "3\n",
      "4\n",
      "5\n",
      "6\n",
      "7\n",
      "8\n",
      "9\n",
      "10\n",
      "11\n"
     ]
    }
   ],
   "source": [
    "pts = np.arange(12)\n",
    "pts.reshape((4,3))\n",
    "for p in pts:\n",
    "    print(p)"
   ]
  },
  {
   "cell_type": "code",
   "execution_count": null,
   "metadata": {},
   "outputs": [],
   "source": []
  }
 ],
 "metadata": {
  "kernelspec": {
   "display_name": "Python 3",
   "language": "python",
   "name": "python3"
  },
  "language_info": {
   "codemirror_mode": {
    "name": "ipython",
    "version": 3
   },
   "file_extension": ".py",
   "mimetype": "text/x-python",
   "name": "python",
   "nbconvert_exporter": "python",
   "pygments_lexer": "ipython3",
   "version": "3.8.5"
  }
 },
 "nbformat": 4,
 "nbformat_minor": 4
}
