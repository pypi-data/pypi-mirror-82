{
 "cells": [
  {
   "cell_type": "code",
   "execution_count": null,
   "metadata": {},
   "outputs": [],
   "source": [
    "\"\"\"\n",
    "This file should test the documentation is working as expected.\n",
    "\n",
    "Instructions:\n",
    "1. Click the documentation button the toolbar. \n",
    "2. Scroll through the documentation and select 2 random functions, and make sure they have the correct information.\n",
    "    - Read the documentation in full, see if you notice any errors!\n",
    "    - Mark down what functions you look at.\n",
    "3. Close the documentation.\n",
    "\"\"\"\n",
    "import mitosheet\n",
    "import pandas as pd\n",
    "\n",
    "df = pd.DataFrame(data={'A': [\"Jake Diamond-Revich\", \"Aaron Diamond-Reivich\", \"Nate Rush\"]})\n",
    "mitosheet.sheet(df)"
   ]
  }
 ],
 "metadata": {
  "kernelspec": {
   "display_name": "Python 3",
   "language": "python",
   "name": "python3"
  },
  "language_info": {
   "codemirror_mode": {
    "name": "ipython",
    "version": 3
   },
   "file_extension": ".py",
   "mimetype": "text/x-python",
   "name": "python",
   "nbconvert_exporter": "python",
   "pygments_lexer": "ipython3",
   "version": "3.8.5"
  },
  "widgets": {
   "application/vnd.jupyter.widget-state+json": {
    "state": {
     "7a9162b59690460db8e0dd9010e26d28": {
      "model_module": "mitosheet",
      "model_module_version": "^0.1.25",
      "model_name": "ExampleModel",
      "state": {
       "_model_module_version": "^0.1.25",
       "_view_module_version": "^0.1.25",
       "code_json": "{\"imports\": \"from mitosheet import AVG,CLEAN,CONCAT,FIND,LEFT,LEN,LOWER,MID,MULTIPLY,PROPER,RIGHT,SUBSTITUTE,SUM,TRIM,UPPER\", \"code\": [\"# Edit the sheet to create the analysis!\", \"pass\"]}",
       "column_spreadsheet_code_json": "[{\"A\": \"\"}]",
       "df_name": "",
       "df_names": "",
       "layout": "IPY_MODEL_c42de1994ebf4059b0a19db9c8d47360",
       "sheet_json": "[{\"columns\": [\"A\"], \"index\": [0, 1, 2], \"data\": [[\"Jake Diamond-Revich\"], [\"Aaron Diamond-Reivich\"], [\"Nate Rush\"]]}]",
       "user_id": "nate",
       "value": "Hello World"
      }
     },
     "c42de1994ebf4059b0a19db9c8d47360": {
      "model_module": "@jupyter-widgets/base",
      "model_module_version": "1.2.0",
      "model_name": "LayoutModel",
      "state": {}
     }
    },
    "version_major": 2,
    "version_minor": 0
   }
  }
 },
 "nbformat": 4,
 "nbformat_minor": 4
}
