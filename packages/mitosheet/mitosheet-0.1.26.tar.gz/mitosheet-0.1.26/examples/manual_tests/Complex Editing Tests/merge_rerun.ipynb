{
 "cells": [
  {
   "cell_type": "code",
   "execution_count": null,
   "metadata": {},
   "outputs": [],
   "source": [
    "\"\"\"\n",
    "This file tests some repetitive merging functionality with Mito, where\n",
    "the merged sheet is then used as part of another merge\n",
    "\n",
    "Instructions:\n",
    "1. Run this cell\n",
    "2. Click the merge button in the toolbar and merge df1 and df2 together on Key1 and Key2, respectivly\n",
    "3. Check that a new sheet, sheet3, is created and that it contains only 4 rows. The first row should read: A, 1, A, 5. \n",
    "4. Rerun this cell. \n",
    "5. Check that the sheet, sheet3, is still there. \n",
    "6. On Sheet df1, create a new column and set it equal to column Key1\n",
    "7. On Sheet df2, create a new column and set it equal to column Key2 \n",
    "8. On Sheet3, create a new column and set it to =CONCAT(Key1, Key2)\n",
    "9. Take a look at each sheet, rerun the codeblock and make sure that each sheet did not change. \n",
    "10. Open the Merge modal\n",
    "    1. Set First Sheet to df1\n",
    "    2. Set Second Sheet to df3\n",
    "    3. Check to make sure that the keys automatically updated to Key1 and Key1\n",
    "    4. Click Merge\n",
    "11. Note: there is currently a bug here! We need to get back to the most recent step. Otherwise, we just overwrite the merge code\n",
    "\"\"\"\n",
    "\n",
    "    \n",
    "import pandas as pd\n",
    "import mitosheet\n",
    "df1 = pd.DataFrame(data={'Key1': ['A', 'B', 'C', 'D'], 'value': [1,2,3,4]})\n",
    "df2 = pd.DataFrame(data={'Key2': ['A', 'A', 'B', 'B'], 'value': [5,6,7,8]})\n",
    "mitosheet.sheet(df1, df2)"
   ]
  }
 ],
 "metadata": {
  "kernelspec": {
   "display_name": "Python 3",
   "language": "python",
   "name": "python3"
  },
  "language_info": {
   "codemirror_mode": {
    "name": "ipython",
    "version": 3
   },
   "file_extension": ".py",
   "mimetype": "text/x-python",
   "name": "python",
   "nbconvert_exporter": "python",
   "pygments_lexer": "ipython3",
   "version": "3.8.5"
  },
  "widgets": {
   "application/vnd.jupyter.widget-state+json": {
    "state": {
     "16d4c9386c2e49dea8077a651f0ed96d": {
      "model_module": "mitosheet",
      "model_module_version": "^0.1.25",
      "model_name": "ExampleModel",
      "state": {
       "_model_module_version": "^0.1.25",
       "_view_module_version": "^0.1.25",
       "code_json": "{\"imports\": \"from mitosheet import AVG,CLEAN,CONCAT,FIND,LEFT,LEN,LOWER,MID,MULTIPLY,PROPER,RIGHT,SUBSTITUTE,SUM,TRIM,UPPER\", \"code\": [\"# Edit the sheet to create the analysis!\", \"pass\"]}",
       "column_spreadsheet_code_json": "[{\"Key1\": \"\", \"value\": \"\"}, {\"Key2\": \"\", \"value\": \"\"}]",
       "df_name": "",
       "df_names": "",
       "layout": "IPY_MODEL_d420064ea86049b69063b6e3431a0ec9",
       "sheet_json": "[{\"columns\": [\"Key1\", \"value\"], \"index\": [0, 1, 2, 3], \"data\": [[\"A\", 1], [\"B\", 2], [\"C\", 3], [\"D\", 4]]}, {\"columns\": [\"Key2\", \"value\"], \"index\": [0, 1, 2, 3], \"data\": [[\"A\", 5], [\"A\", 6], [\"B\", 7], [\"B\", 8]]}]",
       "user_id": "nate",
       "value": "Hello World"
      }
     },
     "d420064ea86049b69063b6e3431a0ec9": {
      "model_module": "@jupyter-widgets/base",
      "model_module_version": "1.2.0",
      "model_name": "LayoutModel",
      "state": {}
     }
    },
    "version_major": 2,
    "version_minor": 0
   }
  }
 },
 "nbformat": 4,
 "nbformat_minor": 4
}
