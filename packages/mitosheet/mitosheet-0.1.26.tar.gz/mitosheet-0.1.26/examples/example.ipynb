{
 "cells": [
  {
   "cell_type": "code",
   "execution_count": 6,
   "metadata": {},
   "outputs": [
    {
     "data": {
      "application/vnd.jupyter.widget-view+json": {
       "model_id": "a14fcdedbb3e4c1fb2e62fb55d947a4d",
       "version_major": 2,
       "version_minor": 0
      },
      "text/plain": [
       "MitoWidget(code_json='{\"imports\": \"from mitosheet import AVG,CLEAN,CONCAT,FIND,LEFT,LEN,LOWER,MID,MULTIPLY,PRO…"
      ]
     },
     "metadata": {},
     "output_type": "display_data"
    }
   ],
   "source": [
    "import pandas as pd\n",
    "import mitosheet\n",
    "first = pd.DataFrame(data={'id': [123], 'first_name': ['Nate'],})\n",
    "second = pd.DataFrame(data={'id': [123], 'last_name': ['Rush']})\n",
    "mitosheet.sheet(first)"
   ]
  },
  {
   "cell_type": "code",
   "execution_count": null,
   "metadata": {},
   "outputs": [],
   "source": []
  }
 ],
 "metadata": {
  "kernelspec": {
   "display_name": "Python 3",
   "language": "python",
   "name": "python3"
  },
  "language_info": {
   "codemirror_mode": {
    "name": "ipython",
    "version": 3
   },
   "file_extension": ".py",
   "mimetype": "text/x-python",
   "name": "python",
   "nbconvert_exporter": "python",
   "pygments_lexer": "ipython3",
   "version": "3.8.5"
  },
  "widgets": {
   "application/vnd.jupyter.widget-state+json": {
    "state": {
     "0761f8524dad45f9a69afca6bad7e366": {
      "model_module": "mitosheet",
      "model_module_version": "^0.1.24",
      "model_name": "ExampleModel",
      "state": {
       "_model_module_version": "^0.1.24",
       "_view_module_version": "^0.1.24",
       "code_json": "{\"imports\": \"from mitosheet import AVG,CLEAN,CONCAT,FIND,LEFT,LEN,LOWER,MID,MULTIPLY,PROPER,RIGHT,SUBSTITUTE,SUM,TRIM,UPPER\", \"code\": [\"# Edit the sheet to create the analysis!\", \"pass\"]}",
       "column_spreadsheet_code_json": "[{\"id\": \"\", \"first_name\": \"\"}]",
       "df_name": "",
       "df_names": "",
       "layout": "IPY_MODEL_5ab7367ce1f948f7b45a3f3b4a001c1f",
       "sheet_json": "[{\"columns\": [\"id\", \"first_name\"], \"index\": [0], \"data\": [[123, \"Nate\"]]}]",
       "user_id": "nate",
       "value": "Hello World"
      }
     },
     "167e901138704600bf625a2f6d8e6b49": {
      "model_module": "mitosheet",
      "model_module_version": "^0.1.24",
      "model_name": "ExampleModel",
      "state": {
       "_model_module_version": "^0.1.24",
       "_view_module_version": "^0.1.24",
       "code_json": "{\"imports\": \"from mitosheet import AVG,CLEAN,CONCAT,FIND,LEFT,LEN,LOWER,MID,MULTIPLY,PROPER,RIGHT,SUBSTITUTE,SUM,TRIM,UPPER\", \"code\": [\"# Edit the sheet to create the analysis!\", \"pass\"]}",
       "column_spreadsheet_code_json": "[{\"id\": \"\", \"first_name\": \"\"}]",
       "df_name": "",
       "df_names": "{\"dfNames\":[\"first\"]}",
       "layout": "IPY_MODEL_292c8ac405a1447a9a5f771329fa9061",
       "sheet_json": "[{\"columns\": [\"id\", \"first_name\"], \"index\": [0], \"data\": [[123, \"Nate\"]]}]",
       "user_id": "nate",
       "value": "Hello World"
      }
     },
     "292c8ac405a1447a9a5f771329fa9061": {
      "model_module": "@jupyter-widgets/base",
      "model_module_version": "1.2.0",
      "model_name": "LayoutModel",
      "state": {}
     },
     "5ab7367ce1f948f7b45a3f3b4a001c1f": {
      "model_module": "@jupyter-widgets/base",
      "model_module_version": "1.2.0",
      "model_name": "LayoutModel",
      "state": {}
     },
     "9e7cc8c474184603a1d69ff81cad2ea1": {
      "model_module": "mitosheet",
      "model_module_version": "^0.1.24",
      "model_name": "ExampleModel",
      "state": {
       "_model_module_version": "^0.1.24",
       "_view_module_version": "^0.1.24",
       "code_json": "{\"imports\": \"from mitosheet import AVG,CLEAN,CONCAT,FIND,LEFT,LEN,LOWER,MID,MULTIPLY,PROPER,RIGHT,SUBSTITUTE,SUM,TRIM,UPPER\", \"code\": [\"temp_df = df2.drop_duplicates(subset='id')\\n    df3 = df1.merge(df2, left_on=['id'], right_on=['id'], how='left')\", \"df3['D'] = CONCAT(df3['first_name'], \\\" \\\", df3['last_name'])\"]}",
       "column_spreadsheet_code_json": "[{\"id\": \"\", \"first_name\": \"\"}, {\"id\": \"\", \"last_name\": \"\"}, {\"id\": \"\", \"first_name\": \"\", \"last_name\": \"\", \"D\": \"=CONCAT(first_name, \\\" \\\", last_name)\"}]",
       "df_name": "",
       "df_names": "",
       "layout": "IPY_MODEL_b3aaf211850c4ac781d57cc8c31756c0",
       "sheet_json": "[{\"columns\": [\"id\", \"first_name\"], \"index\": [0], \"data\": [[123, \"Nate\"]]}, {\"columns\": [\"id\", \"last_name\"], \"index\": [0], \"data\": [[123, \"Rush\"]]}, {\"columns\": [\"id\", \"first_name\", \"last_name\", \"D\"], \"index\": [0], \"data\": [[123, \"Nate\", \"Rush\", \"Nate Rush\"]]}]",
       "user_id": "nate",
       "value": "Hello World"
      }
     },
     "a14fcdedbb3e4c1fb2e62fb55d947a4d": {
      "model_module": "mitosheet",
      "model_module_version": "^0.1.24",
      "model_name": "ExampleModel",
      "state": {
       "_model_module_version": "^0.1.24",
       "_view_module_version": "^0.1.24",
       "code_json": "{\"imports\": \"from mitosheet import AVG,CLEAN,CONCAT,FIND,LEFT,LEN,LOWER,MID,MULTIPLY,PROPER,RIGHT,SUBSTITUTE,SUM,TRIM,UPPER\", \"code\": [\"# Edit the sheet to create the analysis!\", \"pass\"]}",
       "column_spreadsheet_code_json": "[{\"id\": \"\", \"first_name\": \"\"}]",
       "df_name": "",
       "df_names": "{\"dfNames\":[\"first\"]}",
       "layout": "IPY_MODEL_d381ee0802c640cdae15fb1e54d1972e",
       "sheet_json": "[{\"columns\": [\"id\", \"first_name\"], \"index\": [0], \"data\": [[123, \"Nate\"]]}]",
       "user_id": "nate",
       "value": "Hello World"
      }
     },
     "b3aaf211850c4ac781d57cc8c31756c0": {
      "model_module": "@jupyter-widgets/base",
      "model_module_version": "1.2.0",
      "model_name": "LayoutModel",
      "state": {}
     },
     "d381ee0802c640cdae15fb1e54d1972e": {
      "model_module": "@jupyter-widgets/base",
      "model_module_version": "1.2.0",
      "model_name": "LayoutModel",
      "state": {}
     },
     "e313c5c81b9b4a918f7144b7aafd48f8": {
      "model_module": "mitosheet",
      "model_module_version": "^0.1.24",
      "model_name": "ExampleModel",
      "state": {
       "_model_module_version": "^0.1.24",
       "_view_module_version": "^0.1.24",
       "code_json": "{\"imports\": \"from mitosheet import AVG,CLEAN,CONCAT,FIND,LEFT,LEN,LOWER,MID,MULTIPLY,PROPER,RIGHT,SUBSTITUTE,SUM,TRIM,UPPER\", \"code\": [\"# Edit the sheet to create the analysis!\", \"pass\"]}",
       "column_spreadsheet_code_json": "[{\"id\": \"\", \"first_name\": \"\"}]",
       "df_name": "",
       "df_names": "{\"dfNames\":[\"first\"]}",
       "layout": "IPY_MODEL_f1627687a882464a8bda1300e392d061",
       "sheet_json": "[{\"columns\": [\"id\", \"first_name\"], \"index\": [0], \"data\": [[123, \"Nate\"]]}]",
       "user_id": "nate",
       "value": "Hello World"
      }
     },
     "f1627687a882464a8bda1300e392d061": {
      "model_module": "@jupyter-widgets/base",
      "model_module_version": "1.2.0",
      "model_name": "LayoutModel",
      "state": {}
     }
    },
    "version_major": 2,
    "version_minor": 0
   }
  }
 },
 "nbformat": 4,
 "nbformat_minor": 4
}
