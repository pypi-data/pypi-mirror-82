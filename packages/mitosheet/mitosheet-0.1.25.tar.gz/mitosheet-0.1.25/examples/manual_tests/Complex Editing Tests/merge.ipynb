{
 "cells": [
  {
   "cell_type": "code",
   "execution_count": 4,
   "metadata": {},
   "outputs": [
    {
     "data": {
      "application/vnd.jupyter.widget-view+json": {
       "model_id": "d636e25edc44467fb71f6ef532277c05",
       "version_major": 2,
       "version_minor": 0
      },
      "text/plain": [
       "MitoWidget(code_json='{\"imports\": \"from mitosheet import AVG,CLEAN,CONCAT,FIND,LEFT,LEN,LOWER,MID,MULTIPLY,PRO…"
      ]
     },
     "metadata": {},
     "output_type": "display_data"
    }
   ],
   "source": [
    "\"\"\"\n",
    "This file tests some repetitive merging functionality with Mito, where\n",
    "the merged sheet is then used as part of another merge\n",
    "\n",
    "Instructions:\n",
    "1. Run this cell\n",
    "2. Click the merge button in the toolbar and merge df1 and df2 together on Key1 and Key2, respectivly\n",
    "3. Check that a new sheet, sheet3, is created and that it contains only 4 rows. The first row should read: A, 1, A, 5. \n",
    "4. Rerun this cell. \n",
    "5. Check that the sheet, sheet3, is still there. \n",
    "6. On Sheet df1, create a new column and set it equal to column Key1\n",
    "7. On Sheet df2, create a new column and set it equal to column Key2 \n",
    "8. On Sheet3, create a new column and set it to =CONCAT(Key1, Key2)\n",
    "9. Take a look at each sheet, rerun the codeblock and make sure that each sheet did not change. \n",
    "10. Open the Merge modal\n",
    "    1. Set First Sheet to df1\n",
    "    2. Set Second Sheet to df3\n",
    "    3. Check to make sure that the keys automatically updated to Key1 and Key1\n",
    "    4. Click Merge\n",
    "11. Note: there is currently a bug here! We need to get back to the most recent step. Otherwise, we just overwrite the merge code\n",
    "\"\"\"\n",
    "\n",
    "    \n",
    "import pandas as pd\n",
    "import mitosheet\n",
    "df1 = pd.DataFrame(data={'Key1': ['A', 'B', 'C', 'D'], 'value': [1,2,3,4]})\n",
    "df2 = pd.DataFrame(data={'Key2': ['A', 'A', 'B', 'B'], 'value': [5,6,7,8]})\n",
    "\n",
    "\n",
    "\n",
    "# MITO CODE START (DO NOT EDIT)\n",
    "# SAVED-ANALYSIS-START[{\"Key1\":\"\",\"value\":\"\",\"C\":\"=Key1\"},{\"Key2\":\"\",\"value\":\"\",\"C\":\"=Key2\"},{\"Key1\":\"\",\"value_x\":\"\",\"Key2\":\"\",\"value_y\":\"\",\"E\":\"=CONCAT(Key1,Key2)\"},{\"Key1\":\"\",\"value\":\"\",\"C\":\"\",\"value_x\":\"\",\"Key2\":\"\",\"value_y\":\"\",\"E\":\"\"}]SAVED-ANALYSIS-END\n",
    "\n",
    "from mitosheet import AVG,CLEAN,CONCAT,FIND,LEFT,LEN,LOWER,MID,MULTIPLY,PROPER,RIGHT,SUBSTITUTE,SUM,TRIM,UPPER\n",
    "\n",
    "def mito_analysis(df1, df2, df3):\n",
    "    df1['C'] = df1['Key1']\n",
    "\n",
    "    df2['C'] = df2['Key2']\n",
    "\n",
    "    df3['E'] = CONCAT(df3['Key1'],df3['Key2'])\n",
    "\n",
    "    temp_df = df3.drop_duplicates(subset='Key1')\n",
    "    df4 = df1.merge(df3, left_on=['Key1'], right_on=['Key1'], how='left')\n",
    "\n",
    "    df1['C'] = df1['Key1']\n",
    "\n",
    "    df2['C'] = df2['Key2']\n",
    "\n",
    "    df3['E'] = CONCAT(df3['Key1'],df3['Key2'])\n",
    "\n",
    "    return df1, df2, df3, df4\n",
    "\n",
    "\n",
    "df1, df2, df3, df4 =  mito_analysis(df1,  df2,  df3)\n",
    "  \n",
    "# MITO CODE END (DO NOT EDIT)\n",
    "\n",
    "mitosheet.sheet(df1, df2, df3, df4)"
   ]
  },
  {
   "cell_type": "code",
   "execution_count": null,
   "metadata": {},
   "outputs": [],
   "source": []
  }
 ],
 "metadata": {
  "kernelspec": {
   "display_name": "Python 3",
   "language": "python",
   "name": "python3"
  },
  "language_info": {
   "codemirror_mode": {
    "name": "ipython",
    "version": 3
   },
   "file_extension": ".py",
   "mimetype": "text/x-python",
   "name": "python",
   "nbconvert_exporter": "python",
   "pygments_lexer": "ipython3",
   "version": "3.8.2"
  }
 },
 "nbformat": 4,
 "nbformat_minor": 4
}
