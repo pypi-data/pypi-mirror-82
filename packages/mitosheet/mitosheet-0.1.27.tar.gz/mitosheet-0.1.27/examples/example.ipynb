{
 "cells": [
  {
   "cell_type": "code",
   "execution_count": 1,
   "metadata": {},
   "outputs": [
    {
     "data": {
      "application/vnd.jupyter.widget-view+json": {
       "model_id": "9e7cc8c474184603a1d69ff81cad2ea1",
       "version_major": 2,
       "version_minor": 0
      },
      "text/plain": [
       "MitoWidget(code_json='{\"imports\": \"from mitosheet import AVG,CLEAN,CONCAT,FIND,LEFT,LEN,LOWER,MID,MULTIPLY,PRO…"
      ]
     },
     "metadata": {},
     "output_type": "display_data"
    }
   ],
   "source": [
    "import pandas as pd\n",
    "import mitosheet\n",
    "first = pd.DataFrame(data={'id': [123], 'first_name': ['Nate'],})\n",
    "second = pd.DataFrame(data={'id': [123], 'last_name': ['Rush']})\n",
    "\n",
    "# MITO CODE START (DO NOT EDIT)\n",
    "# SAVED-ANALYSIS-START[{\"id\":\"\",\"first_name\":\"\"},{\"id\":\"\",\"last_name\":\"\"},{\"id\":\"\",\"first_name\":\"\",\"last_name\":\"\",\"D\":\"=CONCAT(first_name, \\\" \\\", last_name)\"}]SAVED-ANALYSIS-END\n",
    "\n",
    "from mitosheet import AVG,CLEAN,CONCAT,FIND,LEFT,LEN,LOWER,MID,MULTIPLY,PROPER,RIGHT,SUBSTITUTE,SUM,TRIM,UPPER\n",
    "\n",
    "def mito_analysis(df1, df2):\n",
    "    temp_df = df2.drop_duplicates(subset='id')\n",
    "    df3 = df1.merge(df2, left_on=['id'], right_on=['id'], how='left')\n",
    "\n",
    "    df3['D'] = CONCAT(df3['first_name'], \" \", df3['last_name'])\n",
    "\n",
    "    return df1, df2, df3\n",
    "\n",
    "\n",
    "df1, df2, df3 = mito_analysis(first, second)\n",
    "  \n",
    "# MITO CODE END (DO NOT EDIT)\n",
    "\n",
    "mitosheet.sheet(df1, df2, df3)"
   ]
  },
  {
   "cell_type": "code",
   "execution_count": null,
   "metadata": {},
   "outputs": [],
   "source": []
  }
 ],
 "metadata": {
  "kernelspec": {
   "display_name": "Python 3",
   "language": "python",
   "name": "python3"
  },
  "language_info": {
   "codemirror_mode": {
    "name": "ipython",
    "version": 3
   },
   "file_extension": ".py",
   "mimetype": "text/x-python",
   "name": "python",
   "nbconvert_exporter": "python",
   "pygments_lexer": "ipython3",
   "version": "3.8.5"
  },
  "widgets": {
   "application/vnd.jupyter.widget-state+json": {
    "state": {
     "9e7cc8c474184603a1d69ff81cad2ea1": {
      "model_module": "mitosheet",
      "model_module_version": "^0.1.24",
      "model_name": "ExampleModel",
      "state": {
       "_model_module_version": "^0.1.24",
       "_view_module_version": "^0.1.24",
       "code_json": "{\"imports\": \"from mitosheet import AVG,CLEAN,CONCAT,FIND,LEFT,LEN,LOWER,MID,MULTIPLY,PROPER,RIGHT,SUBSTITUTE,SUM,TRIM,UPPER\", \"code\": [\"temp_df = df2.drop_duplicates(subset='id')\\n    df3 = df1.merge(df2, left_on=['id'], right_on=['id'], how='left')\", \"df3['D'] = CONCAT(df3['first_name'], \\\" \\\", df3['last_name'])\"]}",
       "column_spreadsheet_code_json": "[{\"id\": \"\", \"first_name\": \"\"}, {\"id\": \"\", \"last_name\": \"\"}, {\"id\": \"\", \"first_name\": \"\", \"last_name\": \"\", \"D\": \"=CONCAT(first_name, \\\" \\\", last_name)\"}]",
       "df_name": "",
       "df_names": "{\"dfNames\":[\"first\",\"last\"]}",
       "layout": "IPY_MODEL_b3aaf211850c4ac781d57cc8c31756c0",
       "sheet_json": "[{\"columns\": [\"id\", \"first_name\"], \"index\": [0], \"data\": [[123, \"Nate\"]]}, {\"columns\": [\"id\", \"last_name\"], \"index\": [0], \"data\": [[123, \"Rush\"]]}, {\"columns\": [\"id\", \"first_name\", \"last_name\", \"D\"], \"index\": [0], \"data\": [[123, \"Nate\", \"Rush\", \"Nate Rush\"]]}]",
       "user_id": "nate",
       "value": "Hello World"
      }
     },
     "b3aaf211850c4ac781d57cc8c31756c0": {
      "model_module": "@jupyter-widgets/base",
      "model_module_version": "1.2.0",
      "model_name": "LayoutModel",
      "state": {}
     }
    },
    "version_major": 2,
    "version_minor": 0
   }
  }
 },
 "nbformat": 4,
 "nbformat_minor": 4
}
