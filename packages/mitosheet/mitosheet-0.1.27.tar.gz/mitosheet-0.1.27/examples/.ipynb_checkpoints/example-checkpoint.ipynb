{
 "cells": [
  {
   "cell_type": "code",
   "execution_count": 5,
   "metadata": {},
   "outputs": [
    {
     "data": {
      "application/vnd.jupyter.widget-view+json": {
       "model_id": "e88722e3b263412fb11cdb01de1df3a2",
       "version_major": 2,
       "version_minor": 0
      },
      "text/plain": [
       "MitoWidget(code_json='{\"imports\": \"from mitosheet import AVG,CLEAN,CONCAT,FIND,LEFT,LEN,LOWER,MID,MULTIPLY,PRO…"
      ]
     },
     "metadata": {},
     "output_type": "display_data"
    }
   ],
   "source": [
    "import pandas as pd\n",
    "import mitosheet\n",
    "first = pd.DataFrame(data={'id': [123], 'first_name': ['Nate'],})\n",
    "second = pd.DataFrame(data={'id': [123], 'last_name': ['Rush']})\n",
    "mitosheet.sheet(first, second)"
   ]
  },
  {
   "cell_type": "code",
   "execution_count": null,
   "metadata": {},
   "outputs": [],
   "source": []
  }
 ],
 "metadata": {
  "kernelspec": {
   "display_name": "Python 3",
   "language": "python",
   "name": "python3"
  },
  "language_info": {
   "codemirror_mode": {
    "name": "ipython",
    "version": 3
   },
   "file_extension": ".py",
   "mimetype": "text/x-python",
   "name": "python",
   "nbconvert_exporter": "python",
   "pygments_lexer": "ipython3",
   "version": "3.8.5"
  },
  "widgets": {
   "application/vnd.jupyter.widget-state+json": {
    "state": {
     "0e361cd113734e67b6feec9d22f63224": {
      "model_module": "@jupyter-widgets/base",
      "model_module_version": "1.2.0",
      "model_name": "LayoutModel",
      "state": {}
     },
     "2ce0d3f2ee204623a994bad88aa78c10": {
      "model_module": "@jupyter-widgets/base",
      "model_module_version": "1.2.0",
      "model_name": "LayoutModel",
      "state": {}
     },
     "32c4d7948fe34e37bc57ef6405c19649": {
      "model_module": "mitosheet",
      "model_module_version": "^0.1.24",
      "model_name": "ExampleModel",
      "state": {
       "_model_module_version": "^0.1.24",
       "_view_module_version": "^0.1.24",
       "code_json": "{\"imports\": \"from mitosheet import AVG,CLEAN,CONCAT,FIND,LEFT,LEN,LOWER,MID,MULTIPLY,PROPER,RIGHT,SUBSTITUTE,SUM,TRIM,UPPER\", \"code\": [\"temp_df = df2.drop_duplicates(subset='id')\\n    df3 = df1.merge(df2, left_on=['id'], right_on=['id'], how='left')\"]}",
       "column_spreadsheet_code_json": "[{\"id\": \"\", \"first_name\": \"\"}, {\"id\": \"\", \"last_name\": \"\"}, {\"id\": \"\", \"first_name\": \"\", \"last_name\": \"\"}]",
       "df_name": "",
       "df_names": "",
       "layout": "IPY_MODEL_2ce0d3f2ee204623a994bad88aa78c10",
       "sheet_json": "[{\"columns\": [\"id\", \"first_name\"], \"index\": [0], \"data\": [[123, \"Nate\"]]}, {\"columns\": [\"id\", \"last_name\"], \"index\": [0], \"data\": [[123, \"Rush\"]]}, {\"columns\": [\"id\", \"first_name\", \"last_name\"], \"index\": [0], \"data\": [[123, \"Nate\", \"Rush\"]]}]",
       "user_id": "nate",
       "value": "Hello World"
      }
     },
     "45b4b656e5d946668ca8848d5a977936": {
      "model_module": "mitosheet",
      "model_module_version": "^0.1.24",
      "model_name": "ExampleModel",
      "state": {
       "_model_module_version": "^0.1.24",
       "_view_module_version": "^0.1.24",
       "code_json": "{\"imports\": \"from mitosheet import AVG,CLEAN,CONCAT,FIND,LEFT,LEN,LOWER,MID,MULTIPLY,PROPER,RIGHT,SUBSTITUTE,SUM,TRIM,UPPER\", \"code\": [\"temp_df = df2.drop_duplicates(subset='id')\\n    df3 = df1.merge(df2, left_on=['id'], right_on=['id'], how='left')\"]}",
       "column_spreadsheet_code_json": "[{\"id\": \"\", \"first_name\": \"\"}, {\"id\": \"\", \"last_name\": \"\"}, {\"id\": \"\", \"first_name\": \"\", \"last_name\": \"\"}]",
       "df_name": "",
       "df_names": "",
       "layout": "IPY_MODEL_de1b645e967744a0b851e65b90e96f4e",
       "sheet_json": "[{\"columns\": [\"id\", \"first_name\"], \"index\": [0], \"data\": [[123, \"Nate\"]]}, {\"columns\": [\"id\", \"last_name\"], \"index\": [0], \"data\": [[123, \"Rush\"]]}, {\"columns\": [\"id\", \"first_name\", \"last_name\"], \"index\": [0], \"data\": [[123, \"Nate\", \"Rush\"]]}]",
       "user_id": "nate",
       "value": "Hello World"
      }
     },
     "521577bd9c484e0a963090a5684d4417": {
      "model_module": "@jupyter-widgets/base",
      "model_module_version": "1.2.0",
      "model_name": "LayoutModel",
      "state": {}
     },
     "58fb12100e7b48a786f96f3be65cd476": {
      "model_module": "@jupyter-widgets/base",
      "model_module_version": "1.2.0",
      "model_name": "LayoutModel",
      "state": {}
     },
     "79b3070c92e544ddbe84ed03e1693c83": {
      "model_module": "mitosheet",
      "model_module_version": "^0.1.24",
      "model_name": "ExampleModel",
      "state": {
       "_model_module_version": "^0.1.24",
       "_view_module_version": "^0.1.24",
       "code_json": "{\"imports\": \"from mitosheet import AVG,CLEAN,CONCAT,FIND,LEFT,LEN,LOWER,MID,MULTIPLY,PROPER,RIGHT,SUBSTITUTE,SUM,TRIM,UPPER\", \"code\": [\"temp_df = df2.drop_duplicates(subset='id')\\n    df3 = df1.merge(df2, left_on=['id'], right_on=['id'], how='left')\"]}",
       "column_spreadsheet_code_json": "[{\"id\": \"\", \"first_name\": \"\"}, {\"id\": \"\", \"last_name\": \"\"}, {\"id\": \"\", \"first_name\": \"\", \"last_name\": \"\"}]",
       "df_name": "",
       "df_names": "{\"dfNames\":[\"first\",\"second\"]}",
       "layout": "IPY_MODEL_58fb12100e7b48a786f96f3be65cd476",
       "sheet_json": "[{\"columns\": [\"id\", \"first_name\"], \"index\": [0], \"data\": [[123, \"Nate\"]]}, {\"columns\": [\"id\", \"last_name\"], \"index\": [0], \"data\": [[123, \"Rush\"]]}, {\"columns\": [\"id\", \"first_name\", \"last_name\"], \"index\": [0], \"data\": [[123, \"Nate\", \"Rush\"]]}]",
       "user_id": "nate",
       "value": "Hello World"
      }
     },
     "de1b645e967744a0b851e65b90e96f4e": {
      "model_module": "@jupyter-widgets/base",
      "model_module_version": "1.2.0",
      "model_name": "LayoutModel",
      "state": {}
     },
     "e193a74777a5480e8b7fddd4da64d317": {
      "model_module": "mitosheet",
      "model_module_version": "^0.1.24",
      "model_name": "ExampleModel",
      "state": {
       "_model_module_version": "^0.1.24",
       "_view_module_version": "^0.1.24",
       "code_json": "{\"imports\": \"from mitosheet import AVG,CLEAN,CONCAT,FIND,LEFT,LEN,LOWER,MID,MULTIPLY,PROPER,RIGHT,SUBSTITUTE,SUM,TRIM,UPPER\", \"code\": [\"# Edit the sheet to create the analysis!\", \"pass\"]}",
       "column_spreadsheet_code_json": "[{\"id\": \"\", \"abc\": \"\"}, {\"A\": \"\", \"id\": \"\", \"C\": \"\", \"E\": \"\", \"F\": \"\", \"G\": \"\", \"H\": \"\", \"I\": \"\", \"J\": \"\", \"K\": \"\"}, {\"test\": \"\", \"name\": \"\", \"id\": \"\"}, {\"id\": \"\", \"dork\": \"\"}]",
       "df_name": "",
       "df_names": "",
       "layout": "IPY_MODEL_0e361cd113734e67b6feec9d22f63224",
       "sheet_json": "[{\"columns\": [\"id\", \"abc\"], \"index\": [0], \"data\": [[123, 123]]}, {\"columns\": [\"A\", \"id\", \"C\", \"E\", \"F\", \"G\", \"H\", \"I\", \"J\", \"K\"], \"index\": [0], \"data\": [[123, 123, 123, 123, 123, 123, 123, 123, 123, 123]]}, {\"columns\": [\"test\", \"name\", \"id\"], \"index\": [0], \"data\": [[123, 123, 123]]}, {\"columns\": [\"id\", \"dork\"], \"index\": [0], \"data\": [[123, 123]]}]",
       "user_id": "nate",
       "value": "Hello World"
      }
     },
     "e88722e3b263412fb11cdb01de1df3a2": {
      "model_module": "mitosheet",
      "model_module_version": "^0.1.24",
      "model_name": "ExampleModel",
      "state": {
       "_model_module_version": "^0.1.24",
       "_view_module_version": "^0.1.24",
       "code_json": "{\"imports\": \"from mitosheet import AVG,CLEAN,CONCAT,FIND,LEFT,LEN,LOWER,MID,MULTIPLY,PROPER,RIGHT,SUBSTITUTE,SUM,TRIM,UPPER\", \"code\": [\"temp_df = df2.drop_duplicates(subset='id')\\n    df3 = df1.merge(df2, left_on=['id'], right_on=['id'], how='left')\"]}",
       "column_spreadsheet_code_json": "[{\"id\": \"\", \"first_name\": \"\"}, {\"id\": \"\", \"last_name\": \"\"}, {\"id\": \"\", \"first_name\": \"\", \"last_name\": \"\"}]",
       "df_name": "",
       "df_names": "{\"dfNames\":[\"first\",\"second\"]}",
       "layout": "IPY_MODEL_521577bd9c484e0a963090a5684d4417",
       "sheet_json": "[{\"columns\": [\"id\", \"first_name\"], \"index\": [0], \"data\": [[123, \"Nate\"]]}, {\"columns\": [\"id\", \"last_name\"], \"index\": [0], \"data\": [[123, \"Rush\"]]}, {\"columns\": [\"id\", \"first_name\", \"last_name\"], \"index\": [0], \"data\": [[123, \"Nate\", \"Rush\"]]}]",
       "user_id": "nate",
       "value": "Hello World"
      }
     }
    },
    "version_major": 2,
    "version_minor": 0
   }
  }
 },
 "nbformat": 4,
 "nbformat_minor": 4
}
