{
 "metadata": {
  "language_info": {
   "codemirror_mode": {
    "name": "ipython",
    "version": 3
   },
   "file_extension": ".py",
   "mimetype": "text/x-python",
   "name": "python",
   "nbconvert_exporter": "python",
   "pygments_lexer": "ipython3",
   "version": "3.8.6-final"
  },
  "orig_nbformat": 2,
  "kernelspec": {
   "name": "Python 3.8.6 64-bit ('bng')",
   "display_name": "Python 3.8.6 64-bit ('bng')",
   "metadata": {
    "interpreter": {
     "hash": "c74b756d0728a8af4513004bc68561ba9d13b4a385434128432f1a1d5c5d10b0"
    }
   }
  }
 },
 "nbformat": 4,
 "nbformat_minor": 2,
 "cells": [
  {
   "cell_type": "code",
   "execution_count": 1,
   "metadata": {},
   "outputs": [],
   "source": [
    "import zipfile\n",
    "from pathlib import Path\n",
    "import os\n",
    "\n",
    "from beamngpy import BeamNGpy, Scenario, Vehicle, setup_logging"
   ]
  },
  {
   "cell_type": "code",
   "execution_count": 2,
   "metadata": {},
   "outputs": [
    {
     "output_type": "stream",
     "name": "stderr",
     "text": [
      "2020-10-13 18:07:52,012 INFO     Started BeamNGpy logging.\n",
      "2020-10-13 18:07:52,014 DEBUG    Determined BeamNG.* binary to be: C:\\Users\\Smeik\\BeamNG\\game\\Bin64\\BeamNG.drive.x64.exe\n"
     ]
    }
   ],
   "source": [
    "setup_logging()\n",
    "beamng = BeamNGpy('localhost', 64256)\n",
    "scenario = Scenario('smallgrid', \n",
    "                    \"On how to use custom mods\")\n",
    "vehicle = Vehicle('ego_vehicle', model='etk800', licence='AI')\n",
    "scenario.add_vehicle(vehicle, pos=(0,0,0), rot_quat=(0, 0, 1, 0))\n",
    "scenario.make(beamng)\n"
   ]
  },
  {
   "cell_type": "code",
   "execution_count": 3,
   "metadata": {},
   "outputs": [
    {
     "output_type": "stream",
     "name": "stderr",
     "text": [
      "2020-10-13 18:07:53,086 WARNING  c:\\Users\\Smeik\\BeamNGpy\\bng\\lib\\site-packages\\ipykernel\\ipkernel.py:287: DeprecationWarning: `should_run_async` will not call `transform_cell` automatically in the future. Please pass the result to `transformed_cell` argument and any exception that happen during thetransform in `preprocessing_exc_tuple` in IPython 7.17 and above.\n  and should_run_async(code)\n\n"
     ]
    }
   ],
   "source": [
    "# setting up mod\n",
    "myModPath = beamng.user / 'mods' / 'genericResearchMod.zip' \n",
    "geCode = 'gameEngineCode.lua'\n",
    "zipGEpath = str(Path('lua') / 'ge' / 'extensions' / 'util' / geCode)\n",
    "veCode = 'vehicleEngineCode.lua'\n",
    "zipVEpath = str(Path('lua') / 'vehicle' / 'extensions' / veCode)\n",
    "localDir = Path(os.path.abspath('.'))\n",
    "with zipfile.ZipFile(str(myModPath), 'w') as ziph:\n",
    "    ziph.write(localDir / geCode, arcname=zipGEpath)\n",
    "    ziph.write(localDir / veCode, arcname=zipVEpath)"
   ]
  },
  {
   "cell_type": "code",
   "execution_count": 4,
   "metadata": {},
   "outputs": [
    {
     "output_type": "stream",
     "name": "stderr",
     "text": [
      "2020-10-13 18:07:58,204 INFO     Opening BeamNPy instance...\n",
      "2020-10-13 18:07:58,215 INFO     Started BeamNGpy server on localhost:64256\n",
      "2020-10-13 18:07:58,217 DEBUG    Starting BeamNG process...\n",
      "2020-10-13 18:08:08,881 DEBUG    Connection established. Awaiting \"hello\"...\n",
      "2020-10-13 18:08:08,882 INFO     Started BeamNGpy communicating on ('127.0.0.1', 62093)\n",
      "2020-10-13 18:08:18,510 DEBUG    Starting vehicle server for V:ego_vehicle on: localhost:64257\n"
     ]
    }
   ],
   "source": [
    "bng = beamng.open(extensions=[\"util/gameEngineCode\"])\n",
    "bng.load_scenario(scenario)\n",
    "bng.start_scenario()"
   ]
  },
  {
   "cell_type": "code",
   "execution_count": 6,
   "metadata": {},
   "outputs": [
    {
     "output_type": "stream",
     "name": "stderr",
     "text": [
      "2020-10-13 18:08:46,386 WARNING  c:\\Users\\Smeik\\BeamNGpy\\bng\\lib\\site-packages\\ipykernel\\ipkernel.py:287: DeprecationWarning: `should_run_async` will not call `transform_cell` automatically in the future. Please pass the result to `transformed_cell` argument and any exception that happen during thetransform in `preprocessing_exc_tuple` in IPython 7.17 and above.\n  and should_run_async(code)\n\n"
     ]
    }
   ],
   "source": [
    "# data = dict(type='Foo', someName = 'YourName')\n",
    "# bng.send(data)\n",
    "data = dict(type='Bar', text = 'lorem ipsum...' )\n",
    "bng.send(data)"
   ]
  },
  {
   "cell_type": "code",
   "execution_count": 7,
   "metadata": {},
   "outputs": [
    {
     "output_type": "stream",
     "name": "stderr",
     "text": [
      "2020-10-13 18:09:45,063 WARNING  c:\\Users\\Smeik\\BeamNGpy\\bng\\lib\\site-packages\\ipykernel\\ipkernel.py:287: DeprecationWarning: `should_run_async` will not call `transform_cell` automatically in the future. Please pass the result to `transformed_cell` argument and any exception that happen during thetransform in `preprocessing_exc_tuple` in IPython 7.17 and above.\n  and should_run_async(code)\n\n"
     ]
    },
    {
     "output_type": "execute_result",
     "data": {
      "text/plain": [
       "<socket.socket fd=1620, family=AddressFamily.AF_INET, type=SocketKind.SOCK_STREAM, proto=0, laddr=('127.0.0.1', 64257), raddr=('127.0.0.1', 62095)>"
      ]
     },
     "metadata": {},
     "execution_count": 7
    }
   ],
   "source": [
    "vehicle.skt"
   ]
  },
  {
   "cell_type": "code",
   "execution_count": 8,
   "metadata": {},
   "outputs": [
    {
     "output_type": "stream",
     "name": "stderr",
     "text": [
      "2020-10-13 18:09:52,333 WARNING  c:\\Users\\Smeik\\BeamNGpy\\bng\\lib\\site-packages\\ipykernel\\ipkernel.py:287: DeprecationWarning: `should_run_async` will not call `transform_cell` automatically in the future. Please pass the result to `transformed_cell` argument and any exception that happen during thetransform in `preprocessing_exc_tuple` in IPython 7.17 and above.\n  and should_run_async(code)\n\n"
     ]
    },
    {
     "output_type": "execute_result",
     "data": {
      "text/plain": [
       "<socket.socket fd=1012, family=AddressFamily.AF_INET, type=SocketKind.SOCK_STREAM, proto=0, laddr=('127.0.0.1', 64256), raddr=('127.0.0.1', 62093)>"
      ]
     },
     "metadata": {},
     "execution_count": 8
    }
   ],
   "source": [
    "bng.skt"
   ]
  },
  {
   "cell_type": "code",
   "execution_count": null,
   "metadata": {},
   "outputs": [],
   "source": []
  }
 ]
}