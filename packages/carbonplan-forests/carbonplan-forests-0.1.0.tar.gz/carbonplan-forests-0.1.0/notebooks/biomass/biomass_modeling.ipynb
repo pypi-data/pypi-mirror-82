{
 "cells": [
  {
   "cell_type": "markdown",
   "metadata": {},
   "source": [
    "<img width=\"50\" src=\"https://carbonplan-assets.s3.amazonaws.com/monogram/dark-small.png\" style=\"margin-left:0px;margin-top:20px\"/>\n",
    "\n",
    "# FIA Biomass Modeling\n",
    "\n",
    "_by Jeremy Freeman (CarbonPlan), September 19, 2020_\n",
    "\n",
    "This notebook extracts fits predictive biomass growth curves from FIA data\n"
   ]
  },
  {
   "cell_type": "code",
   "execution_count": null,
   "metadata": {},
   "outputs": [],
   "source": [
    "import numpy as np\n",
    "import pandas as pd\n",
    "from forests import load, setup, plot, fit"
   ]
  },
  {
   "cell_type": "code",
   "execution_count": null,
   "metadata": {},
   "outputs": [],
   "source": [
    "setup.plotting()"
   ]
  },
  {
   "cell_type": "code",
   "execution_count": null,
   "metadata": {},
   "outputs": [],
   "source": [
    "df = load.fia(store=\"local\", states=\"conus\")\n",
    "df = load.terraclim(\n",
    "    store=\"local\",\n",
    "    tlim=(2000, 2020),\n",
    "    vars=[\"tmax\", \"ppt\"],\n",
    "    aggs=[\"mean\", \"sum\"],\n",
    "    mean=True,\n",
    "    df=df,\n",
    ")"
   ]
  },
  {
   "cell_type": "code",
   "execution_count": null,
   "metadata": {},
   "outputs": [],
   "source": [
    "inds = (df[\"type_code\"] == 941) & (df[\"state\"] == \"CA\")\n",
    "x = df[inds][\"age\"]\n",
    "y = df[inds][\"biomass\"]\n",
    "f = [df[inds][\"tmax_mean\"], df[inds][\"ppt_sum\"]]\n",
    "(\n",
    "    plot.xy(x=x, y=y, color=f[0], cmap=\"magma\", xlim=[0, 200], ylim=[0, 500])\n",
    "    | plot.xy(x=x, y=y, color=f[1], xlim=[0, 200], ylim=[0, 500])\n",
    ").resolve_scale(color=\"independent\")"
   ]
  },
  {
   "cell_type": "code",
   "execution_count": null,
   "metadata": {},
   "outputs": [],
   "source": [
    "model = fit.biomass(x=x, y=y, f=f, noise=\"gamma\")"
   ]
  },
  {
   "cell_type": "code",
   "execution_count": null,
   "metadata": {},
   "outputs": [],
   "source": [
    "model.r2(x, f, y)"
   ]
  },
  {
   "cell_type": "code",
   "execution_count": null,
   "metadata": {},
   "outputs": [],
   "source": [
    "xlim = [0, 250]\n",
    "ylim = [0, 600]\n",
    "(\n",
    "    (\n",
    "        plot.xy(x=x, y=y, color=f[0], cmap=\"magma\", xlim=xlim, ylim=ylim)\n",
    "        + plot.line(\n",
    "            x=x,\n",
    "            y=model.predict(x, f, [90, 50]),\n",
    "            color=np.nanpercentile(f[0], 90),\n",
    "            xlim=xlim,\n",
    "            ylim=ylim,\n",
    "        )\n",
    "        + plot.line(\n",
    "            x=x,\n",
    "            y=model.predict(x, f, [10, 50]),\n",
    "            color=np.nanpercentile(f[0], 10),\n",
    "            xlim=xlim,\n",
    "            ylim=ylim,\n",
    "        )\n",
    "    )\n",
    "    | (\n",
    "        plot.xy(x=x, y=y, color=f[1], xlim=xlim, ylim=ylim)\n",
    "        + plot.line(\n",
    "            x=x,\n",
    "            y=model.predict(x, f, [50, 10]),\n",
    "            color=np.nanpercentile(f[1], 10),\n",
    "            xlim=xlim,\n",
    "            ylim=ylim,\n",
    "        )\n",
    "        + plot.line(\n",
    "            x=x,\n",
    "            y=model.predict(x, f, [50, 90]),\n",
    "            color=np.nanpercentile(f[1], 90),\n",
    "            xlim=xlim,\n",
    "            ylim=ylim,\n",
    "        )\n",
    "    )\n",
    ").resolve_scale(color=\"independent\")"
   ]
  },
  {
   "cell_type": "code",
   "execution_count": null,
   "metadata": {},
   "outputs": [],
   "source": [
    "xlim = [0, 250]\n",
    "ylim = [0, 600]\n",
    "(\n",
    "    (\n",
    "        plot.xy(x=x, y=y, xlim=xlim, ylim=ylim)\n",
    "        + plot.line(x=x, y=model.predict(x, f, [50, 50]), xlim=xlim, ylim=ylim)\n",
    "    )\n",
    "    | (\n",
    "        plot.xy(x=x, y=model.sample(x, f), xlim=xlim, ylim=ylim)\n",
    "        + plot.line(x=x, y=model.predict(x, f, [50, 50]), xlim=xlim, ylim=ylim)\n",
    "    )\n",
    ")"
   ]
  },
  {
   "cell_type": "code",
   "execution_count": null,
   "metadata": {},
   "outputs": [],
   "source": [
    "pf = pd.read_parquet(\"../../scripts/data/biomass.parquet\")"
   ]
  },
  {
   "cell_type": "code",
   "execution_count": null,
   "metadata": {},
   "outputs": [],
   "source": [
    "years = np.arange(2020, 2120, 20)\n",
    "predictions = [pf[\"BCC-CSM2-MR_ssp245_\" + str(year)].mean() for year in years]"
   ]
  },
  {
   "cell_type": "code",
   "execution_count": null,
   "metadata": {},
   "outputs": [],
   "source": [
    "inds = (df[\"year\"] >= 2010) & (df[\"year\"] <= 2018)\n",
    "(\n",
    "    plot.xy(\n",
    "        x=df[inds].groupby(\"year\").mean().index,\n",
    "        y=df[inds].groupby(\"year\").mean()[\"biomass\"],\n",
    "        xlim=[2000, 2050],\n",
    "        ylim=[90, 150],\n",
    "    )\n",
    "    + plot.xy(\n",
    "        x=years, y=predictions, xlim=[2000, 2120], ylim=[90, 160], color=\"blue\"\n",
    "    )\n",
    ")"
   ]
  },
  {
   "cell_type": "code",
   "execution_count": null,
   "metadata": {},
   "outputs": [],
   "source": [
    "plot.carto(\n",
    "    lat=df[\"lat\"],\n",
    "    lon=df[\"lon\"],\n",
    "    color=df[\"biomass\"],\n",
    "    cmap=\"yellowgreen\",\n",
    "    clim=(0, 250),\n",
    ")"
   ]
  },
  {
   "cell_type": "code",
   "execution_count": null,
   "metadata": {},
   "outputs": [],
   "source": [
    "plot.carto(\n",
    "    lat=pf[\"lat\"],\n",
    "    lon=pf[\"lon\"],\n",
    "    color=pf[\"BCC-CSM2-MR_ssp245_2020\"],\n",
    "    cmap=\"yellowgreen\",\n",
    "    clim=(0, 250),\n",
    ")"
   ]
  },
  {
   "cell_type": "code",
   "execution_count": null,
   "metadata": {},
   "outputs": [],
   "source": [
    "plot.carto(\n",
    "    lat=pf[\"lat\"],\n",
    "    lon=pf[\"lon\"],\n",
    "    color=pf[\"2100\"],\n",
    "    cmap=\"yellowgreen\",\n",
    "    clim=(0, 250),\n",
    ")"
   ]
  },
  {
   "cell_type": "code",
   "execution_count": null,
   "metadata": {},
   "outputs": [],
   "source": [
    "plot.carto(\n",
    "    lat=pf[\"lat\"],\n",
    "    lon=pf[\"lon\"],\n",
    "    color=pf[\"2100\"] - pf[\"2020\"],\n",
    "    cmap=\"yellowgreen\",\n",
    "    clim=(0, 100),\n",
    ")"
   ]
  },
  {
   "cell_type": "code",
   "execution_count": null,
   "metadata": {},
   "outputs": [],
   "source": [
    "import rasterio"
   ]
  },
  {
   "cell_type": "code",
   "execution_count": null,
   "metadata": {},
   "outputs": [],
   "source": [
    "r = rasterio.open(\n",
    "    \"/Users/freeman/workdir/carbonplan-data/processed/nlcd/conus/4000m/2016_c42.tif\"\n",
    ")"
   ]
  },
  {
   "cell_type": "code",
   "execution_count": null,
   "metadata": {},
   "outputs": [],
   "source": [
    "a = r.read(1)"
   ]
  },
  {
   "cell_type": "code",
   "execution_count": null,
   "metadata": {},
   "outputs": [],
   "source": [
    "from showit import image\n",
    "%matplotlib inline"
   ]
  },
  {
   "cell_type": "code",
   "execution_count": null,
   "metadata": {},
   "outputs": [],
   "source": [
    "a.shape"
   ]
  },
  {
   "cell_type": "code",
   "execution_count": null,
   "metadata": {},
   "outputs": [],
   "source": [
    "image(a, size=12)"
   ]
  },
  {
   "cell_type": "code",
   "execution_count": null,
   "metadata": {},
   "outputs": [],
   "source": [
    "from rasterio import Affine\n",
    "from rasterio.transform import rowcol\n",
    "from pyproj import transform, Proj\n",
    "from carbonplan_data.utils import albers_conus_crs, albers_conus_transform"
   ]
  },
  {
   "cell_type": "code",
   "execution_count": null,
   "metadata": {},
   "outputs": [],
   "source": [
    "inds = df[\"year\"] > 2010\n",
    "df_sub = df[inds].reset_index()\n",
    "t = Affine(*albers_conus_transform(4000))\n",
    "p1 = Proj(albers_conus_crs())\n",
    "p2 = Proj(proj=\"latlong\", datum=\"WGS84\")\n",
    "x, y = transform(p2, p1, df_sub[\"lon\"].values, df_sub[\"lat\"].values)\n",
    "rc = rowcol(t, x, y)"
   ]
  },
  {
   "cell_type": "code",
   "execution_count": null,
   "metadata": {},
   "outputs": [],
   "source": [
    "m = np.zeros(a.shape)\n",
    "b = np.zeros(a.shape)"
   ]
  },
  {
   "cell_type": "code",
   "execution_count": null,
   "metadata": {},
   "outputs": [],
   "source": [
    "for i, (r, c) in enumerate(zip(rc[0], rc[1])):\n",
    "    m[r, c] += 1\n",
    "    b[r, c] += df_sub[\"biomass\"][i]"
   ]
  },
  {
   "cell_type": "code",
   "execution_count": null,
   "metadata": {},
   "outputs": [],
   "source": [
    "m[rc[0], rc[1]] = df[\"biomass\"]"
   ]
  },
  {
   "cell_type": "code",
   "execution_count": null,
   "metadata": {},
   "outputs": [],
   "source": [
    "image(a[0:300, 0:300], size=12)"
   ]
  },
  {
   "cell_type": "code",
   "execution_count": null,
   "metadata": {},
   "outputs": [],
   "source": [
    "image(b[0:300, 0:300] / m[0:300, 0:300], clim=(0, 400), size=12)"
   ]
  },
  {
   "cell_type": "code",
   "execution_count": null,
   "metadata": {},
   "outputs": [],
   "source": [
    "image(m[0:300, 0:300], clim=(0, 1), size=12)"
   ]
  },
  {
   "cell_type": "code",
   "execution_count": null,
   "metadata": {},
   "outputs": [],
   "source": [
    "image(m, clim=(0, 200), cmap=\"viridis\", size=12)"
   ]
  },
  {
   "cell_type": "code",
   "execution_count": null,
   "metadata": {},
   "outputs": [],
   "source": [
    "image((m[0:400, 0:400] != 201) & (m[0:400, 0:400] != 0), size=12)"
   ]
  },
  {
   "cell_type": "code",
   "execution_count": null,
   "metadata": {},
   "outputs": [],
   "source": [
    "np.unique(a[0:400, 0:400])"
   ]
  },
  {
   "cell_type": "code",
   "execution_count": null,
   "metadata": {},
   "outputs": [],
   "source": [
    "image(\n",
    "    ((m[0:400, 0:400] != 201) & (m[0:400, 0:400] != 0))\n",
    "    + 0.5 * (a[0:400, 0:400] == 301),\n",
    "    size=12,\n",
    ")"
   ]
  },
  {
   "cell_type": "code",
   "execution_count": null,
   "metadata": {},
   "outputs": [],
   "source": [
    "import matplotlib.pyplot as plt"
   ]
  },
  {
   "cell_type": "code",
   "execution_count": null,
   "metadata": {},
   "outputs": [],
   "source": [
    "sum(types == df[\"type_code\"]) / len(types)"
   ]
  },
  {
   "cell_type": "code",
   "execution_count": null,
   "metadata": {},
   "outputs": [],
   "source": [
    "plot.xy(x=types, y=df[\"type_code\"])"
   ]
  },
  {
   "cell_type": "code",
   "execution_count": null,
   "metadata": {},
   "outputs": [],
   "source": [
    "image(m[0:300, 0:300], size=12)"
   ]
  }
 ],
 "metadata": {
  "kernelspec": {
   "display_name": "Python 3",
   "language": "python",
   "name": "python3"
  },
  "language_info": {
   "codemirror_mode": {
    "name": "ipython",
    "version": 3
   },
   "file_extension": ".py",
   "mimetype": "text/x-python",
   "name": "python",
   "nbconvert_exporter": "python",
   "pygments_lexer": "ipython3",
   "version": "3.7.8"
  }
 },
 "nbformat": 4,
 "nbformat_minor": 4
}
