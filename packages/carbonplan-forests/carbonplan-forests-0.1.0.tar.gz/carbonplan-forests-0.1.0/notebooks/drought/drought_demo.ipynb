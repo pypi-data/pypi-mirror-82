{
 "cells": [
  {
   "cell_type": "code",
   "execution_count": null,
   "metadata": {},
   "outputs": [],
   "source": [
    "from numpy import log, corrcoef, unique, isnan, asarray\n",
    "from numpy.random import shuffle"
   ]
  },
  {
   "cell_type": "code",
   "execution_count": null,
   "metadata": {},
   "outputs": [],
   "source": [
    "from pandas import read_csv"
   ]
  },
  {
   "cell_type": "code",
   "execution_count": null,
   "metadata": {},
   "outputs": [],
   "source": [
    "import matplotlib.pyplot as plt\n",
    "%matplotlib inline"
   ]
  },
  {
   "cell_type": "code",
   "execution_count": null,
   "metadata": {},
   "outputs": [],
   "source": [
    "import altair as alt\n",
    "\n",
    "alt.renderers.enable(\"default\", embed_options={\"actions\": False})\n",
    "alt.data_transformers.enable(\"data_server\")\n",
    "alt.data_transformers.disable_max_rows()"
   ]
  },
  {
   "cell_type": "code",
   "execution_count": null,
   "metadata": {},
   "outputs": [],
   "source": [
    "df = read_csv(\"../../data/FIA_multipleDroughts_forBill_NoDroughtThresh.csv\")"
   ]
  },
  {
   "cell_type": "code",
   "execution_count": null,
   "metadata": {},
   "outputs": [],
   "source": [
    "df.loc[isnan(df[\"BAMort1(m2/ha)\"]), \"BAMort1(m2/ha)\"] = 0\n",
    "df.loc[isnan(df[\"BAMort2(m2/ha)\"]), \"BAMort2(m2/ha)\"] = 0\n",
    "df.loc[isnan(df[\"BAMort3(m2/ha)\"]), \"BAMort3(m2/ha)\"] = 0\n",
    "df.loc[isnan(df[\"BAMort4(m2/ha)\"]), \"BAMort4(m2/ha)\"] = 0"
   ]
  },
  {
   "cell_type": "code",
   "execution_count": null,
   "metadata": {},
   "outputs": [],
   "source": [
    "df.loc[:, \"Ratio2\"] = df[\"BAMort2(m2/ha)\"] / df[\"BA1(m2/ha)\"]\n",
    "df.loc[:, \"Ratio3\"] = df[\"BAMort3(m2/ha)\"] / df[\"BA2(m2/ha)\"]\n",
    "df.loc[:, \"LogRatio2\"] = log(df[\"BAMort2(m2/ha)\"] / df[\"BA1(m2/ha)\"] + 0.001)\n",
    "df.loc[:, \"LogRatio3\"] = log(df[\"BAMort3(m2/ha)\"] / df[\"BA2(m2/ha)\"] + 0.001)"
   ]
  },
  {
   "cell_type": "code",
   "execution_count": null,
   "metadata": {},
   "outputs": [],
   "source": [
    "df_ca = df[df[\"STATECD\"] == 6]"
   ]
  },
  {
   "cell_type": "code",
   "execution_count": null,
   "metadata": {},
   "outputs": [],
   "source": [
    "alt.Chart(df_ca).mark_point(clip=True).encode(\n",
    "    alt.X(\"BA1(m2/ha)\", scale=alt.Scale(domain=(0, 50))),\n",
    "    alt.Y(\"BAMort2(m2/ha)\", scale=alt.Scale(domain=(0, 50))),\n",
    ")"
   ]
  },
  {
   "cell_type": "code",
   "execution_count": null,
   "metadata": {},
   "outputs": [],
   "source": [
    "df_ca[\"LogRatio2\"].max()"
   ]
  },
  {
   "cell_type": "code",
   "execution_count": null,
   "metadata": {},
   "outputs": [],
   "source": [
    "alt.Chart(df_ca).mark_bar().encode(\n",
    "    alt.X(\"LogRatio2\", bin=alt.Bin(maxbins=50)),\n",
    "    y=\"count()\",\n",
    ")"
   ]
  },
  {
   "cell_type": "code",
   "execution_count": null,
   "metadata": {},
   "outputs": [],
   "source": [
    "unique(df.FORTYPCD)"
   ]
  },
  {
   "cell_type": "code",
   "execution_count": null,
   "metadata": {},
   "outputs": [],
   "source": [
    "alt.Chart(df[df.FORTYPCD == 185]).mark_point(clip=True).encode(\n",
    "    alt.X(\"min_prec_spei2\", scale=alt.Scale(domain=(-4, -0.5))),\n",
    "    alt.Y(\"LogRatio2\", scale=alt.Scale(domain=(-8, 1))),\n",
    ")"
   ]
  },
  {
   "cell_type": "code",
   "execution_count": null,
   "metadata": {},
   "outputs": [],
   "source": [
    "alt.Chart(df[df[\"min_prec_spei2\"] < -2]).mark_point(clip=True).encode(\n",
    "    alt.X(\"BA1(m2/ha)\", scale=alt.Scale(domain=(-5, 150))),\n",
    "    alt.Y(\"Ratio2\", scale=alt.Scale(domain=(-0.01, 0.7))),\n",
    "    alt.Color(\"min_prec_spei2\", scale=alt.Scale(domain=(-5, 0))),\n",
    ")"
   ]
  },
  {
   "cell_type": "code",
   "execution_count": null,
   "metadata": {},
   "outputs": [],
   "source": [
    "alt.Chart(df[df[\"min_prec_spei2\"] > -2]).mark_point(clip=True).encode(\n",
    "    alt.X(\"BA1(m2/ha)\", scale=alt.Scale(domain=(-5, 150))),\n",
    "    alt.Y(\"Ratio2\", scale=alt.Scale(domain=(-0.01, 0.7))),\n",
    "    alt.Color(\"min_prec_spei2\", scale=alt.Scale(domain=(-5, 0))),\n",
    ")"
   ]
  },
  {
   "cell_type": "code",
   "execution_count": null,
   "metadata": {},
   "outputs": [],
   "source": [
    "isnan(df[\"BA1(m2/ha)\"]).sum()"
   ]
  },
  {
   "cell_type": "code",
   "execution_count": null,
   "metadata": {},
   "outputs": [],
   "source": [
    "x = df[\"min_prec_spei2\"][df.FORTYPCD == 185]\n",
    "y = df[\"LogRatio2\"][df.FORTYPCD == 185]\n",
    "isnan = (x.isnull() | y.isnull()) | (y < -6)\n",
    "x = x[~isnan]\n",
    "y = y[~isnan]"
   ]
  },
  {
   "cell_type": "code",
   "execution_count": null,
   "metadata": {},
   "outputs": [],
   "source": [
    "corrcoef(x, y)"
   ]
  },
  {
   "cell_type": "code",
   "execution_count": null,
   "metadata": {},
   "outputs": [],
   "source": [
    "y[x < -2].mean()"
   ]
  },
  {
   "cell_type": "code",
   "execution_count": null,
   "metadata": {},
   "outputs": [],
   "source": [
    "y[(x > -2) & (x < -1.8)].mean()"
   ]
  },
  {
   "cell_type": "code",
   "execution_count": null,
   "metadata": {},
   "outputs": [],
   "source": [
    "y[(x > -1.8) & (x < -1.5)].mean()"
   ]
  },
  {
   "cell_type": "code",
   "execution_count": null,
   "metadata": {},
   "outputs": [],
   "source": [
    "y[(x > -1.5) & (x < -1.2)].mean()"
   ]
  },
  {
   "cell_type": "code",
   "execution_count": null,
   "metadata": {},
   "outputs": [],
   "source": [
    "y[((x > -1.2) & (x < 0))].mean()"
   ]
  },
  {
   "cell_type": "code",
   "execution_count": null,
   "metadata": {},
   "outputs": [],
   "source": [
    "plt.hist(log(y[(x > -2) & (x < -1.8)].dropna()), bins=100)"
   ]
  },
  {
   "cell_type": "code",
   "execution_count": null,
   "metadata": {},
   "outputs": [],
   "source": [
    "df_ca = df[df[\"STATECD\"] == 6]\n",
    "df_ca[\"R2\"] = log(df_ca[\"BAMort2(m2/ha)\"] / df_ca[\"BA1(m2/ha)\"])"
   ]
  },
  {
   "cell_type": "code",
   "execution_count": null,
   "metadata": {},
   "outputs": [],
   "source": [
    "import altair as alt\n",
    "\n",
    "alt.renderers.enable(\"default\", embed_options={\"actions\": False})\n",
    "alt.data_transformers.enable(\"data_server\")\n",
    "alt.data_transformers.disable_max_rows()"
   ]
  },
  {
   "cell_type": "code",
   "execution_count": null,
   "metadata": {},
   "outputs": [],
   "source": [
    "alt.Chart(df_ca).mark_point(clip=True).encode(\n",
    "    alt.X(\"BA1(m2/ha)\", scale=alt.Scale(domain=(0, 50))),\n",
    "    alt.Y(\"BAMort2(m2/ha)\", scale=alt.Scale(domain=(0, 50))),\n",
    ")"
   ]
  },
  {
   "cell_type": "code",
   "execution_count": null,
   "metadata": {},
   "outputs": [],
   "source": [
    "alt.Chart(df_ca).mark_point(clip=True).encode(\n",
    "    alt.X(\"min_prec_spei2\", scale=alt.Scale(domain=(-3, 0))),\n",
    "    alt.Y(\"R2\", scale=alt.Scale(domain=(-6, 3))),\n",
    ")"
   ]
  },
  {
   "cell_type": "code",
   "execution_count": null,
   "metadata": {},
   "outputs": [],
   "source": [
    "import gcsfs\n",
    "import zarr"
   ]
  },
  {
   "cell_type": "code",
   "execution_count": null,
   "metadata": {},
   "outputs": [],
   "source": [
    "gcs = gcsfs.GCSFileSystem(anon=True)\n",
    "store = gcsfs.GCSMap(\n",
    "    root=\"carbonplan-scratch/terraclimate-fia-cond.zarr\", gcs=gcs, check=False\n",
    ")\n",
    "root = zarr.group(store=store)"
   ]
  },
  {
   "cell_type": "code",
   "execution_count": null,
   "metadata": {},
   "outputs": [],
   "source": [
    "a = asarray(root[\"PDSI\"])"
   ]
  },
  {
   "cell_type": "code",
   "execution_count": null,
   "metadata": {},
   "outputs": [],
   "source": [
    "asarray(root[\"time\"])"
   ]
  },
  {
   "cell_type": "code",
   "execution_count": null,
   "metadata": {},
   "outputs": [],
   "source": [
    "len(asarray(root[\"lon\"]))"
   ]
  }
 ],
 "metadata": {
  "kernelspec": {
   "display_name": "Python 3",
   "language": "python",
   "name": "python3"
  },
  "language_info": {
   "codemirror_mode": {
    "name": "ipython",
    "version": 3
   },
   "file_extension": ".py",
   "mimetype": "text/x-python",
   "name": "python",
   "nbconvert_exporter": "python",
   "pygments_lexer": "ipython3",
   "version": "3.7.8"
  }
 },
 "nbformat": 4,
 "nbformat_minor": 4
}
