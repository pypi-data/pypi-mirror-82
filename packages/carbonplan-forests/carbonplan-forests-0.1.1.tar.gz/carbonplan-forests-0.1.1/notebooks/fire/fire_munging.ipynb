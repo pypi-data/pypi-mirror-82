{
 "cells": [
  {
   "cell_type": "markdown",
   "metadata": {},
   "source": [
    "<img width=\"50\" src=\"https://carbonplan-assets.s3.amazonaws.com/monogram/dark-small.png\" style=\"margin-left:0px;margin-top:20px\"/>\n",
    "\n",
    "# MTBS Fire Munging Training Data\n",
    "\n",
    "_by Jeremy Freeman (CarbonPlan), September 19, 2020_\n",
    "\n",
    "This notebook extracts training data for predictive fire modeling at two\n",
    "different resolutions and saves to two different output formats. This is mainly\n",
    "for convienience purposes and for sharing training data with users of other\n",
    "systems.\n"
   ]
  },
  {
   "cell_type": "code",
   "execution_count": null,
   "metadata": {},
   "outputs": [],
   "source": [
    "from forests import load\n",
    "import pickle"
   ]
  },
  {
   "cell_type": "markdown",
   "metadata": {},
   "source": [
    "### save to parquet @ raw resolution\n"
   ]
  },
  {
   "cell_type": "code",
   "execution_count": null,
   "metadata": {},
   "outputs": [],
   "source": [
    "X, y = load.fire(store=\"local\", return_type=\"xarray\")\n",
    "X[\"burned_area\"] = y[\"burned_area\"]\n",
    "df = X.to_dataframe().to_parquet(\n",
    "    \"4000m/training.parquet\", compression=\"gzip\", engine=\"fastparquet\"\n",
    ")"
   ]
  },
  {
   "cell_type": "markdown",
   "metadata": {},
   "source": [
    "### save to parquet @ 4x downsapmling\n"
   ]
  },
  {
   "cell_type": "code",
   "execution_count": null,
   "metadata": {},
   "outputs": [],
   "source": [
    "X, y = load.fire(store=\"local\", coarsen=4, return_type=\"xarray\")\n",
    "X[\"burned_area\"] = y[\"burned_area\"]\n",
    "df = X.to_dataframe().to_parquet(\n",
    "    \"16000m/training.parquet\", compression=\"gzip\", engine=\"fastparquet\"\n",
    ")"
   ]
  },
  {
   "cell_type": "markdown",
   "metadata": {},
   "source": [
    "### save to pickle @ raw resolution\n"
   ]
  },
  {
   "cell_type": "code",
   "execution_count": null,
   "metadata": {},
   "outputs": [],
   "source": [
    "X, y, time, lat, lon = load.fire(store=\"local\", return_type=\"numpy\")\n",
    "with open(\"4000m/training.pkl\", \"wb\") as f:\n",
    "    pickle.dump([X, y, time, lat, lon], f)"
   ]
  },
  {
   "cell_type": "markdown",
   "metadata": {},
   "source": [
    "### save to pickle @ 4x downsapmling\n"
   ]
  },
  {
   "cell_type": "code",
   "execution_count": null,
   "metadata": {},
   "outputs": [],
   "source": [
    "X, y, time, lat, lon = load.fire(store=\"local\", coarsen=4, return_type=\"numpy\")\n",
    "with open(\"16000m/training.pkl\", \"wb\") as f:\n",
    "    pickle.dump([X, y, time, lat, lon], f)"
   ]
  }
 ],
 "metadata": {
  "kernelspec": {
   "display_name": "Python 3",
   "language": "python",
   "name": "python3"
  },
  "language_info": {
   "codemirror_mode": {
    "name": "ipython",
    "version": 3
   },
   "file_extension": ".py",
   "mimetype": "text/x-python",
   "name": "python",
   "nbconvert_exporter": "python",
   "pygments_lexer": "ipython3",
   "version": "3.7.8"
  }
 },
 "nbformat": 4,
 "nbformat_minor": 4
}
