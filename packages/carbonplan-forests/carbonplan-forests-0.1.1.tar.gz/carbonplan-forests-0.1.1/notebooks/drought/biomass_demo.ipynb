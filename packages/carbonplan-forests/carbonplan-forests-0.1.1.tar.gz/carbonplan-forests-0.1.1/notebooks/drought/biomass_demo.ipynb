{
 "cells": [
  {
   "cell_type": "code",
   "execution_count": null,
   "metadata": {},
   "outputs": [],
   "source": [
    "import dask.dataframe as dd"
   ]
  },
  {
   "cell_type": "code",
   "execution_count": null,
   "metadata": {},
   "outputs": [],
   "source": [
    "df = dd.read_parquet(\"gs://carbonplan-data/raw/fia/plot.parquet\")\n",
    "df_ca = df[df[\"STATECD\"] == 6].compute()\n",
    "lat, lon = df_ca[\"LAT\"], df_ca[\"LON\"]"
   ]
  },
  {
   "cell_type": "code",
   "execution_count": null,
   "metadata": {},
   "outputs": [],
   "source": [
    "import altair as alt\n",
    "\n",
    "alt.renderers.enable(\"default\", embed_options={\"actions\": False})\n",
    "alt.data_transformers.enable(\"data_server\")\n",
    "alt.data_transformers.disable_max_rows()"
   ]
  },
  {
   "cell_type": "code",
   "execution_count": null,
   "metadata": {},
   "outputs": [],
   "source": [
    "alt.Chart(df_ca).mark_circle(size=3, color=\"black\").encode(\n",
    "    longitude=\"LON:Q\", latitude=\"LAT:Q\", color=\"ELEV:Q\"\n",
    ").project(type=\"albersUsa\").properties(width=650, height=400)"
   ]
  }
 ],
 "metadata": {
  "kernelspec": {
   "display_name": "Python 3",
   "language": "python",
   "name": "python3"
  },
  "language_info": {
   "codemirror_mode": {
    "name": "ipython",
    "version": 3
   },
   "file_extension": ".py",
   "mimetype": "text/x-python",
   "name": "python",
   "nbconvert_exporter": "python",
   "pygments_lexer": "ipython3",
   "version": "3.7.8"
  }
 },
 "nbformat": 4,
 "nbformat_minor": 4
}
