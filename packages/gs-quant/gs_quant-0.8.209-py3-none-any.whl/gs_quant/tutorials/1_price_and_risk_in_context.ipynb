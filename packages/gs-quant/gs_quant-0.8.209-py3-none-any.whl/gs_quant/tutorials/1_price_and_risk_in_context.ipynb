{
 "cells": [
  {
   "cell_type": "markdown",
   "metadata": {},
   "source": [
    "# Pricing and Risk Calculation - Contexts\n",
    "In this tutorial we calculate pricing and risk in different pricing environments"
   ]
  },
  {
   "cell_type": "code",
   "execution_count": 1,
   "metadata": {},
   "outputs": [],
   "source": [
    "import datetime as dt\n",
    "from gs_quant.common import PayReceive\n",
    "from gs_quant.instrument import IRSwap, IRSwaption\n",
    "from gs_quant.markets import PricingContext\n",
    "from gs_quant.session import Environment, GsSession\n",
    "from gs_quant import risk"
   ]
  },
  {
   "cell_type": "code",
   "execution_count": null,
   "metadata": {},
   "outputs": [],
   "source": [
    "# external users should substitute their client id and secret; please skip this step if using internal jupyterhub\n",
    "GsSession.use(Environment.PROD, client_id=None, client_secret=None, scopes=('run_analytics',))"
   ]
  },
  {
   "cell_type": "markdown",
   "metadata": {},
   "source": [
    "### PricingContext\n",
    "\n",
    "The current `PricingContext` shows current pricing environment and market data paramaterization"
   ]
  },
  {
   "cell_type": "code",
   "execution_count": null,
   "metadata": {},
   "outputs": [],
   "source": [
    "print(PricingContext.current.market.location)\n",
    "print(PricingContext.current.market.date)\n",
    "print(PricingContext.current.pricing_date)"
   ]
  },
  {
   "cell_type": "markdown",
   "metadata": {},
   "source": [
    "We can leverage the `PricingContext` to modify pricing environment and market data"
   ]
  },
  {
   "cell_type": "code",
   "execution_count": null,
   "metadata": {},
   "outputs": [],
   "source": [
    "# Calculating Risk as of a specific date and market location\n",
    "custom_date = dt.date(2019, 9, 20)\n",
    "swap = IRSwap(PayReceive.Receive, '10y', 'GBP', fixed_rate='atm+50', notional_amount=1e8)\n",
    "with PricingContext(pricing_date=custom_date, market_data_location='NYC'):\n",
    "    delta = swap.calc(risk.IRDeltaParallel)\n",
    "\n",
    "print(delta.result())"
   ]
  },
  {
   "cell_type": "markdown",
   "metadata": {},
   "source": [
    "### HistoricalPricingContext\n",
    "Calculate pricing and risk over a range of dates"
   ]
  },
  {
   "cell_type": "code",
   "execution_count": null,
   "metadata": {},
   "outputs": [],
   "source": [
    "# Short Dated Swaption Historical Pricing - 2Q19\n",
    "from gs_quant.markets import HistoricalPricingContext\n",
    "from datetime import date\n",
    "\n",
    "start_date = date(2019, 4, 1)\n",
    "end_date = date(2019, 6, 30)\n",
    "\n",
    "swaption = IRSwaption(PayReceive.Receive, '5y', 'USD', expiration_date='3m', notional_amount=1e8)\n",
    "with PricingContext(pricing_date=start_date):\n",
    "    swaption.resolve()  # Freeze dates/strike in contract as of start date\n",
    "\n",
    "with HistoricalPricingContext(start_date, end_date):\n",
    "    swaption_res = swaption.calc((risk.DollarPrice, risk.IRGammaParallel,))\n",
    "\n",
    "prices = swaption_res[risk.DollarPrice]\n",
    "gamma = swaption_res[risk.IRGammaParallel]"
   ]
  },
  {
   "cell_type": "code",
   "execution_count": null,
   "metadata": {},
   "outputs": [],
   "source": [
    "prices.plot(title='3m5y USD Swaption Price by Date', rot=45)"
   ]
  },
  {
   "cell_type": "code",
   "execution_count": null,
   "metadata": {},
   "outputs": [],
   "source": [
    "gamma.plot(title='3m5y USD Swaption Gamma by Date, Fixed Date & Strike', rot=45)"
   ]
  }
 ],
 "metadata": {
  "kernelspec": {
   "display_name": "Python 3",
   "language": "python",
   "name": "python3"
  },
  "language_info": {
   "codemirror_mode": {
    "name": "ipython",
    "version": 3
   },
   "file_extension": ".py",
   "mimetype": "text/x-python",
   "name": "python",
   "nbconvert_exporter": "python",
   "pygments_lexer": "ipython3",
   "version": "3.7.2"
  },
  "pycharm": {
   "stem_cell": {
    "cell_type": "raw",
    "metadata": {
     "collapsed": false
    },
    "source": []
   }
  }
 },
 "nbformat": 4,
 "nbformat_minor": 4
}
