{
 "cells": [
  {
   "cell_type": "markdown",
   "metadata": {},
   "source": [
    "# Pricing and Risk Calculation - Portfolios"
   ]
  },
  {
   "cell_type": "markdown",
   "metadata": {},
   "source": [
    "Portfolios allow for efficient pricing and risk. The same principles in the in the basic risk and pricing tutorials can be applied to portfolios. Pricing and risks can be viewed for an individual instrument or at the aggregate portfolio level"
   ]
  },
  {
   "cell_type": "code",
   "execution_count": null,
   "metadata": {},
   "outputs": [],
   "source": [
    "from gs_quant.session import Environment, GsSession\n",
    "from gs_quant.common import PayReceive\n",
    "from gs_quant.instrument import IRSwaption\n",
    "import gs_quant.risk as risk\n",
    "import datetime as dt"
   ]
  },
  {
   "cell_type": "code",
   "execution_count": null,
   "metadata": {},
   "outputs": [],
   "source": [
    "# external users should substitute their client id and secret; please skip this step if using internal jupyterhub\n",
    "GsSession.use(Environment.PROD, client_id=None, client_secret=None, scopes=('run_analytics',))"
   ]
  },
  {
   "cell_type": "code",
   "execution_count": null,
   "metadata": {},
   "outputs": [],
   "source": [
    "swaption1 = IRSwaption(PayReceive.Receive, '5y', 'EUR',\n",
    "                       expiration_date='3m', name='EUR3m5y')\n",
    "swaption2 = IRSwaption(PayReceive.Receive, '5y', 'EUR',\n",
    "                       expiration_date='6m', name='EUR6m5y')"
   ]
  },
  {
   "cell_type": "code",
   "execution_count": null,
   "metadata": {},
   "outputs": [],
   "source": [
    "# Create Portfolio w/ swaptions\n",
    "from gs_quant.markets.portfolio import Portfolio\n",
    "portfolio = Portfolio((swaption1, swaption2))\n",
    "portfolio.resolve()"
   ]
  },
  {
   "cell_type": "code",
   "execution_count": null,
   "metadata": {},
   "outputs": [],
   "source": [
    "# Calculate Risk for Portfolio\n",
    "port_risk = portfolio.calc(\n",
    "    (risk.DollarPrice, risk.IRDeltaParallel, risk.IRVega))"
   ]
  },
  {
   "cell_type": "code",
   "execution_count": null,
   "metadata": {},
   "outputs": [],
   "source": [
    "# View Instrument Level risk for portfolio\n",
    "port_risk[risk.IRDeltaParallel]['EUR3m5y']"
   ]
  },
  {
   "cell_type": "code",
   "execution_count": null,
   "metadata": {},
   "outputs": [],
   "source": [
    "# View Aggregated Risk for a Portfolio\n",
    "port_risk[risk.IRDeltaParallel].aggregate()"
   ]
  },
  {
   "cell_type": "code",
   "execution_count": null,
   "metadata": {},
   "outputs": [],
   "source": [
    "# Calculate Portfolio Risks within HistoricalPricingContext\n",
    "from gs_quant.markets import HistoricalPricingContext\n",
    "\n",
    "start_date = dt.date(2019, 6, 3)\n",
    "end_date = dt.date(2019, 11, 18)\n",
    "\n",
    "with HistoricalPricingContext(start_date, end_date):\n",
    "    port_ird_res = portfolio.calc(risk.IRDeltaParallelLocalCcy)"
   ]
  },
  {
   "cell_type": "code",
   "execution_count": null,
   "metadata": {},
   "outputs": [],
   "source": [
    "port_ird_agg = port_ird_res[risk.IRDeltaParallelLocalCcy].aggregate()\n",
    "swap1_ird = port_ird_res[risk.IRDeltaParallelLocalCcy]['EUR3m5y']\n",
    "swap2_ird = port_ird_res[risk.IRDeltaParallelLocalCcy]['EUR6m5y']"
   ]
  },
  {
   "cell_type": "code",
   "execution_count": null,
   "metadata": {},
   "outputs": [],
   "source": [
    "import matplotlib.pyplot as plt\n",
    "\n",
    "plt.figure(figsize=(7, 5))\n",
    "plt.xlabel('Date')\n",
    "\n",
    "ax1 = port_ird_agg.plot(label='Portfolio')\n",
    "swap1_ird.plot(label='EUR3m5y')\n",
    "swap2_ird.plot(label='EUR6m5y')\n",
    "h1, l1 = ax1.get_legend_handles_labels()\n",
    "plt.title('IRDeltaParallel Timeseries')\n",
    "plt.legend(h1, l1, loc=2)\n",
    "plt.show()"
   ]
  }
 ],
 "metadata": {
  "kernelspec": {
   "display_name": "Python 3",
   "language": "python",
   "name": "python3"
  },
  "language_info": {
   "codemirror_mode": {
    "name": "ipython",
    "version": 3
   },
   "file_extension": ".py",
   "mimetype": "text/x-python",
   "name": "python",
   "nbconvert_exporter": "python",
   "pygments_lexer": "ipython3",
   "version": "3.7.2"
  },
  "pycharm": {
   "stem_cell": {
    "cell_type": "raw",
    "metadata": {
     "collapsed": false
    },
    "source": []
   }
  }
 },
 "nbformat": 4,
 "nbformat_minor": 4
}
