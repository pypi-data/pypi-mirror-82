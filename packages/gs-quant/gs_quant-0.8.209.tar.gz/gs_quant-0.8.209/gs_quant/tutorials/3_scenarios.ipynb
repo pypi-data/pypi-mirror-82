{
 "cells": [
  {
   "cell_type": "markdown",
   "metadata": {},
   "source": [
    "# Scenario Context\n",
    "Scenario contexts enable the user to price and calculate risk under varying market states and pricing environments."
   ]
  },
  {
   "cell_type": "code",
   "execution_count": null,
   "metadata": {},
   "outputs": [],
   "source": [
    "from gs_quant.instrument import IRSwaption\n",
    "from gs_quant.risk import MarketDataPattern, MarketDataShock, MarketDataShockType, MarketDataShockBasedScenario, \\\n",
    "    CarryScenario, CurveScenario\n",
    "from gs_quant.session import Environment, GsSession"
   ]
  },
  {
   "cell_type": "code",
   "execution_count": null,
   "metadata": {},
   "outputs": [],
   "source": [
    "# external users should substitute their client id and secret; please skip this step if using internal jupyterhub\n",
    "GsSession.use(Environment.PROD, client_id=None, client_secret=None, scopes=('run_analytics',))"
   ]
  },
  {
   "cell_type": "code",
   "execution_count": null,
   "metadata": {},
   "outputs": [],
   "source": [
    "# Create and price a swaption\n",
    "swaption = IRSwaption('Pay', '5y', 'USD', expirationDate='3m')\n",
    "base_price = swaption.price()\n",
    "base_price"
   ]
  },
  {
   "cell_type": "markdown",
   "metadata": {},
   "source": [
    "### MarketDataShockBasedScenario\n",
    "Allows the user to create a bespoke market data shock"
   ]
  },
  {
   "cell_type": "code",
   "execution_count": null,
   "metadata": {},
   "outputs": [],
   "source": [
    "# Scenario Creation: Shock all points on the Vol Curve by 1bp\n",
    "ir_vol_scenario = MarketDataShockBasedScenario(\n",
    "    shocks={\n",
    "        MarketDataPattern('IR Vol'): MarketDataShock(MarketDataShockType.Absolute, 1e-4)\n",
    "    }\n",
    ")"
   ]
  },
  {
   "cell_type": "code",
   "execution_count": null,
   "metadata": {},
   "outputs": [],
   "source": [
    "# Price swaption under scenario\n",
    "with ir_vol_scenario:\n",
    "    scenario_price = swaption.price()\n",
    "\n",
    "scenario_price"
   ]
  },
  {
   "cell_type": "code",
   "execution_count": null,
   "metadata": {},
   "outputs": [],
   "source": [
    "# Swaption Price Comparison: Base vs. Shocked Vol Curves\n",
    "diff = scenario_price - base_price\n",
    "diff"
   ]
  },
  {
   "cell_type": "code",
   "execution_count": null,
   "metadata": {},
   "outputs": [],
   "source": [
    "# Comparing Parallel Bump Scenario w/ Vega\n",
    "from gs_quant.risk import IRVegaParallel\n",
    "vega = swaption.calc(IRVegaParallel)\n",
    "vega"
   ]
  },
  {
   "cell_type": "markdown",
   "metadata": {},
   "source": [
    "### Curve Scenario \n",
    "A predefined scenario used to modify the shape of the curve with bespoke transformations "
   ]
  },
  {
   "cell_type": "code",
   "execution_count": null,
   "metadata": {
    "collapsed": false,
    "jupyter": {
     "outputs_hidden": false
    },
    "pycharm": {
     "name": "#%%\n"
    }
   },
   "outputs": [],
   "source": [
    "# Scenario Creation: modify the Vol Curve by a 5bp parallel shift, 1bp slope shift pivoted at 5y point (up to 50y)\n",
    "curve_scenario = CurveScenario(MarketDataPattern('IR', 'USD'), annualised_parallel_shift=5, \n",
    "                               annualised_slope_shift=1, pivot_point=5, cutoff=50)\n",
    "\n",
    "with curve_scenario:\n",
    "    swaption_scenario_price = swaption.price()\n",
    "\n",
    "# Look at the difference between scenario and base prices\n",
    "print('Base price:     {:,.2f}'.format(base_price))\n",
    "print('Scenario price: {:,.2f}'.format(swaption_scenario_price))"
   ]
  },
  {
   "cell_type": "markdown",
   "metadata": {},
   "source": [
    "### Carry Scenario \n",
    "A predefined scenario used to evolve market data and trades over a period of time"
   ]
  },
  {
   "cell_type": "code",
   "execution_count": null,
   "metadata": {
    "pycharm": {
     "name": "#%%\n"
    }
   },
   "outputs": [],
   "source": [
    "# Carry Scenario - Shift forward 1 month\n",
    "base_price = swaption.price()\n",
    "with CarryScenario(date='1m'):\n",
    "    fwd_price = swaption.price()\n",
    "\n",
    "print('Base price:     {:,.2f}'.format(base_price))\n",
    "print('Scenario price: {:,.2f}'.format(fwd_price))\n",
    "print('Diff: {:,.2f}'.format(fwd_price - base_price))"
   ]
  }
 ],
 "metadata": {
  "kernelspec": {
   "display_name": "Python 3",
   "language": "python",
   "name": "python3"
  },
  "language_info": {
   "codemirror_mode": {
    "name": "ipython",
    "version": 3
   },
   "file_extension": ".py",
   "mimetype": "text/x-python",
   "name": "python",
   "nbconvert_exporter": "python",
   "pygments_lexer": "ipython3",
   "version": "3.7.2"
  }
 },
 "nbformat": 4,
 "nbformat_minor": 4
}
