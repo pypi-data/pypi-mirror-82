{
 "cells": [
  {
   "cell_type": "markdown",
   "metadata": {},
   "source": [
    "# Pricing and Risk Calculation - The Basics\n",
    "In this tutorial we construct several interest rate swaps and calculate price and risk for these instruments"
   ]
  },
  {
   "cell_type": "code",
   "execution_count": null,
   "metadata": {},
   "outputs": [],
   "source": [
    "from gs_quant.common import PayReceive\n",
    "from gs_quant.instrument import IRSwap, IRSwaption\n",
    "from gs_quant.markets import PricingContext\n",
    "from gs_quant.session import Environment, GsSession\n",
    "from gs_quant import risk\n",
    "import pandas as pd\n",
    "pd.options.display.float_format = '{:,.2f}'.format "
   ]
  },
  {
   "cell_type": "code",
   "execution_count": null,
   "metadata": {},
   "outputs": [],
   "source": [
    "# external users should substitute their client id and secret; please skip this step if using internal jupyterhub\n",
    "GsSession.use(Environment.PROD, client_id=None, client_secret=None, scopes=('run_analytics',))"
   ]
  },
  {
   "cell_type": "markdown",
   "metadata": {},
   "source": [
    "### IR Swaps"
   ]
  },
  {
   "cell_type": "code",
   "execution_count": null,
   "metadata": {},
   "outputs": [],
   "source": [
    "# Creating Swaps - spot starting, forward starting\n",
    "swap = IRSwap(PayReceive.Receive, '10y', 'GBP', fixed_rate='atm+50', notional_amount=1e8)  # running\n",
    "swap_fwd_start = IRSwap(PayReceive.Pay, '5y', 'EUR', fixed_rate='atm+20', effective_date='3y')  # fwd starting"
   ]
  },
  {
   "cell_type": "code",
   "execution_count": null,
   "metadata": {},
   "outputs": [],
   "source": [
    "# View Instrument w/ specified relative parameters\n",
    "swap_fwd_start.as_dict()"
   ]
  },
  {
   "cell_type": "code",
   "execution_count": null,
   "metadata": {},
   "outputs": [],
   "source": [
    "# Resolve Instrument, View fixed parameters\n",
    "swap_fwd_start.resolve()\n",
    "swap_fwd_start.as_dict()"
   ]
  },
  {
   "cell_type": "code",
   "execution_count": null,
   "metadata": {},
   "outputs": [],
   "source": [
    "# Calculate Price - Local Ccy and USD\n",
    "print('swap price (local): {price}'.format(price=swap.price()))\n",
    "print('swap price (usd): {price}'.format(price=swap.dollar_price()))"
   ]
  },
  {
   "cell_type": "code",
   "execution_count": null,
   "metadata": {},
   "outputs": [],
   "source": [
    "# Calculate IR Delta (Parallel and Ladder)\n",
    "ir_risk = swap.calc((risk.IRDeltaParallel, risk.IRDeltaParallelLocalCcy, risk.IRDelta))\n",
    "\n",
    "# Print Risks\n",
    "print(ir_risk[risk.IRDeltaParallel])\n",
    "print(ir_risk[risk.IRDeltaParallelLocalCcy])\n",
    "print(ir_risk[risk.IRDelta])"
   ]
  },
  {
   "cell_type": "code",
   "execution_count": null,
   "metadata": {},
   "outputs": [],
   "source": [
    "# show IRDelta Ladder only where exposure >1e-2\n",
    "ird_ladder=ir_risk[risk.IRDelta]\n",
    "print(ird_ladder[abs(ird_ladder.value)>1e-2])"
   ]
  }
 ],
 "metadata": {
  "kernelspec": {
   "display_name": "Python 3",
   "language": "python",
   "name": "python3"
  },
  "language_info": {
   "codemirror_mode": {
    "name": "ipython",
    "version": 3
   },
   "file_extension": ".py",
   "mimetype": "text/x-python",
   "name": "python",
   "nbconvert_exporter": "python",
   "pygments_lexer": "ipython3",
   "version": "3.7.2"
  },
  "pycharm": {
   "stem_cell": {
    "cell_type": "raw",
    "metadata": {
     "collapsed": false
    },
    "source": []
   }
  }
 },
 "nbformat": 4,
 "nbformat_minor": 4
}
