{
 "cells": [
  {
   "cell_type": "code",
   "execution_count": 14,
   "metadata": {
    "ExecuteTime": {
     "end_time": "2020-08-03T17:56:43.672411Z",
     "start_time": "2020-08-03T17:56:43.670023Z"
    }
   },
   "outputs": [],
   "source": [
    "import modin.pandas as pd\n",
    "import numpy as np\n",
    "import swifter\n",
    "\n",
    "import perfplot\n",
    "import matplotlib.pyplot as plt"
   ]
  },
  {
   "cell_type": "code",
   "execution_count": 106,
   "metadata": {
    "ExecuteTime": {
     "end_time": "2020-08-03T18:11:07.639672Z",
     "start_time": "2020-08-03T18:11:07.467094Z"
    }
   },
   "outputs": [
    {
     "name": "stderr",
     "output_type": "stream",
     "text": [
      "UserWarning: Distributing <class 'dict'> object. This may take some time.\n"
     ]
    }
   ],
   "source": [
    "df = pd.DataFrame({\n",
    "    \"gaussian\": np.random.normal(size=1_000_000),\n",
    "    \"str_date\": [\"2020-01-01\"] * 1_000_000,\n",
    "})"
   ]
  },
  {
   "cell_type": "code",
   "execution_count": 107,
   "metadata": {
    "ExecuteTime": {
     "end_time": "2020-08-03T18:11:30.129466Z",
     "start_time": "2020-08-03T18:11:30.126464Z"
    }
   },
   "outputs": [],
   "source": [
    "def modin_apply(df, func):\n",
    "    return df.apply(func)._to_pandas()"
   ]
  },
  {
   "cell_type": "code",
   "execution_count": 108,
   "metadata": {
    "ExecuteTime": {
     "end_time": "2020-08-03T18:11:30.286133Z",
     "start_time": "2020-08-03T18:11:30.282799Z"
    }
   },
   "outputs": [],
   "source": [
    "def swifter_apply(df, func):\n",
    "    return df.swifter.apply(func)._to_pandas()"
   ]
  },
  {
   "cell_type": "code",
   "execution_count": 126,
   "metadata": {
    "ExecuteTime": {
     "end_time": "2020-08-03T18:28:54.307020Z",
     "start_time": "2020-08-03T18:28:54.302023Z"
    }
   },
   "outputs": [],
   "source": [
    "def perfplot_benchmark(df, field, func):\n",
    "    benchmark = perfplot.bench(\n",
    "        setup=lambda n: df.iloc[:n][field],\n",
    "        kernels=[\n",
    "            lambda srs: modin_apply(srs, func),\n",
    "            lambda srs: swifter_apply(srs, func),\n",
    "        ],\n",
    "        labels=[\"Modin Apply\", \"Swifter Apply\"],\n",
    "        n_range=[2**k for k in range (0, 26, 2)],\n",
    "        xlabel=\"n_rows\",\n",
    "        equality_check=lambda left, right: left.equals(right)\n",
    "    )\n",
    "    return benchmark"
   ]
  },
  {
   "cell_type": "code",
   "execution_count": 127,
   "metadata": {
    "ExecuteTime": {
     "end_time": "2020-08-03T18:44:04.214823Z",
     "start_time": "2020-08-03T18:28:56.329639Z"
    },
    "scrolled": true
   },
   "outputs": [
    {
     "name": "stderr",
     "output_type": "stream",
     "text": [
      "  0%|          | 0/13 [00:00<?, ?it/s]\n",
      "  0%|          | 0/2 [00:00<?, ?it/s]\u001b[A\n",
      " 50%|█████     | 1/2 [00:00<00:00,  1.17it/s]\u001b[A\n",
      "100%|██████████| 2/2 [00:01<00:00,  1.07it/s]\u001b[A\n",
      "  8%|▊         | 1/13 [00:02<00:24,  2.00s/it][A\n",
      "  0%|          | 0/2 [00:00<?, ?it/s]\u001b[A\n",
      " 50%|█████     | 1/2 [00:00<00:00,  1.07it/s]\u001b[A\n",
      "100%|██████████| 2/2 [00:02<00:00,  1.01it/s]\u001b[A\n",
      " 15%|█▌        | 2/13 [00:04<00:22,  2.02s/it][A\n",
      "  0%|          | 0/2 [00:00<?, ?it/s]\u001b[A\n",
      " 50%|█████     | 1/2 [00:01<00:01,  1.01s/it]\u001b[A\n",
      "100%|██████████| 2/2 [00:02<00:00,  1.05s/it]\u001b[A\n",
      " 23%|██▎       | 3/13 [00:06<00:20,  2.07s/it][A\n",
      "  0%|          | 0/2 [00:00<?, ?it/s]\u001b[A\n",
      " 50%|█████     | 1/2 [00:01<00:01,  1.03s/it]\u001b[A\n",
      "100%|██████████| 2/2 [00:02<00:00,  1.05s/it]\u001b[A\n",
      " 31%|███       | 4/13 [00:08<00:18,  2.10s/it][A\n",
      "  0%|          | 0/2 [00:00<?, ?it/s]\u001b[A\n",
      " 50%|█████     | 1/2 [00:01<00:01,  1.11s/it]\u001b[A\n",
      "100%|██████████| 2/2 [00:02<00:00,  1.10s/it]\u001b[A\n",
      " 38%|███▊      | 5/13 [00:10<00:17,  2.15s/it][A\n",
      "  0%|          | 0/2 [00:00<?, ?it/s]\u001b[A\n",
      " 50%|█████     | 1/2 [00:01<00:01,  1.33s/it]\u001b[A\n",
      "100%|██████████| 2/2 [00:02<00:00,  1.24s/it]\u001b[A\n",
      " 46%|████▌     | 6/13 [00:13<00:15,  2.27s/it][A\n",
      "  0%|          | 0/2 [00:00<?, ?it/s]\u001b[A\n",
      " 50%|█████     | 1/2 [00:02<00:02,  2.14s/it]\u001b[A\n",
      "100%|██████████| 2/2 [00:03<00:00,  1.83s/it]\u001b[A\n",
      " 54%|█████▍    | 7/13 [00:17<00:16,  2.78s/it][A\n",
      "  0%|          | 0/2 [00:00<?, ?it/s]\u001b[A\n",
      " 50%|█████     | 1/2 [00:08<00:08,  8.62s/it]\u001b[A\n",
      "100%|██████████| 2/2 [00:09<00:00,  6.35s/it]\u001b[A\n",
      " 62%|██████▏   | 8/13 [00:30<00:28,  5.80s/it][A\n",
      "  0%|          | 0/2 [00:00<?, ?it/s]\u001b[A\n",
      " 50%|█████     | 1/2 [00:21<00:21, 21.84s/it]\u001b[A\n",
      "100%|██████████| 2/2 [00:22<00:00, 15.62s/it]\u001b[A\n",
      " 69%|██████▉   | 9/13 [01:00<00:52, 13.12s/it][A\n",
      "  0%|          | 0/2 [00:00<?, ?it/s]\u001b[A\n",
      " 50%|█████     | 1/2 [01:00<01:00, 60.22s/it]\u001b[A\n",
      "100%|██████████| 2/2 [01:01<00:00, 42.54s/it]\u001b[A\n",
      " 77%|███████▋  | 10/13 [02:12<01:32, 30.93s/it]A\n",
      "  0%|          | 0/2 [00:00<?, ?it/s]\u001b[A"
     ]
    },
    {
     "name": "stdout",
     "output_type": "stream",
     "text": [
      "\u001b[2m\u001b[36m(pid=87398)\u001b[0m UserWarning: The pandas version installed 1.0.1 does not match the supported pandas version in Modin 1.0.5. This may cause undesired side effects!\n",
      "\u001b[2m\u001b[36m(pid=87399)\u001b[0m UserWarning: The pandas version installed 1.0.1 does not match the supported pandas version in Modin 1.0.5. This may cause undesired side effects!\n"
     ]
    },
    {
     "name": "stderr",
     "output_type": "stream",
     "text": [
      "\n",
      " 50%|█████     | 1/2 [03:23<03:23, 203.87s/it]\u001b[A\n",
      "100%|██████████| 2/2 [03:25<00:00, 143.18s/it]\u001b[A\n",
      " 85%|████████▍ | 11/13 [06:50<03:30, 105.06s/it]A\n",
      "  0%|          | 0/2 [00:00<?, ?it/s]\u001b[A"
     ]
    },
    {
     "name": "stdout",
     "output_type": "stream",
     "text": [
      "\u001b[2m\u001b[36m(pid=87396)\u001b[0m UserWarning: The pandas version installed 1.0.1 does not match the supported pandas version in Modin 1.0.5. This may cause undesired side effects!\n"
     ]
    },
    {
     "name": "stderr",
     "output_type": "stream",
     "text": [
      "\n",
      " 50%|█████     | 1/2 [02:58<02:58, 178.76s/it]\u001b[A\n",
      "100%|██████████| 2/2 [03:00<00:00, 125.64s/it]\u001b[A\n",
      " 92%|█████████▏| 12/13 [10:56<02:27, 147.26s/it]A\n",
      "  0%|          | 0/2 [00:00<?, ?it/s]\u001b[A"
     ]
    },
    {
     "name": "stdout",
     "output_type": "stream",
     "text": [
      "\u001b[2m\u001b[36m(pid=87397)\u001b[0m UserWarning: The pandas version installed 1.0.1 does not match the supported pandas version in Modin 1.0.5. This may cause undesired side effects!\n",
      "\u001b[2m\u001b[36m(pid=94545)\u001b[0m UserWarning: The pandas version installed 1.0.1 does not match the supported pandas version in Modin 1.0.5. This may cause undesired side effects!\n"
     ]
    },
    {
     "name": "stderr",
     "output_type": "stream",
     "text": [
      "\n",
      " 50%|█████     | 1/2 [03:00<03:00, 180.49s/it]\u001b[A\n",
      "100%|██████████| 2/2 [03:01<00:00, 90.98s/it] \u001b[A\n",
      "100%|██████████| 13/13 [15:07<00:00, 69.84s/it] \n"
     ]
    }
   ],
   "source": [
    "bench = perfplot_benchmark(df, \"str_date\", pd.to_datetime)"
   ]
  },
  {
   "cell_type": "code",
   "execution_count": 131,
   "metadata": {
    "ExecuteTime": {
     "end_time": "2020-08-03T18:44:52.356921Z",
     "start_time": "2020-08-03T18:44:52.148634Z"
    }
   },
   "outputs": [
    {
     "data": {
      "image/png": "[encoded data removed]",
      "text/plain": [
       "<Figure size 432x288 with 1 Axes>"
      ]
     },
     "metadata": {
      "needs_background": "light"
     },
     "output_type": "display_data"
    }
   ],
   "source": [
    "fig = plt.figure()\n",
    "bench.xlabel = \"n_rows\"\n",
    "bench.plot(logx=False, logy=False)\n",
    "plt.title(\"Modin DataFrame Performance Benchmark\")\n",
    "plt.savefig(\"modin_swifter_performance_benchmark.png\")"
   ]
  },
  {
   "cell_type": "code",
   "execution_count": 130,
   "metadata": {
    "ExecuteTime": {
     "end_time": "2020-08-03T18:44:50.611292Z",
     "start_time": "2020-08-03T18:44:49.763201Z"
    }
   },
   "outputs": [
    {
     "data": {
      "image/png": "[encoded data removed]",
      "text/plain": [
       "<Figure size 432x288 with 1 Axes>"
      ]
     },
     "metadata": {
      "needs_background": "light"
     },
     "output_type": "display_data"
    }
   ],
   "source": [
    "fig = plt.figure()\n",
    "bench.xlabel = \"log10(n_rows)\"\n",
    "bench.plot(logx=True, logy=True)\n",
    "plt.title(\"Modin DataFrame Performance Benchmark\")\n",
    "plt.ylabel(\"Runtime [log10(s)]\")\n",
    "plt.savefig(\"modin_swifter_performance_benchmark_loglog.png\")"
   ]
  }
 ],
 "metadata": {
  "kernelspec": {
   "display_name": "Python 3",
   "language": "python",
   "name": "python3"
  },
  "language_info": {
   "codemirror_mode": {
    "name": "ipython",
    "version": 3
   },
   "file_extension": ".py",
   "mimetype": "text/x-python",
   "name": "python",
   "nbconvert_exporter": "python",
   "pygments_lexer": "ipython3",
   "version": "3.7.6"
  },
  "toc": {
   "base_numbering": 1,
   "nav_menu": {},
   "number_sections": true,
   "sideBar": true,
   "skip_h1_title": false,
   "title_cell": "Table of Contents",
   "title_sidebar": "Contents",
   "toc_cell": false,
   "toc_position": {},
   "toc_section_display": true,
   "toc_window_display": false
  }
 },
 "nbformat": 4,
 "nbformat_minor": 4
}
