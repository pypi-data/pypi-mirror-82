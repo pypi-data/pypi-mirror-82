{
 "cells": [
  {
   "cell_type": "markdown",
   "metadata": {},
   "source": [
    "## PHAGES2050\n",
    "**Date:** 19.09.2020  \n",
    "**Author:** Pior Tynecki\n",
    "\n",
    "That notebook is a part of examples in the [PHAGES2050](https://github.com/ptynecki/PHAGES2050) repository. The content of it is valid and was tested with 0.0.7 framework version.\n",
    "\n",
    "Two belows examples are presenting the embedding model execution used for protein vectorization. The vectorization is producing 1024 or 1280 feature space for each protein or for the set of proteins representing single bacteriophage.\n",
    "Depends on your needs you can use fixed-length numeric vectors for:\n",
    "* single protein function prediction,\n",
    "* feature space creation for further Machine Learning classifications,\n",
    "* feature space creation for bacteriophages deeper exploration in 3D;\n",
    "\n",
    "This noteboook presents **ProtBert** and **ESM** embeddings execution."
   ]
  },
  {
   "cell_type": "markdown",
   "metadata": {},
   "source": [
    "## ProtBert\n",
    "### Import necessary modules"
   ]
  },
  {
   "cell_type": "code",
   "execution_count": null,
   "metadata": {},
   "outputs": [],
   "source": [
    "import torch\n",
    "import pandas as pd"
   ]
  },
  {
   "cell_type": "code",
   "execution_count": null,
   "metadata": {},
   "outputs": [],
   "source": [
    "from phages2050.embeddings.proteins.bert import BertModelManager, BertEmbedding"
   ]
  },
  {
   "cell_type": "markdown",
   "metadata": {},
   "source": [
    "### Download pre-trained proteins model\n",
    "Before you start vectorizing protein sequence or set of proteins you have to download pre-trained model dedicated for proteins embedding.  \n",
    "\n",
    "This step have to be done once and doesn't have to be repeated on single environment."
   ]
  },
  {
   "cell_type": "code",
   "execution_count": null,
   "metadata": {},
   "outputs": [],
   "source": [
    "bert_model_manager = BertModelManager()"
   ]
  },
  {
   "cell_type": "code",
   "execution_count": null,
   "metadata": {},
   "outputs": [],
   "source": [
    "# It can take a while and depends on the Internet speed\n",
    "# Be aware that model size is 1.4 GB\n",
    "bert_model_dir = bert_model_manager.download_model()\n",
    "\n",
    "# If succeed expect pre-trained model directory path\n",
    "bert_model_dir"
   ]
  },
  {
   "cell_type": "markdown",
   "metadata": {},
   "source": [
    "### Preapre DataFrame\n",
    "\n",
    "PHAGES2050 standard I/O data format is a pandas DataFrame.\n",
    "\n",
    "Put your protein sequence into DataFrame with their known function name or left it as \"Unknown\" value."
   ]
  },
  {
   "cell_type": "code",
   "execution_count": null,
   "metadata": {},
   "outputs": [],
   "source": [
    "# Non-fixed length protein string made up of 20 different amino acids\n",
    "protein_sequence = \"MSMYTTAQLLAANEQKFKFDPLFLRLFFRESYPFTTEKVYLSQIPGLVNMALYVSPIVSGEVIRSRGGSTSEFTPGYVKPKHEVNP\" \\\n",
    "                   \"QMTLRRLPDEDPQNLADPAYRRRRIIMQNMRDEELAIAQVEEMQAVSAVLKGKYTMTGEAFDPVEVDMGRSEENNITQSGGTEWSK\" \\\n",
    "                   \"RDKSTYDPTDDIEAYALNASGVVNIIVFDPKGWALFRSFKAVKEKLDTRRGSNSELETAVKDLGKAVSYKGMYGDVAIVVYSGQYV\" \\\n",
    "                   \"ENGVKKNFLPDNTMVLGNTQARGLRTYGCIQDADAQREGINASARYPKNWVTTGDPAREFTMIQSAPLMLLADPDEFVSVQLA\"\n",
    "\n",
    "# Protein function name\n",
    "protein_class = \"Unknown\"\n",
    "\n",
    "# Group it as list of two elements\n",
    "protein_data = [\n",
    "    protein_sequence,\n",
    "    protein_class\n",
    "]"
   ]
  },
  {
   "cell_type": "code",
   "execution_count": null,
   "metadata": {},
   "outputs": [],
   "source": [
    "# Create temporary DataFrame\n",
    "df = pd.DataFrame(\n",
    "    data=[protein_data],\n",
    "    columns=['sequence', 'class']\n",
    ")\n",
    "df.head()"
   ]
  },
  {
   "cell_type": "markdown",
   "metadata": {},
   "source": [
    "### Check CUDA and GPU support\n",
    "If you have CUDA and GPU support then each of the calculation below will be executed much more faster than with CPU."
   ]
  },
  {
   "cell_type": "code",
   "execution_count": null,
   "metadata": {},
   "outputs": [],
   "source": [
    "# Check if you have CUDA support\n",
    "torch.cuda.is_available()"
   ]
  },
  {
   "cell_type": "code",
   "execution_count": null,
   "metadata": {},
   "outputs": [],
   "source": [
    "# Check which GPU has expected ID\n",
    "gpu_device_count = torch.cuda.device_count()\n",
    "{gpu_id: torch.cuda.get_device_name(gpu_id) for gpu_id in range(gpu_device_count)}"
   ]
  },
  {
   "cell_type": "markdown",
   "metadata": {},
   "source": [
    "### Single protein vectorization - example 1\n",
    "This example shows how to vectorize single protein sequence into 1024 numeric vector space."
   ]
  },
  {
   "cell_type": "code",
   "execution_count": null,
   "metadata": {},
   "outputs": [],
   "source": [
    "bert_embedding = BertEmbedding(\n",
    "    model_dir=bert_model_dir,\n",
    "    # Pass expected GPU ID\n",
    "    cuda_device=0\n",
    ")"
   ]
  },
  {
   "cell_type": "code",
   "execution_count": null,
   "metadata": {},
   "outputs": [],
   "source": [
    "embbeding_result = bert_embedding.transform(df=df)"
   ]
  },
  {
   "cell_type": "code",
   "execution_count": null,
   "metadata": {},
   "outputs": [],
   "source": [
    "embbeding_result.head()"
   ]
  },
  {
   "cell_type": "markdown",
   "metadata": {},
   "source": [
    "### Bacteriophage averaged vectorization - example 2\n",
    "This example shows how to vectorize set of bacteriophage proteins sequences into 1024 (averaged) numeric vector space."
   ]
  },
  {
   "cell_type": "code",
   "execution_count": null,
   "metadata": {},
   "outputs": [],
   "source": [
    "# Non-fixed length protein string made up of 20 different amino acids\n",
    "protein_sequence_1 = \"MSMYTTAQLLAANEQKFKFDPLFLRLFFRESYPFTTEKVYLSQIPGLVNMALYVSPIVSGEVIRSRGGSTSEFTPGYVKPKHEVNP\" \\\n",
    "                     \"QMTLRRLPDEDPQNLADPAYRRRRIIMQNMRDEELAIAQVEEMQAVSAVLKGKYTMTGEAFDPVEVDMGRSEENNITQSGGTEWSK\" \\\n",
    "                     \"RDKSTYDPTDDIEAYALNASGVVNIIVFDPKGWALFRSFKAVKEKLDTRRGSNSELETAVKDLGKAVSYKGMYGDVAIVVYSGQYV\" \\\n",
    "                     \"ENGVKKNFLPDNTMVLGNTQARGLRTYGCIQDADAQREGINASARYPKNWVTTGDPAREFTMIQSAPLMLLADPDEFVSVQLA\"\n",
    "\n",
    "protein_id_1 = \"NP_040587.1\"\n",
    "\n",
    "protein_sequence_2 = \"MNLKEQRKAKMAEALNFKARIKAGDALSDDEVKALTALLGDIESLDAQIAKAEENAKVLASVAQLPDADSEKPTGTDGGAKASSLG\" \\\n",
    "                     \"AHFIKELKASGRSLKDPGSFVSTEFKAATDTQSVGSAGGAFGPLITDVDRTPVIPFQRPLAVADLMASGSVSGNAITYPVFGALEG\" \\\n",
    "                     \"TSTFVAEGAAKPQLHVANPEWKTDALGEIAAWFKVTDDMAEDIPYLVSEIQSTAIYDLALREELALLSGDGSASSITGILNRPGVQ\" \\\n",
    "                     \"TIAKGTDSDPDRIFSAISKVQEVTGFVADGIVINPADYQAIRLSKDANGQYFGGGFFSGQYGTGGIVQNPPLWGLKTVVTSSIAQG\" \\\n",
    "                     \"TTVVGPFKAAAKVFRKGGLRVESTNSHADDFTNDKITIRIRERLGLQVKYPSAFVKVALGTAGK\"\n",
    "\n",
    "\n",
    "protein_id_2 = \"YP_009596870.1\"\n",
    "\n",
    "# Group it as list of lists with two elements each\n",
    "bacteriophage_data = [\n",
    "    [protein_sequence_1, protein_id_1],\n",
    "    [protein_sequence_2, protein_id_2]\n",
    "]"
   ]
  },
  {
   "cell_type": "code",
   "execution_count": null,
   "metadata": {},
   "outputs": [],
   "source": [
    "# Create temporary DataFrame\n",
    "df_phage = pd.DataFrame(\n",
    "    data=bacteriophage_data,\n",
    "    columns=['sequence', 'name']\n",
    ")\n",
    "df_phage.head()"
   ]
  },
  {
   "cell_type": "code",
   "execution_count": null,
   "metadata": {},
   "outputs": [],
   "source": [
    "embbeding_result = bert_embedding.transform(\n",
    "    df=df_phage,\n",
    "    bacteriophage_level=True\n",
    ")"
   ]
  },
  {
   "cell_type": "code",
   "execution_count": null,
   "metadata": {},
   "outputs": [],
   "source": [
    "embbeding_result.head()"
   ]
  },
  {
   "cell_type": "markdown",
   "metadata": {},
   "source": [
    "## ESM\n",
    "### Import necessary modules"
   ]
  },
  {
   "cell_type": "code",
   "execution_count": null,
   "metadata": {},
   "outputs": [],
   "source": [
    "from phages2050.embeddings.proteins.esm import ESMEmbedding"
   ]
  },
  {
   "cell_type": "markdown",
   "metadata": {},
   "source": [
    "### Download pre-trained proteins model"
   ]
  },
  {
   "cell_type": "code",
   "execution_count": null,
   "metadata": {},
   "outputs": [],
   "source": [
    "# It can take a while and depends on the Internet speed\n",
    "# Be aware that model size is 6.7 GB\n",
    "esm_embedding = ESMEmbedding(\n",
    "    # Uniref100 or Uniref50\n",
    "    uniref='Uniref100',\n",
    "    # CUDA device ID or None (CPU)\n",
    "    cuda_device=0\n",
    ")"
   ]
  },
  {
   "cell_type": "markdown",
   "metadata": {},
   "source": [
    "### Bacteriophage averaged vectorization - example 3"
   ]
  },
  {
   "cell_type": "code",
   "execution_count": null,
   "metadata": {},
   "outputs": [],
   "source": [
    "phage_embbeding_result = esm_embedding.transform(\n",
    "    fasta_path='example_with_proteins.fasta',\n",
    "    bacteriophage_level=True\n",
    ")"
   ]
  },
  {
   "cell_type": "code",
   "execution_count": null,
   "metadata": {},
   "outputs": [],
   "source": [
    "phage_embbeding_result.head()"
   ]
  },
  {
   "cell_type": "code",
   "execution_count": null,
   "metadata": {},
   "outputs": [],
   "source": [
    "phage_embbeding_result.shape"
   ]
  },
  {
   "cell_type": "markdown",
   "metadata": {},
   "source": [
    "### Bacteriophage each protein vectorization - example 4"
   ]
  },
  {
   "cell_type": "code",
   "execution_count": null,
   "metadata": {},
   "outputs": [],
   "source": [
    "proteins_embbeding_result = esm_embedding.transform(\n",
    "    fasta_path='example_with_proteins.fasta'\n",
    ")"
   ]
  },
  {
   "cell_type": "code",
   "execution_count": null,
   "metadata": {},
   "outputs": [],
   "source": [
    "proteins_embbeding_result.head()"
   ]
  },
  {
   "cell_type": "code",
   "execution_count": null,
   "metadata": {},
   "outputs": [],
   "source": [
    "proteins_embbeding_result.shape"
   ]
  }
 ],
 "metadata": {
  "kernelspec": {
   "display_name": "Python 3",
   "language": "python",
   "name": "python3"
  },
  "language_info": {
   "codemirror_mode": {
    "name": "ipython",
    "version": 3
   },
   "file_extension": ".py",
   "mimetype": "text/x-python",
   "name": "python",
   "nbconvert_exporter": "python",
   "pygments_lexer": "ipython3",
   "version": "3.6.9"
  }
 },
 "nbformat": 4,
 "nbformat_minor": 4
}
