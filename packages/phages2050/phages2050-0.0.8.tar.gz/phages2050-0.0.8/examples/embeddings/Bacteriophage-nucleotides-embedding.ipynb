{
 "cells": [
  {
   "cell_type": "code",
   "execution_count": null,
   "metadata": {},
   "outputs": [],
   "source": [
    "from phages2050.features.io.fasta import FastaReader\n",
    "from phages2050.features.transformers.kmers import KMersTransformer, GenomeAvgTransformer\n",
    "from phages2050.embeddings.nucleotides.word2vec import Word2VecModelManager, Word2VecEmbedding"
   ]
  },
  {
   "cell_type": "code",
   "execution_count": null,
   "metadata": {},
   "outputs": [],
   "source": [
    "# Download the newest Word2Vec embedding model for nucleotides\n",
    "# word2vec_model directory will be created\n",
    "model_dir = Word2VecModelManager().download_model()\n",
    "model_pkl_file = f'{model_dir}/word2vec-embedding-21.07.2020.pkl'"
   ]
  },
  {
   "cell_type": "code",
   "execution_count": null,
   "metadata": {},
   "outputs": [],
   "source": [
    "# Example sample in FASTA format (or multi-FASTA)\n",
    "fasta_file = 'NC_001604.fasta'"
   ]
  },
  {
   "cell_type": "code",
   "execution_count": null,
   "metadata": {},
   "outputs": [],
   "source": [
    "# Read FASTA file and return as pandas DataFrame\n",
    "fasta_reader = FastaReader(fasta_file)\n",
    "sample = fasta_reader.to_df()"
   ]
  },
  {
   "cell_type": "code",
   "execution_count": null,
   "metadata": {},
   "outputs": [],
   "source": [
    "# Transform genome sequence into k-mers sequence\n",
    "kmt = KMersTransformer()\n",
    "X_kmt = kmt.transform(sample)"
   ]
  },
  {
   "cell_type": "code",
   "execution_count": null,
   "metadata": {},
   "outputs": [],
   "source": [
    "# Load Word2Vec embedding model\n",
    "w2v = Word2VecEmbedding(\n",
    "    model_pkl_file=model_pkl_file\n",
    ")"
   ]
  },
  {
   "cell_type": "code",
   "execution_count": null,
   "metadata": {},
   "outputs": [],
   "source": [
    "# Transform Bacteriophage genome into averaged vector space using Word2Vec model\n",
    "genone_avg = GenomeAvgTransformer(gensim_model=w2v.model)\n",
    "\n",
    "# Return pandas DataFrame with fixed-length numeric vector\n",
    "# ready for 3D plot exploration or Machine Learning classification\n",
    "genone_avg.transform(X_kmt)"
   ]
  }
 ],
 "metadata": {
  "kernelspec": {
   "display_name": "Python 3",
   "language": "python",
   "name": "python3"
  },
  "language_info": {
   "codemirror_mode": {
    "name": "ipython",
    "version": 3
   },
   "file_extension": ".py",
   "mimetype": "text/x-python",
   "name": "python",
   "nbconvert_exporter": "python",
   "pygments_lexer": "ipython3",
   "version": "3.6.9"
  }
 },
 "nbformat": 4,
 "nbformat_minor": 4
}