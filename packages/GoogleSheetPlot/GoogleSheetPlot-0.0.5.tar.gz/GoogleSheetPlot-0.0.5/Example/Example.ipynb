{
 "cells": [
  {
   "cell_type": "markdown",
   "metadata": {},
   "source": [
    "## Install the package"
   ]
  },
  {
   "cell_type": "code",
   "execution_count": 3,
   "metadata": {},
   "outputs": [
    {
     "name": "stdout",
     "output_type": "stream",
     "text": [
      "Using pip 20.2.3 from c:\\users\\victor\\appdata\\local\\programs\\python\\python36-32\\lib\\site-packages\\pip (python 3.6)\n",
      "Non-user install because site-packages writeable\n",
      "Created temporary directory: C:\\Users\\VICTOR\\AppData\\Local\\Temp\\pip-ephem-wheel-cache-bah_v3zi\n",
      "Created temporary directory: C:\\Users\\VICTOR\\AppData\\Local\\Temp\\pip-req-tracker-v2cxskb_\n",
      "Initialized build tracking at C:\\Users\\VICTOR\\AppData\\Local\\Temp\\pip-req-tracker-v2cxskb_\n",
      "Created build tracker: C:\\Users\\VICTOR\\AppData\\Local\\Temp\\pip-req-tracker-v2cxskb_\n",
      "Entered build tracker: C:\\Users\\VICTOR\\AppData\\Local\\Temp\\pip-req-tracker-v2cxskb_\n",
      "Created temporary directory: C:\\Users\\VICTOR\\AppData\\Local\\Temp\\pip-install-jdk1hopr\n",
      "1 location(s) to search for versions of GoogleSheetPlot:\n",
      "* https://pypi.org/simple/googlesheetplot/\n",
      "Fetching project page and analyzing links: https://pypi.org/simple/googlesheetplot/\n",
      "Getting page https://pypi.org/simple/googlesheetplot/\n",
      "Found index url https://pypi.org/simple\n",
      "Getting credentials from keyring for https://pypi.org/simple\n",
      "Getting credentials from keyring for pypi.org\n",
      "Looking up \"https://pypi.org/simple/googlesheetplot/\" in the cache\n",
      "Request header has \"max_age\" as 0, cache bypassed\n",
      "Starting new HTTPS connection (1): pypi.org:443\n",
      "https://pypi.org:443 \"GET /simple/googlesheetplot/ HTTP/1.1\" 304 0\n",
      "  Found link https://files.pythonhosted.org/packages/c3/5a/7bf518e92d7ef76d53ec241a2f230dc21f1d6251aa851e8c1a3eb82c2bd7/GoogleSheetPlot-0.0.4.tar.gz#sha256=b67fd9f4c092d80a36593336ababce7971dfeb67b9a4f369b0aba1f805086ab5 (from https://pypi.org/simple/googlesheetplot/) (requires-python:>=3.6), version: 0.0.4\n",
      "Given no hashes to check 1 links for project 'GoogleSheetPlot': discarding no candidates\n",
      "Using version 0.0.4 (newest of versions: 0.0.4)\n",
      "Collecting GoogleSheetPlot\n",
      "  Created temporary directory: C:\\Users\\VICTOR\\AppData\\Local\\Temp\\pip-unpack-g53u4xos\n",
      "  Getting credentials from keyring for files.pythonhosted.org\n",
      "  Looking up \"https://files.pythonhosted.org/packages/c3/5a/7bf518e92d7ef76d53ec241a2f230dc21f1d6251aa851e8c1a3eb82c2bd7/GoogleSheetPlot-0.0.4.tar.gz\" in the cache\n",
      "  Current age based on date: 469\n",
      "  Ignoring unknown cache-control directive: immutable\n",
      "  Freshness lifetime from max-age: 365000000\n",
      "  The response is \"fresh\", returning cached response\n",
      "  365000000 > 469\n",
      "  Using cached GoogleSheetPlot-0.0.4.tar.gz (6.7 kB)\n",
      "  Added GoogleSheetPlot from https://files.pythonhosted.org/packages/c3/5a/7bf518e92d7ef76d53ec241a2f230dc21f1d6251aa851e8c1a3eb82c2bd7/GoogleSheetPlot-0.0.4.tar.gz#sha256=b67fd9f4c092d80a36593336ababce7971dfeb67b9a4f369b0aba1f805086ab5 to build tracker 'C:\\\\Users\\\\VICTOR\\\\AppData\\\\Local\\\\Temp\\\\pip-req-tracker-v2cxskb_'\n",
      "    Running setup.py (path:C:\\Users\\VICTOR\\AppData\\Local\\Temp\\pip-install-jdk1hopr\\googlesheetplot\\setup.py) egg_info for package GoogleSheetPlot\n",
      "    Created temporary directory: C:\\Users\\VICTOR\\AppData\\Local\\Temp\\pip-pip-egg-info-5c7g43r9\n",
      "  Source in c:\\users\\victor\\appdata\\local\\temp\\pip-install-jdk1hopr\\googlesheetplot has version 0.0.4, which satisfies requirement GoogleSheetPlot from https://files.pythonhosted.org/packages/c3/5a/7bf518e92d7ef76d53ec241a2f230dc21f1d6251aa851e8c1a3eb82c2bd7/GoogleSheetPlot-0.0.4.tar.gz#sha256=b67fd9f4c092d80a36593336ababce7971dfeb67b9a4f369b0aba1f805086ab5\n",
      "  Removed GoogleSheetPlot from https://files.pythonhosted.org/packages/c3/5a/7bf518e92d7ef76d53ec241a2f230dc21f1d6251aa851e8c1a3eb82c2bd7/GoogleSheetPlot-0.0.4.tar.gz#sha256=b67fd9f4c092d80a36593336ababce7971dfeb67b9a4f369b0aba1f805086ab5 from build tracker 'C:\\\\Users\\\\VICTOR\\\\AppData\\\\Local\\\\Temp\\\\pip-req-tracker-v2cxskb_'\n",
      "Requirement already satisfied: requests in c:\\users\\victor\\appdata\\local\\programs\\python\\python36-32\\lib\\site-packages (from GoogleSheetPlot) (2.24.0)\n",
      "Requirement already satisfied: pandas in c:\\users\\victor\\appdata\\local\\programs\\python\\python36-32\\lib\\site-packages (from GoogleSheetPlot) (1.0.3)\n",
      "Requirement already satisfied: matplotlib in c:\\users\\victor\\appdata\\local\\programs\\python\\python36-32\\lib\\site-packages (from GoogleSheetPlot) (2.2.2)\n",
      "Requirement already satisfied: google-api-python-client in c:\\users\\victor\\appdata\\local\\programs\\python\\python36-32\\lib\\site-packages (from GoogleSheetPlot) (1.12.3)\n",
      "Requirement already satisfied: google-auth-httplib2 in c:\\users\\victor\\appdata\\local\\programs\\python\\python36-32\\lib\\site-packages (from GoogleSheetPlot) (0.0.4)\n",
      "Requirement already satisfied: google-auth-oauthlib in c:\\users\\victor\\appdata\\local\\programs\\python\\python36-32\\lib\\site-packages (from GoogleSheetPlot) (0.4.1)\n",
      "1 location(s) to search for versions of pickle:\n",
      "* https://pypi.org/simple/pickle/\n",
      "Fetching project page and analyzing links: https://pypi.org/simple/pickle/\n",
      "Getting page https://pypi.org/simple/pickle/\n",
      "Found index url https://pypi.org/simple\n",
      "Getting credentials from keyring for https://pypi.org/simple\n",
      "Getting credentials from keyring for pypi.org\n",
      "Looking up \"https://pypi.org/simple/pickle/\" in the cache\n",
      "Request header has \"max_age\" as 0, cache bypassed\n",
      "https://pypi.org:443 \"GET /simple/pickle/ HTTP/1.1\" 404 13\n",
      "Status code 404 not in (200, 203, 300, 301)\n",
      "Could not fetch URL https://pypi.org/simple/pickle/: 404 Client Error: Not Found for url: https://pypi.org/simple/pickle/ - skipping\n",
      "Given no hashes to check 0 links for project 'pickle': discarding no candidates\n",
      "Exception information:\n",
      "Traceback (most recent call last):\n",
      "  File \"c:\\users\\victor\\appdata\\local\\programs\\python\\python36-32\\lib\\site-packages\\pip\\_internal\\cli\\base_command.py\", line 228, in _main\n",
      "    status = self.run(options, args)\n",
      "  File \"c:\\users\\victor\\appdata\\local\\programs\\python\\python36-32\\lib\\site-packages\\pip\\_internal\\cli\\req_command.py\", line 182, in wrapper\n",
      "    return func(self, options, args)\n",
      "  File \"c:\\users\\victor\\appdata\\local\\programs\\python\\python36-32\\lib\\site-packages\\pip\\_internal\\commands\\install.py\", line 324, in run\n",
      "    reqs, check_supported_wheels=not options.target_dir\n",
      "  File \"c:\\users\\victor\\appdata\\local\\programs\\python\\python36-32\\lib\\site-packages\\pip\\_internal\\resolution\\legacy\\resolver.py\", line 183, in resolve\n",
      "    discovered_reqs.extend(self._resolve_one(requirement_set, req))\n",
      "  File \"c:\\users\\victor\\appdata\\local\\programs\\python\\python36-32\\lib\\site-packages\\pip\\_internal\\resolution\\legacy\\resolver.py\", line 388, in _resolve_one\n",
      "    abstract_dist = self._get_abstract_dist_for(req_to_install)\n",
      "  File \"c:\\users\\victor\\appdata\\local\\programs\\python\\python36-32\\lib\\site-packages\\pip\\_internal\\resolution\\legacy\\resolver.py\", line 339, in _get_abstract_dist_for\n",
      "    self._populate_link(req)\n",
      "  File \"c:\\users\\victor\\appdata\\local\\programs\\python\\python36-32\\lib\\site-packages\\pip\\_internal\\resolution\\legacy\\resolver.py\", line 305, in _populate_link\n",
      "    req.link = self._find_requirement_link(req)\n",
      "  File \"c:\\users\\victor\\appdata\\local\\programs\\python\\python36-32\\lib\\site-packages\\pip\\_internal\\resolution\\legacy\\resolver.py\", line 270, in _find_requirement_link\n",
      "    best_candidate = self.finder.find_requirement(req, upgrade)\n",
      "  File \"c:\\users\\victor\\appdata\\local\\programs\\python\\python36-32\\lib\\site-packages\\pip\\_internal\\index\\package_finder.py\", line 928, in find_requirement\n",
      "    req)\n",
      "pip._internal.exceptions.DistributionNotFound: No matching distribution found for pickle (from GoogleSheetPlot)\n",
      "Removed build tracker: 'C:\\\\Users\\\\VICTOR\\\\AppData\\\\Local\\\\Temp\\\\pip-req-tracker-v2cxskb_'\n"
     ]
    },
    {
     "name": "stderr",
     "output_type": "stream",
     "text": [
      "    Running command python setup.py egg_info\n",
      "    running egg_info\n",
      "    creating C:\\Users\\VICTOR\\AppData\\Local\\Temp\\pip-pip-egg-info-5c7g43r9\\GoogleSheetPlot.egg-info\n",
      "    writing C:\\Users\\VICTOR\\AppData\\Local\\Temp\\pip-pip-egg-info-5c7g43r9\\GoogleSheetPlot.egg-info\\PKG-INFO\n",
      "    writing dependency_links to C:\\Users\\VICTOR\\AppData\\Local\\Temp\\pip-pip-egg-info-5c7g43r9\\GoogleSheetPlot.egg-info\\dependency_links.txt\n",
      "    writing requirements to C:\\Users\\VICTOR\\AppData\\Local\\Temp\\pip-pip-egg-info-5c7g43r9\\GoogleSheetPlot.egg-info\\requires.txt\n",
      "    writing top-level names to C:\\Users\\VICTOR\\AppData\\Local\\Temp\\pip-pip-egg-info-5c7g43r9\\GoogleSheetPlot.egg-info\\top_level.txt\n",
      "    writing manifest file 'C:\\Users\\VICTOR\\AppData\\Local\\Temp\\pip-pip-egg-info-5c7g43r9\\GoogleSheetPlot.egg-info\\SOURCES.txt'\n",
      "    reading manifest file 'C:\\Users\\VICTOR\\AppData\\Local\\Temp\\pip-pip-egg-info-5c7g43r9\\GoogleSheetPlot.egg-info\\SOURCES.txt'\n",
      "    writing manifest file 'C:\\Users\\VICTOR\\AppData\\Local\\Temp\\pip-pip-egg-info-5c7g43r9\\GoogleSheetPlot.egg-info\\SOURCES.txt'\n",
      "    c:\\users\\victor\\appdata\\local\\programs\\python\\python36-32\\lib\\site-packages\\setuptools\\dist.py:454: UserWarning: Normalizing 'v0.0.04' to '0.0.4'\n",
      "      warnings.warn(tmpl.format(**locals()))\n",
      "ERROR: Could not find a version that satisfies the requirement pickle (from GoogleSheetPlot) (from versions: none)\n",
      "ERROR: No matching distribution found for pickle (from GoogleSheetPlot)\n"
     ]
    }
   ],
   "source": [
    "!pip install GoogleSheetPlot -vvv"
   ]
  },
  {
   "cell_type": "markdown",
   "metadata": {},
   "source": [
    "## import GoogleSheetPlot\n",
    "Initialize GoogleSheetPlot, by giving your SPREADSHEET_ID(access it from your google spreadsheet link from the Google Drive account), and the range of the X and Y range from your google sheet."
   ]
  },
  {
   "cell_type": "code",
   "execution_count": 4,
   "metadata": {},
   "outputs": [
    {
     "ename": "ModuleNotFoundError",
     "evalue": "No module named 'GoogleSheetPlot'",
     "output_type": "error",
     "traceback": [
      "\u001b[1;31m---------------------------------------------------------------------------\u001b[0m",
      "\u001b[1;31mModuleNotFoundError\u001b[0m                       Traceback (most recent call last)",
      "\u001b[1;32m<ipython-input-4-a83ce681e58c>\u001b[0m in \u001b[0;36m<module>\u001b[1;34m()\u001b[0m\n\u001b[1;32m----> 1\u001b[1;33m \u001b[1;32mimport\u001b[0m \u001b[0mGoogleSheetPlot\u001b[0m\u001b[1;33m\u001b[0m\u001b[0m\n\u001b[0m\u001b[0;32m      2\u001b[0m \u001b[0mSAMPLE_SPREADSHEET_ID\u001b[0m \u001b[1;33m=\u001b[0m \u001b[1;34m'1SrZfvr2ee54r7HR1jGtAE9zHIj_Y-UzK9ok8bdwkpqc'\u001b[0m\u001b[1;33m\u001b[0m\u001b[0m\n\u001b[0;32m      3\u001b[0m \u001b[0mSAMPLE_RANGE_NAME\u001b[0m \u001b[1;33m=\u001b[0m \u001b[1;34m'A1:C80'\u001b[0m\u001b[1;33m\u001b[0m\u001b[0m\n",
      "\u001b[1;31mModuleNotFoundError\u001b[0m: No module named 'GoogleSheetPlot'"
     ]
    }
   ],
   "source": [
    "import GoogleSheetPlot\n",
    "SAMPLE_SPREADSHEET_ID = '1SrZfvr2ee54r7HR1jGtAE9zHIj_Y-UzK9ok8bdwkpqc'\n",
    "SAMPLE_RANGE_NAME = 'A1:C80'"
   ]
  },
  {
   "cell_type": "markdown",
   "metadata": {},
   "source": [
    "## Initialize the dataFrame"
   ]
  },
  {
   "cell_type": "code",
   "execution_count": null,
   "metadata": {},
   "outputs": [],
   "source": [
    "gsp = GoogleSheetPlot()\n",
    "df = gsp.getDataFrame(SAMPLE_SPREADSHEET_ID, SAMPLE_RANGE_NAME)\n",
    "df.head()"
   ]
  },
  {
   "cell_type": "markdown",
   "metadata": {},
   "source": [
    "## Plot the graph\n",
    "Give the valid column names(X and Y axis)with the type of plot you want to get.<br>\n",
    "Your plot gets saved with the format \"col1_col2_category.png\"."
   ]
  },
  {
   "cell_type": "code",
   "execution_count": null,
   "metadata": {},
   "outputs": [],
   "source": [
    "#gsp.getPlot(\"Column-1\", \"Column-2\",\"Plot category\")\n",
    "gsp.getPlot(\"average_sales\", \"offer_price\",\"line\")"
   ]
  },
  {
   "cell_type": "code",
   "execution_count": null,
   "metadata": {},
   "outputs": [],
   "source": []
  }
 ],
 "metadata": {
  "kernelspec": {
   "display_name": "Python 3",
   "language": "python",
   "name": "python3"
  },
  "language_info": {
   "codemirror_mode": {
    "name": "ipython",
    "version": 3
   },
   "file_extension": ".py",
   "mimetype": "text/x-python",
   "name": "python",
   "nbconvert_exporter": "python",
   "pygments_lexer": "ipython3",
   "version": "3.6.5"
  }
 },
 "nbformat": 4,
 "nbformat_minor": 2
}
