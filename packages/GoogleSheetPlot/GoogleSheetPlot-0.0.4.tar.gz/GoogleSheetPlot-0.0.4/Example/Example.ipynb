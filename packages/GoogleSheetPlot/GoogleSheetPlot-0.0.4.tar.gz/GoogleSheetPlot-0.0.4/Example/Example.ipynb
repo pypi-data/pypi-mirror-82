{
 "cells": [
  {
   "cell_type": "markdown",
   "metadata": {},
   "source": [
    "## Install the package"
   ]
  },
  {
   "cell_type": "code",
   "execution_count": 1,
   "metadata": {},
   "outputs": [
    {
     "name": "stdout",
     "output_type": "stream",
     "text": [
      "Collecting GoogleSheetPlot\n",
      "  Using cached GoogleSheetPlot-0.0.2.tar.gz (70 kB)\n",
      "Requirement already satisfied: requests in c:\\users\\victor\\appdata\\local\\programs\\python\\python36-32\\lib\\site-packages (from GoogleSheetPlot) (2.24.0)\n",
      "Requirement already satisfied: pandas in c:\\users\\victor\\appdata\\local\\programs\\python\\python36-32\\lib\\site-packages (from GoogleSheetPlot) (1.0.3)\n",
      "Requirement already satisfied: matplotlib in c:\\users\\victor\\appdata\\local\\programs\\python\\python36-32\\lib\\site-packages (from GoogleSheetPlot) (2.2.2)\n",
      "Requirement already satisfied: google-api-python-client in c:\\users\\victor\\appdata\\local\\programs\\python\\python36-32\\lib\\site-packages (from GoogleSheetPlot) (1.12.3)\n",
      "Requirement already satisfied: google-auth-httplib2 in c:\\users\\victor\\appdata\\local\\programs\\python\\python36-32\\lib\\site-packages (from GoogleSheetPlot) (0.0.4)\n",
      "Requirement already satisfied: google-auth-oauthlib in c:\\users\\victor\\appdata\\local\\programs\\python\\python36-32\\lib\\site-packages (from GoogleSheetPlot) (0.4.1)\n"
     ]
    },
    {
     "name": "stderr",
     "output_type": "stream",
     "text": [
      "ERROR: Could not find a version that satisfies the requirement pickle (from GoogleSheetPlot) (from versions: none)\n",
      "ERROR: No matching distribution found for pickle (from GoogleSheetPlot)\n",
      "WARNING: You are using pip version 20.1.1; however, version 20.2.3 is available.\n",
      "You should consider upgrading via the 'c:\\users\\victor\\appdata\\local\\programs\\python\\python36-32\\python.exe -m pip install --upgrade pip' command.\n"
     ]
    }
   ],
   "source": [
    "!pip install GoogleSheetPlot"
   ]
  },
  {
   "cell_type": "markdown",
   "metadata": {},
   "source": [
    "## import GoogleSheetPlot\n",
    "Initialize GoogleSheetPlot, by giving your SPREADSHEET_ID(access it from your google spreadsheet link from the Google Drive account), and the range of the X and Y range from your google sheet."
   ]
  },
  {
   "cell_type": "code",
   "execution_count": 3,
   "metadata": {},
   "outputs": [
    {
     "ename": "ModuleNotFoundError",
     "evalue": "No module named 'GoogleSheetPlot'",
     "output_type": "error",
     "traceback": [
      "\u001b[1;31m---------------------------------------------------------------------------\u001b[0m",
      "\u001b[1;31mModuleNotFoundError\u001b[0m                       Traceback (most recent call last)",
      "\u001b[1;32m<ipython-input-3-a83ce681e58c>\u001b[0m in \u001b[0;36m<module>\u001b[1;34m()\u001b[0m\n\u001b[1;32m----> 1\u001b[1;33m \u001b[1;32mimport\u001b[0m \u001b[0mGoogleSheetPlot\u001b[0m\u001b[1;33m\u001b[0m\u001b[0m\n\u001b[0m\u001b[0;32m      2\u001b[0m \u001b[0mSAMPLE_SPREADSHEET_ID\u001b[0m \u001b[1;33m=\u001b[0m \u001b[1;34m'1SrZfvr2ee54r7HR1jGtAE9zHIj_Y-UzK9ok8bdwkpqc'\u001b[0m\u001b[1;33m\u001b[0m\u001b[0m\n\u001b[0;32m      3\u001b[0m \u001b[0mSAMPLE_RANGE_NAME\u001b[0m \u001b[1;33m=\u001b[0m \u001b[1;34m'A1:C80'\u001b[0m\u001b[1;33m\u001b[0m\u001b[0m\n",
      "\u001b[1;31mModuleNotFoundError\u001b[0m: No module named 'GoogleSheetPlot'"
     ]
    }
   ],
   "source": [
    "import GoogleSheetPlot\n",
    "SAMPLE_SPREADSHEET_ID = '1SrZfvr2ee54r7HR1jGtAE9zHIj_Y-UzK9ok8bdwkpqc'\n",
    "SAMPLE_RANGE_NAME = 'A1:C80'"
   ]
  },
  {
   "cell_type": "markdown",
   "metadata": {},
   "source": [
    "## Initialize the dataFrame"
   ]
  },
  {
   "cell_type": "code",
   "execution_count": null,
   "metadata": {},
   "outputs": [],
   "source": [
    "gsp = GoogleSheetPlot()\n",
    "df = gsp.getDataFrame(SAMPLE_SPREADSHEET_ID, SAMPLE_RANGE_NAME)\n",
    "df.head()"
   ]
  },
  {
   "cell_type": "markdown",
   "metadata": {},
   "source": [
    "## Plot the graph\n",
    "Give the valid column names(X and Y axis)with the type of plot you want to get.<br>\n",
    "Your plot gets saved with the format \"col1_col2_category.png\"."
   ]
  },
  {
   "cell_type": "code",
   "execution_count": null,
   "metadata": {},
   "outputs": [],
   "source": [
    "#gsp.getPlot(\"Column-1\", \"Column-2\",\"Plot category\")\n",
    "gsp.getPlot(\"average_sales\", \"offer_price\",\"line\")"
   ]
  },
  {
   "cell_type": "code",
   "execution_count": null,
   "metadata": {},
   "outputs": [],
   "source": []
  }
 ],
 "metadata": {
  "kernelspec": {
   "display_name": "Python 3",
   "language": "python",
   "name": "python3"
  },
  "language_info": {
   "codemirror_mode": {
    "name": "ipython",
    "version": 3
   },
   "file_extension": ".py",
   "mimetype": "text/x-python",
   "name": "python",
   "nbconvert_exporter": "python",
   "pygments_lexer": "ipython3",
   "version": "3.6.5"
  }
 },
 "nbformat": 4,
 "nbformat_minor": 2
}
