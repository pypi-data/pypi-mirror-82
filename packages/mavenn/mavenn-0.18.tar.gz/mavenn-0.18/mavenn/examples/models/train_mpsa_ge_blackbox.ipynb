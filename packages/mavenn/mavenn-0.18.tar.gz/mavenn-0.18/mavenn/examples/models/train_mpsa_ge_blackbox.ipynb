{
 "cells": [
  {
   "cell_type": "code",
   "execution_count": 1,
   "metadata": {},
   "outputs": [
    {
     "name": "stdout",
     "output_type": "stream",
     "text": [
      "['/Users/jkinney/github/mavenn/mavenn']\n"
     ]
    }
   ],
   "source": [
    "# Standard imports\n",
    "import pandas as pd\n",
    "import matplotlib.pyplot as plt\n",
    "import numpy as np\n",
    "\n",
    "# Insert path to mavenn beginning of path\n",
    "import os\n",
    "import sys\n",
    "abs_path_to_mavenn = os.path.abspath('../../../')\n",
    "sys.path.insert(0, abs_path_to_mavenn)\n",
    "\n",
    "# Load mavenn\n",
    "import mavenn\n",
    "print(mavenn.__path__)"
   ]
  },
  {
   "cell_type": "code",
   "execution_count": 2,
   "metadata": {},
   "outputs": [
    {
     "data": {
      "text/html": [
       "<div>\n",
       "<style scoped>\n",
       "    .dataframe tbody tr th:only-of-type {\n",
       "        vertical-align: middle;\n",
       "    }\n",
       "\n",
       "    .dataframe tbody tr th {\n",
       "        vertical-align: top;\n",
       "    }\n",
       "\n",
       "    .dataframe thead th {\n",
       "        text-align: right;\n",
       "    }\n",
       "</style>\n",
       "<table border=\"1\" class=\"dataframe\">\n",
       "  <thead>\n",
       "    <tr style=\"text-align: right;\">\n",
       "      <th></th>\n",
       "      <th>training_set</th>\n",
       "      <th>tot_ct</th>\n",
       "      <th>ex_ct</th>\n",
       "      <th>y</th>\n",
       "      <th>x</th>\n",
       "    </tr>\n",
       "  </thead>\n",
       "  <tbody>\n",
       "    <tr>\n",
       "      <th>0</th>\n",
       "      <td>True</td>\n",
       "      <td>1588</td>\n",
       "      <td>66</td>\n",
       "      <td>-4.567814</td>\n",
       "      <td>ACGGUCCAU</td>\n",
       "    </tr>\n",
       "    <tr>\n",
       "      <th>1</th>\n",
       "      <td>True</td>\n",
       "      <td>1533</td>\n",
       "      <td>118</td>\n",
       "      <td>-3.688265</td>\n",
       "      <td>AUUGCCAGG</td>\n",
       "    </tr>\n",
       "    <tr>\n",
       "      <th>2</th>\n",
       "      <td>True</td>\n",
       "      <td>1459</td>\n",
       "      <td>399</td>\n",
       "      <td>-1.867896</td>\n",
       "      <td>ACAGCGGUA</td>\n",
       "    </tr>\n",
       "    <tr>\n",
       "      <th>3</th>\n",
       "      <td>True</td>\n",
       "      <td>1414</td>\n",
       "      <td>246</td>\n",
       "      <td>-2.518219</td>\n",
       "      <td>AACGCCAGG</td>\n",
       "    </tr>\n",
       "    <tr>\n",
       "      <th>4</th>\n",
       "      <td>True</td>\n",
       "      <td>1412</td>\n",
       "      <td>60</td>\n",
       "      <td>-4.533808</td>\n",
       "      <td>ACGGCUUGG</td>\n",
       "    </tr>\n",
       "  </tbody>\n",
       "</table>\n",
       "</div>"
      ],
      "text/plain": [
       "   training_set  tot_ct  ex_ct         y          x\n",
       "0          True    1588     66 -4.567814  ACGGUCCAU\n",
       "1          True    1533    118 -3.688265  AUUGCCAGG\n",
       "2          True    1459    399 -1.867896  ACAGCGGUA\n",
       "3          True    1414    246 -2.518219  AACGCCAGG\n",
       "4          True    1412     60 -4.533808  ACGGCUUGG"
      ]
     },
     "execution_count": 2,
     "metadata": {},
     "output_type": "execute_result"
    }
   ],
   "source": [
    "# Load example data\n",
    "data_df = mavenn.load_example_dataset('mpsa')\n",
    "data_df.head()"
   ]
  },
  {
   "cell_type": "code",
   "execution_count": 3,
   "metadata": {},
   "outputs": [
    {
     "name": "stdout",
     "output_type": "stream",
     "text": [
      "training N: 24,411\n",
      "testing N: 6,079\n"
     ]
    }
   ],
   "source": [
    "# Split into trianing and test data\n",
    "ix = data_df['training_set']\n",
    "L = len(data_df['x'][0])\n",
    "train_df = data_df[ix]\n",
    "print(f'training N: {len(train_df):,}')\n",
    "test_df = data_df[~ix]\n",
    "print(f'testing N: {len(test_df):,}')"
   ]
  },
  {
   "cell_type": "code",
   "execution_count": 4,
   "metadata": {},
   "outputs": [
    {
     "name": "stdout",
     "output_type": "stream",
     "text": [
      "N = 24,411 observations set as training data.\n",
      "Data shuffled.\n",
      "Time to set data: 0.38 sec.\n",
      "Epoch 1/1000\n",
      "196/196 [==============================] - 1s 6ms/step - loss: 127.5248 - I_like: -0.3806 - val_loss: 103.0387 - val_I_like: -0.0640\n",
      "Epoch 2/1000\n",
      "196/196 [==============================] - 1s 3ms/step - loss: 91.8246 - I_like: 0.0986 - val_loss: 83.7700 - val_I_like: 0.2117\n",
      "Epoch 3/1000\n",
      "196/196 [==============================] - 1s 3ms/step - loss: 80.5773 - I_like: 0.2602 - val_loss: 99.1052 - val_I_like: -0.0077\n",
      "Epoch 4/1000\n",
      "196/196 [==============================] - 1s 4ms/step - loss: 81.9456 - I_like: 0.2368 - val_loss: 78.6485 - val_I_like: 0.2835\n",
      "Epoch 5/1000\n",
      "196/196 [==============================] - 1s 4ms/step - loss: 79.0278 - I_like: 0.2814 - val_loss: 81.8743 - val_I_like: 0.2378\n",
      "Epoch 6/1000\n",
      "196/196 [==============================] - 1s 4ms/step - loss: 78.8431 - I_like: 0.2863 - val_loss: 78.6364 - val_I_like: 0.2864\n",
      "Epoch 7/1000\n",
      "196/196 [==============================] - 1s 4ms/step - loss: 76.2241 - I_like: 0.3278 - val_loss: 73.6150 - val_I_like: 0.3634\n",
      "Epoch 8/1000\n",
      "196/196 [==============================] - 1s 4ms/step - loss: 72.3411 - I_like: 0.3850 - val_loss: 71.6646 - val_I_like: 0.3936\n",
      "Epoch 9/1000\n",
      "196/196 [==============================] - 1s 3ms/step - loss: 70.6206 - I_like: 0.4109 - val_loss: 71.5246 - val_I_like: 0.3966\n",
      "Epoch 10/1000\n",
      "196/196 [==============================] - 1s 4ms/step - loss: 70.0406 - I_like: 0.4202 - val_loss: 72.1304 - val_I_like: 0.3872\n",
      "Epoch 11/1000\n",
      "196/196 [==============================] - 1s 4ms/step - loss: 69.0098 - I_like: 0.4348 - val_loss: 70.1118 - val_I_like: 0.4170\n",
      "Epoch 12/1000\n",
      "196/196 [==============================] - 1s 4ms/step - loss: 68.4871 - I_like: 0.4438 - val_loss: 69.6812 - val_I_like: 0.4240\n",
      "Epoch 13/1000\n",
      "196/196 [==============================] - 1s 4ms/step - loss: 67.7205 - I_like: 0.4563 - val_loss: 70.0225 - val_I_like: 0.4187\n",
      "Epoch 14/1000\n",
      "196/196 [==============================] - 1s 4ms/step - loss: 67.5950 - I_like: 0.4560 - val_loss: 71.3830 - val_I_like: 0.3992\n",
      "Epoch 15/1000\n",
      "196/196 [==============================] - 1s 4ms/step - loss: 67.8422 - I_like: 0.4538 - val_loss: 69.3288 - val_I_like: 0.4300\n",
      "Epoch 16/1000\n",
      "196/196 [==============================] - 1s 4ms/step - loss: 66.9513 - I_like: 0.4670 - val_loss: 69.7283 - val_I_like: 0.4242\n",
      "Epoch 17/1000\n",
      "196/196 [==============================] - 1s 3ms/step - loss: 66.9749 - I_like: 0.4649 - val_loss: 70.4743 - val_I_like: 0.4131\n",
      "Epoch 18/1000\n",
      "196/196 [==============================] - 1s 4ms/step - loss: 66.5423 - I_like: 0.4710 - val_loss: 69.3287 - val_I_like: 0.4302\n",
      "Epoch 19/1000\n",
      "196/196 [==============================] - 1s 4ms/step - loss: 66.9929 - I_like: 0.4664 - val_loss: 68.6513 - val_I_like: 0.4405\n",
      "Epoch 20/1000\n",
      "196/196 [==============================] - 1s 4ms/step - loss: 66.2646 - I_like: 0.4753 - val_loss: 69.3441 - val_I_like: 0.4302\n",
      "Epoch 21/1000\n",
      "196/196 [==============================] - 1s 4ms/step - loss: 66.5472 - I_like: 0.4722 - val_loss: 69.3809 - val_I_like: 0.4295\n",
      "Epoch 22/1000\n",
      "196/196 [==============================] - 1s 4ms/step - loss: 66.0380 - I_like: 0.4785 - val_loss: 69.0543 - val_I_like: 0.4345\n",
      "Epoch 23/1000\n",
      "196/196 [==============================] - 1s 4ms/step - loss: 66.0356 - I_like: 0.4792 - val_loss: 68.4613 - val_I_like: 0.4430\n",
      "Epoch 24/1000\n",
      "196/196 [==============================] - 1s 4ms/step - loss: 65.9667 - I_like: 0.4810 - val_loss: 69.6728 - val_I_like: 0.4251\n",
      "Epoch 25/1000\n",
      "196/196 [==============================] - 1s 4ms/step - loss: 66.2038 - I_like: 0.4782 - val_loss: 69.5035 - val_I_like: 0.4287\n",
      "Epoch 26/1000\n",
      "196/196 [==============================] - 1s 4ms/step - loss: 65.6162 - I_like: 0.4866 - val_loss: 70.1535 - val_I_like: 0.4187\n",
      "Epoch 27/1000\n",
      "196/196 [==============================] - 1s 4ms/step - loss: 65.7658 - I_like: 0.4830 - val_loss: 71.6300 - val_I_like: 0.3975\n",
      "Epoch 28/1000\n",
      "196/196 [==============================] - 1s 4ms/step - loss: 66.1663 - I_like: 0.4780 - val_loss: 70.3188 - val_I_like: 0.4165\n",
      "Epoch 29/1000\n",
      "196/196 [==============================] - 1s 4ms/step - loss: 65.5667 - I_like: 0.4867 - val_loss: 69.4108 - val_I_like: 0.4306\n",
      "Epoch 30/1000\n",
      "196/196 [==============================] - 1s 4ms/step - loss: 65.2738 - I_like: 0.4901 - val_loss: 69.0975 - val_I_like: 0.4346\n",
      "Epoch 31/1000\n",
      "196/196 [==============================] - 1s 4ms/step - loss: 65.1802 - I_like: 0.4931 - val_loss: 68.7909 - val_I_like: 0.4399\n",
      "Epoch 32/1000\n",
      "196/196 [==============================] - 1s 4ms/step - loss: 65.4490 - I_like: 0.4906 - val_loss: 68.8578 - val_I_like: 0.4389\n",
      "Epoch 33/1000\n",
      "196/196 [==============================] - 1s 4ms/step - loss: 65.5119 - I_like: 0.4883 - val_loss: 68.4011 - val_I_like: 0.4461\n",
      "Epoch 34/1000\n",
      "196/196 [==============================] - 1s 4ms/step - loss: 65.8937 - I_like: 0.4835 - val_loss: 70.2155 - val_I_like: 0.4203\n",
      "Epoch 35/1000\n",
      "196/196 [==============================] - 1s 4ms/step - loss: 66.4395 - I_like: 0.4750 - val_loss: 70.4477 - val_I_like: 0.4165\n",
      "Epoch 36/1000\n",
      "196/196 [==============================] - 1s 4ms/step - loss: 65.3202 - I_like: 0.4930 - val_loss: 69.1714 - val_I_like: 0.4348\n",
      "Epoch 37/1000\n",
      "196/196 [==============================] - 1s 4ms/step - loss: 65.2600 - I_like: 0.4906 - val_loss: 70.2846 - val_I_like: 0.4189\n",
      "Epoch 38/1000\n",
      "196/196 [==============================] - 1s 4ms/step - loss: 65.0982 - I_like: 0.4951 - val_loss: 69.1783 - val_I_like: 0.4342\n",
      "Epoch 39/1000\n",
      "196/196 [==============================] - 1s 4ms/step - loss: 64.6999 - I_like: 0.5014 - val_loss: 69.0667 - val_I_like: 0.4368\n",
      "Epoch 40/1000\n",
      "196/196 [==============================] - 1s 4ms/step - loss: 65.5924 - I_like: 0.4883 - val_loss: 68.5169 - val_I_like: 0.4448\n",
      "Epoch 41/1000\n",
      "196/196 [==============================] - 1s 4ms/step - loss: 65.3234 - I_like: 0.4930 - val_loss: 69.7994 - val_I_like: 0.4269\n",
      "Epoch 42/1000\n",
      "196/196 [==============================] - 1s 4ms/step - loss: 64.9333 - I_like: 0.4999 - val_loss: 69.7320 - val_I_like: 0.4278\n",
      "Epoch 43/1000\n",
      "196/196 [==============================] - 1s 4ms/step - loss: 65.5025 - I_like: 0.4891 - val_loss: 69.1053 - val_I_like: 0.4367\n",
      "Training time: 33.8 seconds\n",
      "Model saved to these files:\n",
      "\tmpsa_ge_blackbox.pickle\n",
      "\tmpsa_ge_blackbox.h5\n"
     ]
    }
   ],
   "source": [
    "# Set filename\n",
    "name = 'mpsa_ge_blackbox'\n",
    "\n",
    "# Define model\n",
    "model = mavenn.Model(regression_type='GE',\n",
    "                     L=L,\n",
    "                     alphabet='rna',\n",
    "                     gpmap_type='blackbox',\n",
    "                     gpmap_kwargs={\n",
    "                         'hidden_layer_sizes':[10]*6,\n",
    "                         'features':'pairwise'\n",
    "                     },\n",
    "                     ge_noise_model_type='SkewedT',\n",
    "                     ge_heteroskedasticity_order=2)\n",
    "\n",
    "# Set training data\n",
    "model.set_data(x=train_df['x'],\n",
    "               y=train_df['y'])\n",
    "\n",
    "# Fit model to data\n",
    "model.fit(learning_rate=.002,\n",
    "          epochs=1000,\n",
    "          batch_size=100,\n",
    "          early_stopping=True,\n",
    "          early_stopping_patience=10,\n",
    "          linear_initialization=False)\n",
    "\n",
    "# Save models\n",
    "model.save(name)"
   ]
  },
  {
   "cell_type": "code",
   "execution_count": 5,
   "metadata": {},
   "outputs": [
    {
     "name": "stdout",
     "output_type": "stream",
     "text": [
      "Model loaded from these files:\n",
      "\tmpsa_ge_blackbox.pickle\n",
      "\tmpsa_ge_blackbox.h5\n"
     ]
    }
   ],
   "source": [
    "# Load model\n",
    "model = mavenn.load(name)"
   ]
  },
  {
   "cell_type": "code",
   "execution_count": 6,
   "metadata": {},
   "outputs": [
    {
     "name": "stdout",
     "output_type": "stream",
     "text": [
      "60\tmpsa_ge_blackbox.h5\r\n",
      "4\tmpsa_ge_blackbox.pickle\r\n"
     ]
    }
   ],
   "source": [
    "!du -k $name*"
   ]
  },
  {
   "cell_type": "code",
   "execution_count": 7,
   "metadata": {},
   "outputs": [],
   "source": [
    "# Get x and y\n",
    "x = test_df['x']\n",
    "y = test_df['y']"
   ]
  },
  {
   "cell_type": "code",
   "execution_count": 8,
   "metadata": {},
   "outputs": [
    {
     "name": "stdout",
     "output_type": "stream",
     "text": [
      "On test data:\n",
      "I_like_test: 0.445 +- 0.024 bits\n",
      "I_pred_test: 0.529 +- 0.019 bits\n"
     ]
    },
    {
     "data": {
      "image/png": "[encoded data removed]",
      "text/plain": [
       "<Figure size 288x288 with 1 Axes>"
      ]
     },
     "metadata": {
      "needs_background": "light"
     },
     "output_type": "display_data"
    }
   ],
   "source": [
    "# Show training history\n",
    "print('On test data:')\n",
    "\n",
    "# Compute likelihood information\n",
    "I_like, dI_like =  model.I_likelihood(x=x, y=y)\n",
    "print(f'I_like_test: {I_like:.3f} +- {dI_like:.3f} bits') \n",
    "\n",
    "# Compute predictive information\n",
    "I_pred, dI_pred = model.I_predictive(x=x, y=y)\n",
    "print(f'I_pred_test: {I_pred:.3f} +- {dI_pred:.3f} bits')\n",
    "\n",
    "I_like_hist = model.history['I_like']\n",
    "val_I_like_hist = model.history['val_I_like']\n",
    "\n",
    "fig, ax = plt.subplots(1,1,figsize=[4,4])\n",
    "ax.plot(I_like_hist, label='I_like_train')\n",
    "ax.plot(val_I_like_hist, label='I_like_val')\n",
    "ax.axhline(I_like, color='C2', linestyle=':', label='I_like_test')\n",
    "ax.axhline(I_pred, color='C3', linestyle=':', label='I_pred_test')\n",
    "ax.legend()\n",
    "ax.set_xlabel('epochs')\n",
    "ax.set_ylabel('bits')\n",
    "ax.set_title('training hisotry')\n",
    "ax.set_ylim([0, I_pred*1.2]);"
   ]
  },
  {
   "cell_type": "code",
   "execution_count": 9,
   "metadata": {},
   "outputs": [
    {
     "data": {
      "image/png": "[encoded data removed]",
      "text/plain": [
       "<Figure size 288x288 with 1 Axes>"
      ]
     },
     "metadata": {
      "needs_background": "light"
     },
     "output_type": "display_data"
    }
   ],
   "source": [
    "# Compute phi and yhat values\n",
    "phi = model.x_to_phi(x)\n",
    "yhat = model.phi_to_yhat(phi)\n",
    "\n",
    "# Create grid for plotting yhat and yqs\n",
    "phi_lim = [min(phi), max(phi)]\n",
    "phi_grid = np.linspace(phi_lim[0], phi_lim[1], 1000)\n",
    "yhat_grid = model.phi_to_yhat(phi_grid)\n",
    "yqs_grid = model.yhat_to_yq(yhat_grid, q=[.16,.84])\n",
    "\n",
    "# Create two panels\n",
    "fig, ax = plt.subplots(1, 1, figsize=[4, 4])\n",
    "\n",
    "# Illustrate measurement process with GE curve\n",
    "ax.scatter(phi, y, color='C0', s=5, alpha=.2, label='test data')\n",
    "ax.plot(phi_grid, yhat_grid, linewidth=2, color='C1',\n",
    "        label='$\\hat{y} = g(\\phi)$')\n",
    "ax.plot(phi_grid, yqs_grid[:, 0], linestyle='--', color='C1',\n",
    "        label='68% CI')\n",
    "ax.plot(phi_grid, yqs_grid[:, 1], linestyle='--', color='C1')\n",
    "ax.set_xlim(phi_lim)\n",
    "ax.set_xlabel('latent phenotype ($\\phi$)')\n",
    "ax.set_ylabel('measurement ($y$)')\n",
    "ax.set_title('measurement process')\n",
    "ax.legend()\n",
    "\n",
    "# Fix up plot\n",
    "fig.tight_layout()\n",
    "plt.show()"
   ]
  },
  {
   "cell_type": "code",
   "execution_count": 10,
   "metadata": {},
   "outputs": [
    {
     "data": {
      "text/html": [
       "<div>\n",
       "<style scoped>\n",
       "    .dataframe tbody tr th:only-of-type {\n",
       "        vertical-align: middle;\n",
       "    }\n",
       "\n",
       "    .dataframe tbody tr th {\n",
       "        vertical-align: top;\n",
       "    }\n",
       "\n",
       "    .dataframe thead th {\n",
       "        text-align: right;\n",
       "    }\n",
       "</style>\n",
       "<table border=\"1\" class=\"dataframe\">\n",
       "  <thead>\n",
       "    <tr style=\"text-align: right;\">\n",
       "      <th></th>\n",
       "      <th>training_set</th>\n",
       "      <th>yhat</th>\n",
       "      <th>phi</th>\n",
       "      <th>y</th>\n",
       "      <th>x</th>\n",
       "    </tr>\n",
       "  </thead>\n",
       "  <tbody>\n",
       "    <tr>\n",
       "      <th>0</th>\n",
       "      <td>True</td>\n",
       "      <td>-4.566136</td>\n",
       "      <td>-0.316426</td>\n",
       "      <td>-4.236444</td>\n",
       "      <td>UCAGCAAUA</td>\n",
       "    </tr>\n",
       "    <tr>\n",
       "      <th>1</th>\n",
       "      <td>False</td>\n",
       "      <td>-4.449330</td>\n",
       "      <td>-0.278914</td>\n",
       "      <td>-4.145420</td>\n",
       "      <td>GCUGUCUGA</td>\n",
       "    </tr>\n",
       "    <tr>\n",
       "      <th>2</th>\n",
       "      <td>True</td>\n",
       "      <td>-4.497510</td>\n",
       "      <td>-0.294376</td>\n",
       "      <td>-4.439435</td>\n",
       "      <td>CGAGCGUGU</td>\n",
       "    </tr>\n",
       "    <tr>\n",
       "      <th>3</th>\n",
       "      <td>True</td>\n",
       "      <td>-4.495832</td>\n",
       "      <td>-0.293838</td>\n",
       "      <td>-4.138467</td>\n",
       "      <td>GUCGCCUGU</td>\n",
       "    </tr>\n",
       "    <tr>\n",
       "      <th>4</th>\n",
       "      <td>True</td>\n",
       "      <td>-4.319793</td>\n",
       "      <td>-0.237406</td>\n",
       "      <td>-3.761661</td>\n",
       "      <td>UACGUGAAG</td>\n",
       "    </tr>\n",
       "  </tbody>\n",
       "</table>\n",
       "</div>"
      ],
      "text/plain": [
       "   training_set      yhat       phi         y          x\n",
       "0          True -4.566136 -0.316426 -4.236444  UCAGCAAUA\n",
       "1         False -4.449330 -0.278914 -4.145420  GCUGUCUGA\n",
       "2          True -4.497510 -0.294376 -4.439435  CGAGCGUGU\n",
       "3          True -4.495832 -0.293838 -4.138467  GUCGCCUGU\n",
       "4          True -4.319793 -0.237406 -3.761661  UACGUGAAG"
      ]
     },
     "execution_count": 10,
     "metadata": {},
     "output_type": "execute_result"
    }
   ],
   "source": [
    "# Test simulate_data\n",
    "sim_df = model.simulate_dataset(N=1000)\n",
    "sim_df.head()"
   ]
  },
  {
   "cell_type": "code",
   "execution_count": null,
   "metadata": {},
   "outputs": [],
   "source": []
  }
 ],
 "metadata": {
  "kernelspec": {
   "display_name": "Python 3",
   "language": "python",
   "name": "python3"
  },
  "language_info": {
   "codemirror_mode": {
    "name": "ipython",
    "version": 3
   },
   "file_extension": ".py",
   "mimetype": "text/x-python",
   "name": "python",
   "nbconvert_exporter": "python",
   "pygments_lexer": "ipython3",
   "version": "3.7.4"
  }
 },
 "nbformat": 4,
 "nbformat_minor": 2
}
