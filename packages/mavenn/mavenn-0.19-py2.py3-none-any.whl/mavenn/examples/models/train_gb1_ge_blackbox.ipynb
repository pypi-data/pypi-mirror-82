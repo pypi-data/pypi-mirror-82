{
 "cells": [
  {
   "cell_type": "code",
   "execution_count": 1,
   "metadata": {},
   "outputs": [
    {
     "name": "stdout",
     "output_type": "stream",
     "text": [
      "['/Users/jkinney/github/mavenn/mavenn']\n"
     ]
    }
   ],
   "source": [
    "# Standard imports\n",
    "import pandas as pd\n",
    "import matplotlib.pyplot as plt\n",
    "import numpy as np\n",
    "\n",
    "# Insert path to mavenn beginning of path\n",
    "import os\n",
    "import sys\n",
    "abs_path_to_mavenn = os.path.abspath('../../../')\n",
    "sys.path.insert(0, abs_path_to_mavenn)\n",
    "\n",
    "# Load mavenn\n",
    "import mavenn\n",
    "print(mavenn.__path__)"
   ]
  },
  {
   "cell_type": "code",
   "execution_count": 2,
   "metadata": {},
   "outputs": [
    {
     "data": {
      "text/html": [
       "<div>\n",
       "<style scoped>\n",
       "    .dataframe tbody tr th:only-of-type {\n",
       "        vertical-align: middle;\n",
       "    }\n",
       "\n",
       "    .dataframe tbody tr th {\n",
       "        vertical-align: top;\n",
       "    }\n",
       "\n",
       "    .dataframe thead th {\n",
       "        text-align: right;\n",
       "    }\n",
       "</style>\n",
       "<table border=\"1\" class=\"dataframe\">\n",
       "  <thead>\n",
       "    <tr style=\"text-align: right;\">\n",
       "      <th></th>\n",
       "      <th>input_ct</th>\n",
       "      <th>selected_ct</th>\n",
       "      <th>hamming_dist</th>\n",
       "      <th>training_set</th>\n",
       "      <th>y</th>\n",
       "      <th>x</th>\n",
       "    </tr>\n",
       "  </thead>\n",
       "  <tbody>\n",
       "    <tr>\n",
       "      <th>0</th>\n",
       "      <td>173.0</td>\n",
       "      <td>33.0</td>\n",
       "      <td>2</td>\n",
       "      <td>True</td>\n",
       "      <td>-3.145154</td>\n",
       "      <td>AAKLILNGKTLKGETTTEAVDAATAEKVFKQYANDNGVDGEWTYDD...</td>\n",
       "    </tr>\n",
       "    <tr>\n",
       "      <th>1</th>\n",
       "      <td>18.0</td>\n",
       "      <td>8.0</td>\n",
       "      <td>2</td>\n",
       "      <td>False</td>\n",
       "      <td>-1.867676</td>\n",
       "      <td>ACKLILNGKTLKGETTTEAVDAATAEKVFKQYANDNGVDGEWTYDD...</td>\n",
       "    </tr>\n",
       "    <tr>\n",
       "      <th>2</th>\n",
       "      <td>66.0</td>\n",
       "      <td>2.0</td>\n",
       "      <td>2</td>\n",
       "      <td>True</td>\n",
       "      <td>-5.270800</td>\n",
       "      <td>ADKLILNGKTLKGETTTEAVDAATAEKVFKQYANDNGVDGEWTYDD...</td>\n",
       "    </tr>\n",
       "    <tr>\n",
       "      <th>3</th>\n",
       "      <td>72.0</td>\n",
       "      <td>1.0</td>\n",
       "      <td>2</td>\n",
       "      <td>False</td>\n",
       "      <td>-5.979498</td>\n",
       "      <td>AEKLILNGKTLKGETTTEAVDAATAEKVFKQYANDNGVDGEWTYDD...</td>\n",
       "    </tr>\n",
       "    <tr>\n",
       "      <th>4</th>\n",
       "      <td>69.0</td>\n",
       "      <td>168.0</td>\n",
       "      <td>2</td>\n",
       "      <td>True</td>\n",
       "      <td>0.481923</td>\n",
       "      <td>AFKLILNGKTLKGETTTEAVDAATAEKVFKQYANDNGVDGEWTYDD...</td>\n",
       "    </tr>\n",
       "  </tbody>\n",
       "</table>\n",
       "</div>"
      ],
      "text/plain": [
       "   input_ct  selected_ct  hamming_dist  training_set         y  \\\n",
       "0     173.0         33.0             2          True -3.145154   \n",
       "1      18.0          8.0             2         False -1.867676   \n",
       "2      66.0          2.0             2          True -5.270800   \n",
       "3      72.0          1.0             2         False -5.979498   \n",
       "4      69.0        168.0             2          True  0.481923   \n",
       "\n",
       "                                                   x  \n",
       "0  AAKLILNGKTLKGETTTEAVDAATAEKVFKQYANDNGVDGEWTYDD...  \n",
       "1  ACKLILNGKTLKGETTTEAVDAATAEKVFKQYANDNGVDGEWTYDD...  \n",
       "2  ADKLILNGKTLKGETTTEAVDAATAEKVFKQYANDNGVDGEWTYDD...  \n",
       "3  AEKLILNGKTLKGETTTEAVDAATAEKVFKQYANDNGVDGEWTYDD...  \n",
       "4  AFKLILNGKTLKGETTTEAVDAATAEKVFKQYANDNGVDGEWTYDD...  "
      ]
     },
     "execution_count": 2,
     "metadata": {},
     "output_type": "execute_result"
    }
   ],
   "source": [
    "# Load example data\n",
    "data_df = mavenn.load_example_dataset('gb1')\n",
    "data_df.head()"
   ]
  },
  {
   "cell_type": "code",
   "execution_count": 3,
   "metadata": {},
   "outputs": [
    {
     "name": "stdout",
     "output_type": "stream",
     "text": [
      "training N: 424,706\n",
      "testing N: 106,031\n"
     ]
    }
   ],
   "source": [
    "# Split into trianing and test data\n",
    "ix = data_df['training_set']\n",
    "L = len(data_df['x'][0])\n",
    "train_df = data_df[ix]\n",
    "print(f'training N: {len(train_df):,}')\n",
    "test_df = data_df[~ix]\n",
    "print(f'testing N: {len(test_df):,}')"
   ]
  },
  {
   "cell_type": "code",
   "execution_count": 4,
   "metadata": {},
   "outputs": [],
   "source": [
    "# Set filename\n",
    "name = 'gb1_ge_blackbox'\n",
    "\n",
    "# Define model\n",
    "model = mavenn.Model(regression_type='GE',\n",
    "                     L=L,\n",
    "                     alphabet='protein',\n",
    "                     gpmap_type='blackbox',\n",
    "                     gpmap_kwargs={\n",
    "                         'hidden_layer_sizes':[100]*5\n",
    "                     },\n",
    "                     ge_noise_model_type='SkewedT',\n",
    "                     ge_heteroskedasticity_order=2)"
   ]
  },
  {
   "cell_type": "code",
   "execution_count": 5,
   "metadata": {},
   "outputs": [
    {
     "name": "stdout",
     "output_type": "stream",
     "text": [
      "N = 424,706 observations set as training data.\n",
      "Data shuffled.\n",
      "Time to set data: 11.6 sec.\n"
     ]
    }
   ],
   "source": [
    "# Set training data\n",
    "model.set_data(x=train_df['x'],\n",
    "               y=train_df['y'])"
   ]
  },
  {
   "cell_type": "code",
   "execution_count": 6,
   "metadata": {},
   "outputs": [
    {
     "name": "stdout",
     "output_type": "stream",
     "text": [
      "Epoch 1/1000\n",
      "340/340 [==============================] - 7s 21ms/step - loss: 1108.6771 - I_like: 0.2341 - val_loss: 919.4260 - val_I_like: 0.4933\n",
      "Epoch 2/1000\n",
      "340/340 [==============================] - 6s 18ms/step - loss: 800.9031 - I_like: 0.6604 - val_loss: 686.8157 - val_I_like: 0.8222\n",
      "Epoch 3/1000\n",
      "340/340 [==============================] - 7s 19ms/step - loss: 581.9412 - I_like: 0.9731 - val_loss: 475.7815 - val_I_like: 1.1256\n",
      "Epoch 4/1000\n",
      "340/340 [==============================] - 7s 20ms/step - loss: 383.6731 - I_like: 1.2586 - val_loss: 286.7847 - val_I_like: 1.3982\n",
      "Epoch 5/1000\n",
      "340/340 [==============================] - 7s 22ms/step - loss: 208.5003 - I_like: 1.5113 - val_loss: 131.3704 - val_I_like: 1.6227\n",
      "Epoch 6/1000\n",
      "340/340 [==============================] - 9s 28ms/step - loss: 67.9938 - I_like: 1.7146 - val_loss: -7.9749 - val_I_like: 1.8244\n",
      "Epoch 7/1000\n",
      "340/340 [==============================] - 7s 20ms/step - loss: -60.5162 - I_like: 1.9005 - val_loss: -100.7232 - val_I_like: 1.9586\n",
      "Epoch 8/1000\n",
      "340/340 [==============================] - 8s 23ms/step - loss: -142.9315 - I_like: 2.0198 - val_loss: -178.8322 - val_I_like: 2.0720\n",
      "Epoch 9/1000\n",
      "340/340 [==============================] - 6s 18ms/step - loss: -205.6033 - I_like: 2.1110 - val_loss: -234.1469 - val_I_like: 2.1525\n",
      "Epoch 10/1000\n",
      "340/340 [==============================] - 6s 18ms/step - loss: -257.0414 - I_like: 2.1858 - val_loss: -266.4961 - val_I_like: 2.1997\n",
      "Epoch 11/1000\n",
      "340/340 [==============================] - 6s 18ms/step - loss: -286.0969 - I_like: 2.2282 - val_loss: -206.9504 - val_I_like: 2.1143\n",
      "Epoch 12/1000\n",
      "340/340 [==============================] - 6s 17ms/step - loss: -317.4247 - I_like: 2.2741 - val_loss: -318.1234 - val_I_like: 2.2754\n",
      "Epoch 13/1000\n",
      "340/340 [==============================] - 6s 18ms/step - loss: -351.9503 - I_like: 2.3243 - val_loss: -350.3101 - val_I_like: 2.3224\n",
      "Epoch 14/1000\n",
      "340/340 [==============================] - 6s 17ms/step - loss: -375.6665 - I_like: 2.3593 - val_loss: -359.1469 - val_I_like: 2.3358\n",
      "Epoch 15/1000\n",
      "340/340 [==============================] - 6s 19ms/step - loss: -408.1700 - I_like: 2.4066 - val_loss: -394.0522 - val_I_like: 2.3867\n",
      "Epoch 16/1000\n",
      "340/340 [==============================] - 6s 18ms/step - loss: -444.6780 - I_like: 2.4598 - val_loss: -386.0397 - val_I_like: 2.3755\n",
      "Epoch 17/1000\n",
      "340/340 [==============================] - 6s 17ms/step - loss: -465.1402 - I_like: 2.4898 - val_loss: -442.6239 - val_I_like: 2.4577\n",
      "Epoch 18/1000\n",
      "340/340 [==============================] - 6s 19ms/step - loss: -490.6086 - I_like: 2.5271 - val_loss: -455.9905 - val_I_like: 2.4775\n",
      "Epoch 19/1000\n",
      "340/340 [==============================] - 6s 19ms/step - loss: -513.9557 - I_like: 2.5613 - val_loss: -444.5316 - val_I_like: 2.4614\n",
      "Epoch 20/1000\n",
      "340/340 [==============================] - 7s 21ms/step - loss: -528.3802 - I_like: 2.5827 - val_loss: -501.3760 - val_I_like: 2.5440\n",
      "Epoch 21/1000\n",
      "340/340 [==============================] - 6s 17ms/step - loss: -553.1508 - I_like: 2.6188 - val_loss: -516.0317 - val_I_like: 2.5656\n",
      "Epoch 22/1000\n",
      "340/340 [==============================] - 6s 18ms/step - loss: -570.9968 - I_like: 2.6451 - val_loss: -509.9125 - val_I_like: 2.5572\n",
      "Epoch 23/1000\n",
      "340/340 [==============================] - 11s 31ms/step - loss: -592.4893 - I_like: 2.6766 - val_loss: -511.6111 - val_I_like: 2.5600\n",
      "Epoch 24/1000\n",
      "340/340 [==============================] - 12s 35ms/step - loss: -594.4710 - I_like: 2.6798 - val_loss: -545.9203 - val_I_like: 2.6100\n",
      "Epoch 25/1000\n",
      "340/340 [==============================] - 9s 26ms/step - loss: -611.9966 - I_like: 2.7053 - val_loss: -522.0876 - val_I_like: 2.5760\n",
      "Epoch 26/1000\n",
      "340/340 [==============================] - 11s 32ms/step - loss: -617.8508 - I_like: 2.7143 - val_loss: -563.8674 - val_I_like: 2.6367\n",
      "Epoch 27/1000\n",
      "340/340 [==============================] - 7s 22ms/step - loss: -627.8510 - I_like: 2.7292 - val_loss: -556.8390 - val_I_like: 2.6269\n",
      "Epoch 28/1000\n",
      "340/340 [==============================] - 10s 28ms/step - loss: -634.6735 - I_like: 2.7396 - val_loss: -571.0769 - val_I_like: 2.6479\n",
      "Epoch 29/1000\n",
      "340/340 [==============================] - 8s 24ms/step - loss: -642.1358 - I_like: 2.7506 - val_loss: -571.0632 - val_I_like: 2.6482\n",
      "Epoch 30/1000\n",
      "340/340 [==============================] - 8s 25ms/step - loss: -647.1570 - I_like: 2.7581 - val_loss: -436.4520 - val_I_like: 2.4543\n",
      "Epoch 31/1000\n",
      "340/340 [==============================] - 9s 27ms/step - loss: -647.6591 - I_like: 2.7593 - val_loss: -575.7546 - val_I_like: 2.6558\n",
      "Epoch 32/1000\n",
      "340/340 [==============================] - 9s 25ms/step - loss: -658.5300 - I_like: 2.7753 - val_loss: -576.5641 - val_I_like: 2.6573\n",
      "Epoch 33/1000\n",
      "340/340 [==============================] - 6s 18ms/step - loss: -659.7794 - I_like: 2.7774 - val_loss: -548.3846 - val_I_like: 2.6169\n",
      "Epoch 34/1000\n",
      "340/340 [==============================] - 7s 22ms/step - loss: -663.7921 - I_like: 2.7836 - val_loss: -433.2901 - val_I_like: 2.4511\n",
      "Epoch 35/1000\n",
      "340/340 [==============================] - 7s 21ms/step - loss: -670.3086 - I_like: 2.7932 - val_loss: -547.7323 - val_I_like: 2.6166\n",
      "Epoch 36/1000\n",
      "340/340 [==============================] - 6s 17ms/step - loss: -671.2521 - I_like: 2.7951 - val_loss: -459.0779 - val_I_like: 2.4888\n",
      "Epoch 37/1000\n",
      "340/340 [==============================] - 7s 19ms/step - loss: -670.4898 - I_like: 2.7941 - val_loss: -509.9229 - val_I_like: 2.5627\n",
      "Epoch 38/1000\n",
      "340/340 [==============================] - 8s 23ms/step - loss: -675.4504 - I_like: 2.8018 - val_loss: -575.7502 - val_I_like: 2.6580\n",
      "Epoch 39/1000\n",
      "340/340 [==============================] - 8s 24ms/step - loss: -683.8054 - I_like: 2.8140 - val_loss: -526.1712 - val_I_like: 2.5867\n",
      "Epoch 40/1000\n",
      "340/340 [==============================] - 6s 18ms/step - loss: -680.4072 - I_like: 2.8093 - val_loss: -569.1029 - val_I_like: 2.6490\n",
      "Epoch 41/1000\n",
      "340/340 [==============================] - 7s 19ms/step - loss: -690.8315 - I_like: 2.8247 - val_loss: -548.0119 - val_I_like: 2.6188\n",
      "Epoch 42/1000\n",
      "340/340 [==============================] - 6s 19ms/step - loss: -689.2369 - I_like: 2.8228 - val_loss: -577.7293 - val_I_like: 2.6620\n",
      "Epoch 43/1000\n",
      "340/340 [==============================] - 6s 17ms/step - loss: -688.4926 - I_like: 2.8219 - val_loss: -579.0079 - val_I_like: 2.6641\n",
      "Epoch 44/1000\n",
      "340/340 [==============================] - 6s 18ms/step - loss: -692.8447 - I_like: 2.8286 - val_loss: -573.2397 - val_I_like: 2.6561\n",
      "Epoch 45/1000\n",
      "340/340 [==============================] - 6s 18ms/step - loss: -702.2524 - I_like: 2.8423 - val_loss: -568.6859 - val_I_like: 2.6497\n",
      "Epoch 46/1000\n",
      "340/340 [==============================] - 6s 18ms/step - loss: -698.7844 - I_like: 2.8376 - val_loss: -579.1978 - val_I_like: 2.6652\n",
      "Epoch 47/1000\n",
      "340/340 [==============================] - 6s 19ms/step - loss: -699.8376 - I_like: 2.8392 - val_loss: -560.7311 - val_I_like: 2.6388\n",
      "Epoch 48/1000\n",
      "340/340 [==============================] - 6s 19ms/step - loss: -705.1326 - I_like: 2.8473 - val_loss: -574.0531 - val_I_like: 2.6583\n",
      "Epoch 49/1000\n",
      "340/340 [==============================] - 6s 18ms/step - loss: -706.6656 - I_like: 2.8495 - val_loss: -570.2259 - val_I_like: 2.6531\n",
      "Epoch 50/1000\n",
      "340/340 [==============================] - 6s 18ms/step - loss: -708.5541 - I_like: 2.8527 - val_loss: -563.2799 - val_I_like: 2.6433\n",
      "Epoch 51/1000\n",
      "340/340 [==============================] - 6s 18ms/step - loss: -711.2653 - I_like: 2.8568 - val_loss: -573.1171 - val_I_like: 2.6577\n",
      "Epoch 52/1000\n",
      "340/340 [==============================] - 6s 18ms/step - loss: -711.5034 - I_like: 2.8574 - val_loss: -554.2851 - val_I_like: 2.6308\n",
      "Epoch 53/1000\n",
      "340/340 [==============================] - 6s 17ms/step - loss: -711.4640 - I_like: 2.8577 - val_loss: -570.2109 - val_I_like: 2.6541\n",
      "Epoch 54/1000\n",
      "340/340 [==============================] - 6s 18ms/step - loss: -716.7885 - I_like: 2.8656 - val_loss: -421.6178 - val_I_like: 2.4398\n",
      "Epoch 55/1000\n",
      "340/340 [==============================] - 6s 18ms/step - loss: -716.8584 - I_like: 2.8661 - val_loss: -566.4872 - val_I_like: 2.6492\n",
      "Epoch 56/1000\n",
      "340/340 [==============================] - 7s 22ms/step - loss: -723.5497 - I_like: 2.8758 - val_loss: -557.6385 - val_I_like: 2.6367\n",
      "Epoch 57/1000\n",
      "340/340 [==============================] - 7s 19ms/step - loss: -722.8566 - I_like: 2.8752 - val_loss: -560.7131 - val_I_like: 2.6413\n",
      "Epoch 58/1000\n",
      "340/340 [==============================] - 6s 19ms/step - loss: -726.3467 - I_like: 2.8804 - val_loss: -563.5231 - val_I_like: 2.6456\n",
      "Epoch 59/1000\n",
      "340/340 [==============================] - 7s 19ms/step - loss: -728.2538 - I_like: 2.8833 - val_loss: -570.6910 - val_I_like: 2.6562\n",
      "Epoch 60/1000\n",
      "340/340 [==============================] - 6s 19ms/step - loss: -730.1829 - I_like: 2.8863 - val_loss: -553.3073 - val_I_like: 2.6314\n",
      "Epoch 61/1000\n",
      "340/340 [==============================] - 6s 19ms/step - loss: -725.3710 - I_like: 2.8797 - val_loss: -549.5298 - val_I_like: 2.6261\n",
      "Epoch 62/1000\n",
      "340/340 [==============================] - 6s 18ms/step - loss: -733.4609 - I_like: 2.8917 - val_loss: -560.2567 - val_I_like: 2.6418\n",
      "Epoch 63/1000\n",
      "340/340 [==============================] - 6s 18ms/step - loss: -731.7371 - I_like: 2.8894 - val_loss: -557.9395 - val_I_like: 2.6387\n",
      "Epoch 64/1000\n",
      "340/340 [==============================] - 6s 19ms/step - loss: -734.5369 - I_like: 2.8936 - val_loss: -547.4426 - val_I_like: 2.6238\n",
      "Epoch 65/1000\n",
      "340/340 [==============================] - 7s 19ms/step - loss: -736.2141 - I_like: 2.8962 - val_loss: -559.0735 - val_I_like: 2.6408\n",
      "Epoch 66/1000\n",
      "340/340 [==============================] - 11s 33ms/step - loss: -741.8831 - I_like: 2.9046 - val_loss: -498.9551 - val_I_like: 2.5543\n",
      "Training time: 473.3 seconds\n"
     ]
    }
   ],
   "source": [
    "# Fit model to data\n",
    "history = model.fit(learning_rate=.0003,\n",
    "                    epochs=1000,\n",
    "                    batch_size=1000,\n",
    "                    early_stopping=True,\n",
    "                    early_stopping_patience=20,\n",
    "                    linear_initialization=False)"
   ]
  },
  {
   "cell_type": "code",
   "execution_count": 7,
   "metadata": {},
   "outputs": [
    {
     "name": "stdout",
     "output_type": "stream",
     "text": [
      "Model saved to these files:\n",
      "\tgb1_ge_blackbox.pickle\n",
      "\tgb1_ge_blackbox.h5\n"
     ]
    }
   ],
   "source": [
    "# Save model\n",
    "model.save(name)"
   ]
  },
  {
   "cell_type": "code",
   "execution_count": 8,
   "metadata": {},
   "outputs": [
    {
     "name": "stdout",
     "output_type": "stream",
     "text": [
      "Model loaded from these files:\n",
      "\tgb1_ge_blackbox.pickle\n",
      "\tgb1_ge_blackbox.h5\n"
     ]
    }
   ],
   "source": [
    "# Load model\n",
    "model = mavenn.load(name)"
   ]
  },
  {
   "cell_type": "code",
   "execution_count": 9,
   "metadata": {},
   "outputs": [
    {
     "name": "stdout",
     "output_type": "stream",
     "text": [
      "640\tgb1_ge_blackbox.h5\r\n",
      "16\tgb1_ge_blackbox.pickle\r\n"
     ]
    }
   ],
   "source": [
    "!du -k gb1_ge_blackbox.*"
   ]
  },
  {
   "cell_type": "code",
   "execution_count": 10,
   "metadata": {},
   "outputs": [],
   "source": [
    "# Subsample indices for easy plotting and information estimation\n",
    "N_test = len(test_df)\n",
    "ix = np.random.rand(N_test) < .1\n",
    "\n",
    "# Get x and y\n",
    "x = test_df['x'].values[ix]\n",
    "y = test_df['y'].values[ix]"
   ]
  },
  {
   "cell_type": "code",
   "execution_count": 11,
   "metadata": {},
   "outputs": [
    {
     "name": "stdout",
     "output_type": "stream",
     "text": [
      "On test data:\n",
      "I_like_test: 2.570 +- 0.019 bits\n",
      "I_pred_test: 2.744 +- 0.012 bits\n"
     ]
    },
    {
     "data": {
      "image/png": "[encoded data removed]",
      "text/plain": [
       "<Figure size 288x288 with 1 Axes>"
      ]
     },
     "metadata": {
      "needs_background": "light"
     },
     "output_type": "display_data"
    }
   ],
   "source": [
    "# Show training history\n",
    "print('On test data:')\n",
    "\n",
    "# Compute likelihood information\n",
    "I_like, dI_like =  model.I_likelihood(x=x, y=y)\n",
    "print(f'I_like_test: {I_like:.3f} +- {dI_like:.3f} bits') \n",
    "\n",
    "# Compute predictive information\n",
    "I_pred, dI_pred = model.I_predictive(x=x, y=y)\n",
    "print(f'I_pred_test: {I_pred:.3f} +- {dI_pred:.3f} bits')\n",
    "\n",
    "I_like_hist = model.history['I_like']\n",
    "val_I_like_hist = model.history['val_I_like']\n",
    "\n",
    "fig, ax = plt.subplots(1,1,figsize=[4,4])\n",
    "ax.plot(I_like_hist, label='I_like_train')\n",
    "ax.plot(val_I_like_hist, label='I_like_val')\n",
    "ax.axhline(I_like, color='C2', linestyle=':', label='I_like_test')\n",
    "ax.axhline(I_pred, color='C3', linestyle=':', label='I_pred_test')\n",
    "ax.legend()\n",
    "ax.set_xlabel('epochs')\n",
    "ax.set_ylabel('bits')\n",
    "ax.set_title('training hisotry')\n",
    "ax.set_ylim([0, I_pred*1.2]);"
   ]
  },
  {
   "cell_type": "code",
   "execution_count": 12,
   "metadata": {},
   "outputs": [
    {
     "data": {
      "image/png": "[encoded data removed]",
      "text/plain": [
       "<Figure size 288x288 with 1 Axes>"
      ]
     },
     "metadata": {
      "needs_background": "light"
     },
     "output_type": "display_data"
    }
   ],
   "source": [
    "# Compute phi and yhat values\n",
    "phi = model.x_to_phi(x)\n",
    "yhat = model.phi_to_yhat(phi)\n",
    "\n",
    "# Create grid for plotting yhat and yqs\n",
    "phi_lim = [-5, 2.5]\n",
    "phi_grid = np.linspace(phi_lim[0], phi_lim[1], 1000)\n",
    "yhat_grid = model.phi_to_yhat(phi_grid)\n",
    "yqs_grid = model.yhat_to_yq(yhat_grid, q=[.16,.84])\n",
    "\n",
    "# Create two panels\n",
    "fig, ax = plt.subplots(1, 1, figsize=[4, 4])\n",
    "\n",
    "# Illustrate measurement process with GE curve\n",
    "ax.scatter(phi, y, color='C0', s=5, alpha=.2, label='test data')\n",
    "ax.plot(phi_grid, yhat_grid, linewidth=2, color='C1',\n",
    "        label='$\\hat{y} = g(\\phi)$')\n",
    "ax.plot(phi_grid, yqs_grid[:, 0], linestyle='--', color='C1',\n",
    "        label='68% CI')\n",
    "ax.plot(phi_grid, yqs_grid[:, 1], linestyle='--', color='C1')\n",
    "ax.set_xlim(phi_lim)\n",
    "ax.set_xlabel('latent phenotype ($\\phi$)')\n",
    "ax.set_ylabel('measurement ($y$)')\n",
    "ax.set_title('measurement process')\n",
    "ax.legend()\n",
    "\n",
    "# Fix up plot\n",
    "fig.tight_layout()\n",
    "plt.show()"
   ]
  },
  {
   "cell_type": "code",
   "execution_count": 13,
   "metadata": {},
   "outputs": [
    {
     "data": {
      "text/html": [
       "<div>\n",
       "<style scoped>\n",
       "    .dataframe tbody tr th:only-of-type {\n",
       "        vertical-align: middle;\n",
       "    }\n",
       "\n",
       "    .dataframe tbody tr th {\n",
       "        vertical-align: top;\n",
       "    }\n",
       "\n",
       "    .dataframe thead th {\n",
       "        text-align: right;\n",
       "    }\n",
       "</style>\n",
       "<table border=\"1\" class=\"dataframe\">\n",
       "  <thead>\n",
       "    <tr style=\"text-align: right;\">\n",
       "      <th></th>\n",
       "      <th>training_set</th>\n",
       "      <th>yhat</th>\n",
       "      <th>phi</th>\n",
       "      <th>y</th>\n",
       "      <th>x</th>\n",
       "    </tr>\n",
       "  </thead>\n",
       "  <tbody>\n",
       "    <tr>\n",
       "      <th>0</th>\n",
       "      <td>True</td>\n",
       "      <td>-6.769110</td>\n",
       "      <td>-1.057737</td>\n",
       "      <td>-6.866087</td>\n",
       "      <td>QYKVILNGKTLKGETTTEAVDAAPAEKVFKQYANDNGVDGEWTEDD...</td>\n",
       "    </tr>\n",
       "    <tr>\n",
       "      <th>1</th>\n",
       "      <td>True</td>\n",
       "      <td>-6.256627</td>\n",
       "      <td>-0.878229</td>\n",
       "      <td>-6.615749</td>\n",
       "      <td>QYKLILNGKTLKGETTTEAVDAATAEKVFQMYANDNGVDGRWTYDD...</td>\n",
       "    </tr>\n",
       "    <tr>\n",
       "      <th>2</th>\n",
       "      <td>True</td>\n",
       "      <td>-7.659273</td>\n",
       "      <td>-1.410232</td>\n",
       "      <td>-7.207937</td>\n",
       "      <td>QYKLILNGKTLKGETTTEAVDAATAEKVFKQYDNDNGVDTEWTYDD...</td>\n",
       "    </tr>\n",
       "    <tr>\n",
       "      <th>3</th>\n",
       "      <td>True</td>\n",
       "      <td>-2.328909</td>\n",
       "      <td>0.291488</td>\n",
       "      <td>-2.613426</td>\n",
       "      <td>QYKLILNGKTLKGETTTEYVDAATAERVFKQYANDNGVDGEWFYDD...</td>\n",
       "    </tr>\n",
       "    <tr>\n",
       "      <th>4</th>\n",
       "      <td>True</td>\n",
       "      <td>-4.760952</td>\n",
       "      <td>-0.409201</td>\n",
       "      <td>-4.066459</td>\n",
       "      <td>QYKLILNGKTLKGETTQEAVDAATAEKVFKVYANDNGADGEWTYDD...</td>\n",
       "    </tr>\n",
       "  </tbody>\n",
       "</table>\n",
       "</div>"
      ],
      "text/plain": [
       "   training_set      yhat       phi         y  \\\n",
       "0          True -6.769110 -1.057737 -6.866087   \n",
       "1          True -6.256627 -0.878229 -6.615749   \n",
       "2          True -7.659273 -1.410232 -7.207937   \n",
       "3          True -2.328909  0.291488 -2.613426   \n",
       "4          True -4.760952 -0.409201 -4.066459   \n",
       "\n",
       "                                                   x  \n",
       "0  QYKVILNGKTLKGETTTEAVDAAPAEKVFKQYANDNGVDGEWTEDD...  \n",
       "1  QYKLILNGKTLKGETTTEAVDAATAEKVFQMYANDNGVDGRWTYDD...  \n",
       "2  QYKLILNGKTLKGETTTEAVDAATAEKVFKQYDNDNGVDTEWTYDD...  \n",
       "3  QYKLILNGKTLKGETTTEYVDAATAERVFKQYANDNGVDGEWFYDD...  \n",
       "4  QYKLILNGKTLKGETTQEAVDAATAEKVFKVYANDNGADGEWTYDD...  "
      ]
     },
     "execution_count": 13,
     "metadata": {},
     "output_type": "execute_result"
    }
   ],
   "source": [
    "# Test simulate_data\n",
    "sim_df = model.simulate_dataset(N=1000)\n",
    "sim_df.head()"
   ]
  },
  {
   "cell_type": "code",
   "execution_count": null,
   "metadata": {},
   "outputs": [],
   "source": []
  }
 ],
 "metadata": {
  "kernelspec": {
   "display_name": "Python 3",
   "language": "python",
   "name": "python3"
  },
  "language_info": {
   "codemirror_mode": {
    "name": "ipython",
    "version": 3
   },
   "file_extension": ".py",
   "mimetype": "text/x-python",
   "name": "python",
   "nbconvert_exporter": "python",
   "pygments_lexer": "ipython3",
   "version": "3.7.4"
  }
 },
 "nbformat": 4,
 "nbformat_minor": 2
}
