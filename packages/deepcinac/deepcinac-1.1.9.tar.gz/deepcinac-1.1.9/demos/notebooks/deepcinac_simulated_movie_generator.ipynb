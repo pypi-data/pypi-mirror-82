{
  "nbformat": 4,
  "nbformat_minor": 0,
  "metadata": {
    "colab": {
      "name": "deepcinac_simulated_movie_generator.ipynb",
      "provenance": [],
      "collapsed_sections": []
    },
    "kernelspec": {
      "name": "python3",
      "display_name": "Python 3"
    }
  },
  "cells": [
    {
      "cell_type": "markdown",
      "metadata": {
        "id": "ehUcQ4V4p9G4",
        "colab_type": "text"
      },
      "source": [
        "###DEMO of DeepCINAC simulated movie generator###\n",
        "\n",
        "Welcome on this notebook. \n",
        "\n",
        "We're going to guide you on how using DeepCINAC to generate a simulated version of 2-photon calcium imaging (the goal is not to be super realistic). \n",
        "\n",
        "This notebook has been conceived in order to be run on google colab. A [python](https://gitlab.com/cossartlab/deepcinac/tree/master/demos/general/demo_deepcinac_simulated_movie_generator.py) file is available to be run localy. \n",
        "\n",
        "Here is a link to our [gitlab page](https://gitlab.com/cossartlab/deepcinac) for more information about our package. \n",
        "\n",
        "\n",
        "So far, to run this code, you will need some cell contours model (you can download a set from our gitlab at this [address](https://gitlab.com/cossartlab/deepcinac/tree/master/demos/data/simulated_movies/cell_models_simulated_movie_suite2p.mat) or follow the instructions below to generate your own. You can also add vessels to your movie (see instructions below, you can dowload some [here](https://gitlab.com/cossartlab/deepcinac/tree/master/demos/data/vessel_pics) as an example ). We haven't use vessels on our simulated data to train our classifier \n",
        "\n",
        "You can check examples of simulated movie at this address: [gitlab](https://gitlab.com/cossartlab/deepcinac/tree/master/demos/data/simulated_movies).\n"
      ]
    },
    {
      "cell_type": "markdown",
      "metadata": {
        "id": "6K1_IFqCnc4Y",
        "colab_type": "text"
      },
      "source": [
        "**First** we are installing the deepcinac and its depedencies"
      ]
    },
    {
      "cell_type": "code",
      "metadata": {
        "id": "t7pIlCemnd72",
        "colab_type": "code",
        "colab": {}
      },
      "source": [
        "!pip install --upgrade deepcinac\n",
        "!pip install scanimage-tiff-reader\n",
        "!pip install tifffile\n",
        "!pip install hdf5storage"
      ],
      "execution_count": 0,
      "outputs": []
    },
    {
      "cell_type": "markdown",
      "metadata": {
        "id": "ZI9R1hLGnmzu",
        "colab_type": "text"
      },
      "source": [
        "Then importing the classes necessary to generate the simulated movie"
      ]
    },
    {
      "cell_type": "code",
      "metadata": {
        "id": "WbaOjvH_noAH",
        "colab_type": "code",
        "colab": {}
      },
      "source": [
        "from deepcinac.cinac_simulated_movie_generator import SimulatedMovieGenerator\n",
        "import os\n",
        "from datetime import datetime"
      ],
      "execution_count": 0,
      "outputs": []
    },
    {
      "cell_type": "markdown",
      "metadata": {
        "id": "VJMz5K51lXkW",
        "colab_type": "text"
      },
      "source": [
        "To access your files in google drive, you need to mount it. Running the code below, a link will appear that will give you access. "
      ]
    },
    {
      "cell_type": "code",
      "metadata": {
        "id": "OP-wtN84ku7u",
        "colab_type": "code",
        "colab": {}
      },
      "source": [
        "from google.colab import drive\n",
        "drive.mount('/content/drive')"
      ],
      "execution_count": 0,
      "outputs": []
    },
    {
      "cell_type": "markdown",
      "metadata": {
        "id": "rjlB4X8Nok4P",
        "colab_type": "text"
      },
      "source": [
        "You will need to upload your data to your drive. To do so, indicate the paths of the different files on the code below. You may have to replace the 'My Drive' in 'gdrive/My Drive/' by the correct path depending on the language used on your google drive. "
      ]
    },
    {
      "cell_type": "code",
      "metadata": {
        "id": "Rer8rlikoloW",
        "colab_type": "code",
        "colab": {}
      },
      "source": [
        "# root path, just used to avoid copying the path everywhere\n",
        "root_path = '/content/drive/My Drive/demo_deepcinac/'\n",
        "\n",
        "# path to calcium imaging data\n",
        "data_path = os.path.join(root_path, \"data\")\n",
        "\n",
        "# file containing cell models, based on suite2p segmentation from a few\n",
        "# 2-photon calcium imaging recorded in the CA1 pyramidal layer on pups\n",
        "cell_models_file = os.path.join(data_path, \n",
        "                                \"simulated_movie_generator\",\n",
        "                                \"cell_models_simulated_movie_suite2p.mat\")\n",
        "\n",
        "# path of the directory where the results will be save\n",
        "# a directory will be created each time the prediction is run\n",
        "# the directory name will be the date and time at which the analysis has been run\n",
        "# the predictions will be in this directory.\n",
        "path_results = os.path.join(root_path,\"results\")\n",
        "time_str = datetime.now().strftime(\"%Y_%m_%d.%H-%M-%S\")\n",
        "path_results = os.path.join(path_results, time_str)\n",
        "if not os.path.isdir(path_results):\n",
        "    os.mkdir(path_results)"
      ],
      "execution_count": 0,
      "outputs": []
    },
    {
      "cell_type": "markdown",
      "metadata": {
        "id": "C2dzB6RupqLn",
        "colab_type": "text"
      },
      "source": [
        "The first step is to create an instance of SimulatedMovieGenerator and decide of the parameters (dimensions, number of frames, transients' rate etc...)"
      ]
    },
    {
      "cell_type": "code",
      "metadata": {
        "id": "39tY4UrapqpI",
        "colab_type": "code",
        "colab": {}
      },
      "source": [
        "\"\"\"\n",
        "dimensions: tuple of 2 int, represent the dimension of the movie in pixels, (x, y)\n",
        "n_overlap_by_cell_range: (tuple of 2 int) bottom and upper range of how many cells will overlap\n",
        "            our cell \"of interest\" aimed to train the classifier\n",
        "non_overlap_by_cell_range:  (tuple of 2 int) bottom and upper range of  how many cells will be near\n",
        "            our cells \"of interest\" aimed to train the classifier, but without any overlap\n",
        "n_cells_of_interest: (int) cells of interest, are the cell for which we want to control how many overlaps,\n",
        "             their activity the aim is to use them to train the classifier\n",
        "range_n_transient_cells_of_interest: bottom and upper range of the number of transients over 1000 frames\n",
        "            for our cells of interest\n",
        "range_n_transient_overlapping_cells: bottom and upper range of the number of transients over 1000 frames\n",
        "            for cells that overlap our cell of interest\n",
        "range_n_transient_other_cells: bottom and upper range of the number of transients over 1000 frames\n",
        "            for cells that are not of interest or overlap them\n",
        "with_mvt: boolean, is True, means some movement will be added, otherwise it would produce a movie with \n",
        "            perfect motion correction  \n",
        "path_results: Directory in which to save the results\n",
        "time_str (string): id (meant to be a timestamps string representation) in order to  give a unique id to files. \n",
        "\"\"\"\n",
        "movie_generator = SimulatedMovieGenerator(dimensions=(120, 120), \n",
        "                                          n_cells_of_interest=16,\n",
        "                                          n_overlap_by_cell_range=(1, 4),\n",
        "                                          non_overlap_by_cell_range=(2, 10),\n",
        "                                          range_n_transient_cells_of_interest=(2, 4),\n",
        "                                          range_n_transient_overlapping_cells=(8, 16),\n",
        "                                          range_n_transient_other_cells=(2, 16),\n",
        "                                          n_frames=2500, \n",
        "                                          with_mvt=False,\n",
        "                                          time_str=time_str,\n",
        "                                          path_results=path_results)"
      ],
      "execution_count": 0,
      "outputs": []
    },
    {
      "cell_type": "markdown",
      "metadata": {
        "id": "uOUIKnX-9Q-3",
        "colab_type": "text"
      },
      "source": [
        "(optional) This code allows you to create vessels based on tiff images. You can find examples on our gitlab, it should be a picture with a white background and the vessel should be in black. \n"
      ]
    },
    {
      "cell_type": "code",
      "metadata": {
        "id": "6m9rNG_s9XS_",
        "colab_type": "code",
        "colab": {}
      },
      "source": [
        "vessels_imgs_dir = os.path.join(data_path, \"simulated_movie_generator/vessels_tiff_imgs\")\n",
        "# you can indicate a path where to save the newly created vessels using path_results to load\n",
        "# them directly another time\n",
        "# n_vessels_max is the number of vessels to add, if the directory contains more\n",
        "# than n_vessels_max\n",
        "movie_generator.produce_and_load_vessels(vessels_imgs_dir=vessels_imgs_dir, \n",
        "                                         n_vessels_max=2, path_results=None)"
      ],
      "execution_count": 0,
      "outputs": []
    },
    {
      "cell_type": "markdown",
      "metadata": {
        "id": "qGjB847f-1Ko",
        "colab_type": "text"
      },
      "source": [
        "(optional) Code to load vessels already created"
      ]
    },
    {
      "cell_type": "code",
      "metadata": {
        "id": "_14lhrQo-3uw",
        "colab_type": "code",
        "colab": {}
      },
      "source": [
        "# vessels_dir is the directory that contains the vessels\n",
        "# n_vessels_max is the number of vessels to add, if the directory contains more\n",
        "# than n_vessels_max\n",
        "vessels_dir = os.path.join(data_path, \"simulated_movie_generator\")\n",
        "movie_generator.load_vessels(vessels_dir=vessels_dir, n_vessels_max=2)"
      ],
      "execution_count": 0,
      "outputs": []
    },
    {
      "cell_type": "markdown",
      "metadata": {
        "id": "9hhfOio-_ON6",
        "colab_type": "text"
      },
      "source": [
        "Then it is necessary to load some cell models that will be use to generate the \n",
        "contour map. "
      ]
    },
    {
      "cell_type": "code",
      "metadata": {
        "id": "3ARCz41GBP1Q",
        "colab_type": "code",
        "colab": {}
      },
      "source": [
        "# from_matlab: boolean that indicates if the coordinates have been generated\n",
        "# using matlab code and so starting from 1 and not 0. \n",
        "movie_generator.load_cell_coords(data_file=cell_models_file, from_matlab=False)"
      ],
      "execution_count": 0,
      "outputs": []
    },
    {
      "cell_type": "markdown",
      "metadata": {
        "id": "jBo1bn3NBhmo",
        "colab_type": "text"
      },
      "source": [
        "Finally, we generate the movie. \n",
        "\n",
        "The automatic steps are:\n",
        "\n",
        "\n",
        "1.   Generating a contour map (a figure will be created to represent it as well as a file with the coordinates)\n",
        "2.   Generating a for each transients and building a raster (figure will be created as well as files to be opened in the GUI to check the activity)\n",
        "3.   Generating the traces (figure created as well)\n",
        "4.   Generating the movie (tiff file created)\n"
      ]
    },
    {
      "cell_type": "code",
      "metadata": {
        "id": "ADuPsThjBlYH",
        "colab_type": "code",
        "colab": {}
      },
      "source": [
        "movie_generator.generate_movie()"
      ],
      "execution_count": 0,
      "outputs": []
    }
  ]
}