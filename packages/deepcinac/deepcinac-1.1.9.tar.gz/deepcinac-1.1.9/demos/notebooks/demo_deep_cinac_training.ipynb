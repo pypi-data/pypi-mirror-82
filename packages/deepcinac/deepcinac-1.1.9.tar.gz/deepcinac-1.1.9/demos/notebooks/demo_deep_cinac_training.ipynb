{
  "nbformat": 4,
  "nbformat_minor": 0,
  "metadata": {
    "colab": {
      "name": "demo_deep_cinac_training.ipynb",
      "provenance": [],
      "collapsed_sections": [],
      "machine_shape": "hm"
    },
    "kernelspec": {
      "name": "python3",
      "display_name": "Python 3"
    },
    "accelerator": "GPU"
  },
  "cells": [
    {
      "cell_type": "markdown",
      "metadata": {
        "id": "4SIMkzEdje7Q",
        "colab_type": "text"
      },
      "source": [
        "###DEMO of deepCINAC###\n",
        "\n",
        "Welcome on this notebook. \n",
        "\n",
        "We're going to guide you on how using deepCINAC to train either a cell type or an activity classifier from your calcium imaging data. Most of the code is similar and in both case you will need to produce labeled data using our GUI.\n",
        "\n",
        "This notebook has been conceived in order to be run on google colab. A [python](https://gitlab.com/cossartlab/deepcinac/tree/master/demos/general/demo_deep_cinac_training.py) file is available to be run localy. \n",
        "\n",
        "Here is a link to our [gitlab page](https://gitlab.com/cossartlab/deepcinac) for more information about our package. \n",
        "\n",
        "\n",
        "So far, to run this code, you will need some calcium imaging data to work on (in tiff format) and some segmentation data (ROIs) indicating the contours or pixels that compose your cells (compatible format are Caiman, suite2p, Fiji or NWB outputs). You will need to open those data using our GUI (see the [tutorial](https://deepcinac.readthedocs.io/en/latest/tutorial_gui.html)) in order to annotate it (either with the cell type and/or activity) and to produce .cinac files that will be used to train \n",
        "the classifier."
      ]
    },
    {
      "cell_type": "markdown",
      "metadata": {
        "id": "8-d6bMEU69fc",
        "colab_type": "text"
      },
      "source": [
        "**Accessing your files in google drive**\n",
        "\n",
        "To access your files in google drive, you need to mount it. Running the code below, a link will appear that will give you access. "
      ]
    },
    {
      "cell_type": "code",
      "metadata": {
        "id": "ezxyPCJG616t",
        "colab_type": "code",
        "colab": {}
      },
      "source": [
        "from google.colab import drive\n",
        "drive.mount('/content/gdrive', force_remount=True)"
      ],
      "execution_count": 0,
      "outputs": []
    },
    {
      "cell_type": "markdown",
      "metadata": {
        "id": "BnOb4VZt0QWW",
        "colab_type": "text"
      },
      "source": [
        "A few packages need to be installed"
      ]
    },
    {
      "cell_type": "code",
      "metadata": {
        "id": "JGrSW2446U71",
        "colab_type": "code",
        "colab": {}
      },
      "source": [
        "!pip install scanimage-tiff-reader\n",
        "!pip install tifffile\n",
        "!pip install h5py --upgrade\n",
        "!pip install alt_model_checkpoint\n",
        "!pip install PyYAML --upgrade"
      ],
      "execution_count": 0,
      "outputs": []
    },
    {
      "cell_type": "markdown",
      "metadata": {
        "id": "yYBT98N90FZi",
        "colab_type": "text"
      },
      "source": [
        "2 choices to install deepcinac, either installing the package through pip install or adding the sources to PYTHON_PATH or "
      ]
    },
    {
      "cell_type": "code",
      "metadata": {
        "id": "Zl82MSGe0Fwj",
        "colab_type": "code",
        "colab": {}
      },
      "source": [
        "!pip install --upgrade deepcinac"
      ],
      "execution_count": 0,
      "outputs": []
    },
    {
      "cell_type": "code",
      "metadata": {
        "id": "ocVb5sxd6d9N",
        "colab_type": "code",
        "colab": {}
      },
      "source": [
        "import sys\n",
        "# decomment next line to add the sources of deepcinac in the path\n",
        "# sys.path.insert(1, '/content/gdrive/My Drive/Colab Notebooks/deepcinac/src')"
      ],
      "execution_count": 0,
      "outputs": []
    },
    {
      "cell_type": "markdown",
      "metadata": {
        "id": "ma5XMbM19P-c",
        "colab_type": "text"
      },
      "source": [
        "Change the paths according to your environment"
      ]
    },
    {
      "cell_type": "code",
      "metadata": {
        "id": "cOZeO4p87tjF",
        "colab_type": "code",
        "colab": {}
      },
      "source": [
        "import os\n",
        "import yaml\n",
        "print(f\"yaml version: {yaml.__version__}\")\n",
        "from datetime import datetime\n",
        "from deepcinac.cinac_model import *\n",
        "from deepcinac.cinac_predictor import *\n",
        "\n",
        "root_path = \"/content/gdrive/My Drive/Colab Notebooks/deepcinac/\"\n",
        "\n",
        "data_path = os.path.join(root_path, \"data/\")\n",
        "results_path = os.path.join(root_path, \"results\")\n",
        "time_str = datetime.now().strftime(\"%Y_%m_%d.%H-%M-%S\")\n",
        "results_path = os.path.join(results_path, time_str)\n",
        "os.mkdir(results_path)\n",
        "\n"
      ],
      "execution_count": 0,
      "outputs": []
    },
    {
      "cell_type": "markdown",
      "metadata": {
        "id": "2jyADCHo8c4M",
        "colab_type": "text"
      },
      "source": [
        "##TO PREPARE CELL TYPE CLASSIFIER##"
      ]
    },
    {
      "cell_type": "code",
      "metadata": {
        "id": "4ieDjjCX8cJl",
        "colab_type": "code",
        "colab": {}
      },
      "source": [
        "\"\"\"\n",
        "  To start training from a full saved model from another training, it is necessary to:\n",
        "  - During the previous training, to put as argument: save_only_the_weitghs=False\n",
        "  - then specify the .h5 containing the model using partly_trained_model\n",
        "  - finally setting the learning rate so it is the same as the last epoch trained, using learning_rate_start\n",
        "\"\"\"\n",
        "\n",
        "partly_trained_model = os.path.join(root_path, \"\")\n",
        "# specify a yaml file to configure the cell type as they are encoded \n",
        "# in the cinac files if not the default configuration will be used\n",
        "#  (encoding interneurons, pyramidal cells and noisy cells)\n",
        "#yaml_file = os.path.join(data_path, \"cell_type_categories_default.yaml\")\n",
        "cinac_model = CinacModel(results_path=results_path, n_epochs=10, verbose=1, \n",
        "                         batch_size=4,\n",
        "                         cell_type_classifier_mode=True,\n",
        "                         max_width=20, max_height=20,\n",
        "                         window_len=500, max_n_transformations=0,\n",
        "                         n_windows_len_to_keep_by_cell=3,\n",
        "                         conv_filters=(32, 32, 64, 64),\n",
        "                         lstm_layers_size=[32, 64], bin_lstm_size=64,\n",
        "                         overlap_value=0.5,\n",
        "                         with_all_pixels=True,\n",
        "                         #frames_to_avoid_for_cell_type=[2500, 5000, 7500, 10000],\n",
        "                         # partly_trained_model=partly_trained_model,\n",
        "                         #  learning_rate_start = 0.001,\n",
        "                         save_only_the_weitghs=False\n",
        "                         #cell_type_categories_yaml_file=yaml_file\n",
        "                         )\n",
        "\n",
        "cinac_dir_name = os.path.join(data_path, \n",
        "                              \"cinac_cell_type_ground_truth/for_training\")\n",
        "\n",
        "# adding all cinac file in a directory\n",
        "cinac_model.add_input_data_from_dir(dir_name=cinac_dir_name, verbose=1)\n",
        "\n",
        "# cinac files can also be added individually or as a list\n",
        "# using the method add_input_data()\n",
        "# cinac_model.add_input_data(cinac_file_names=path_to_file)\n",
        "\n",
        "cinac_model.prepare_model(verbose=1)"
      ],
      "execution_count": 0,
      "outputs": []
    },
    {
      "cell_type": "markdown",
      "metadata": {
        "id": "7DVA3Yql8lO2",
        "colab_type": "text"
      },
      "source": [
        "##TO PREPARE CELL ACTIVITY CLASSIFIER##"
      ]
    },
    {
      "cell_type": "code",
      "metadata": {
        "id": "iJgem02k8C0l",
        "colab_type": "code",
        "colab": {}
      },
      "source": [
        "\"\"\"\n",
        "    To start training from a full saved model from another training, it is necessary to:\n",
        "    - During the previous training, to put as argument: save_only_the_weitghs=False\n",
        "    - then specify the .h5 containing the model using partly_trained_model\n",
        "    - finally setting the learning rate so it is the same as the last epoch trained, using learning_rate_start\n",
        "\"\"\"\n",
        "\n",
        "#partly_trained_model = os.path.join(root_path, \"\")\n",
        "cinac_model = CinacModel(results_path=results_path, n_epochs=20, verbose=1, \n",
        "                         batch_size=8,\n",
        "                         cell_type_classifier_mode=False,\n",
        "                         window_len=100,\n",
        "                         lstm_layers_size=[128, 256], bin_lstm_size=256,\n",
        "                         conv_filters=(64, 64, 128, 128),\n",
        "                         save_only_the_weitghs=False\n",
        "                         # partly_trained_model=partly_trained_model,\n",
        "                         #  learning_rate_start = 0.001,\n",
        "                         )\n",
        "\n",
        "cinac_dir_name = os.path.join(data_path, \"cinac_ground_truth/for_training\")\n",
        "\n",
        "cinac_model.add_input_data_from_dir(dir_name=cinac_dir_name, verbose=1)\n",
        "\n",
        "# cinac files can also be added individually or as a list\n",
        "# using the method add_input_data()\n",
        "# cinac_model.add_input_data(cinac_file_names=path_to_file)\n",
        "\n",
        "cinac_model.prepare_model(verbose=1)\n"
      ],
      "execution_count": 0,
      "outputs": []
    },
    {
      "cell_type": "markdown",
      "metadata": {
        "id": "wzje-GL18og-",
        "colab_type": "text"
      },
      "source": [
        "##TO START THE TRAINING##"
      ]
    },
    {
      "cell_type": "code",
      "metadata": {
        "id": "fjwlZt9h8hq1",
        "colab_type": "code",
        "colab": {}
      },
      "source": [
        "cinac_model.fit()"
      ],
      "execution_count": 0,
      "outputs": []
    }
  ]
}