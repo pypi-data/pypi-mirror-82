{
  "nbformat": 4,
  "nbformat_minor": 0,
  "metadata": {
    "colab": {
      "name": "demo_deepcinac_predictions.ipynb",
      "provenance": [],
      "collapsed_sections": []
    },
    "kernelspec": {
      "name": "python3",
      "display_name": "Python 3"
    },
    "accelerator": "GPU"
  },
  "cells": [
    {
      "cell_type": "markdown",
      "metadata": {
        "id": "Pw36HXbj9puY",
        "colab_type": "text"
      },
      "source": [
        "###DEMO of deepCINAC###\n",
        "\n",
        "Welcome on this notebook. \n",
        "\n",
        "We're going to guide you on how using deepCINAC to either infer the neuronal activity or predict the cell type from your calcium imaging data. \n",
        "\n",
        "This notebook has been conceived in order to be run on google colab. A [python](https://gitlab.com/cossartlab/deepcinac/tree/master/demos/general/demo_deepcinac_predictions.py) file is available to be run localy. \n",
        "\n",
        "Here is a link to our [gitlab page](https://gitlab.com/cossartlab/deepcinac) for more information about our package. \n",
        "\n",
        "\n",
        "So far, to run this code, you will need some calcium imaging data to work on (in tiff format) and some segmentation data (ROIs) indicating the contours or pixels that compose your cells (compatible format are Caiman, suite2p, Fiji or NWB outputs).\n",
        "\n",
        "The filenames of the data in the code corresponds to the demo data available on our [gitlab](https://gitlab.com/cossartlab/deepcinac/tree/master/demos/data) repository, using suite2p ROIs data.\n",
        "\n",
        "You will also need a model file (.json extension) and a file containing the weights of network (.h5 extensions). You can download some [there](https://bit.ly/2XyNoF5).\n"
      ]
    },
    {
      "cell_type": "markdown",
      "metadata": {
        "id": "pd3nlklh8qdq",
        "colab_type": "text"
      },
      "source": [
        "**First** we are installing the deepcinac and its depedencies"
      ]
    },
    {
      "cell_type": "code",
      "metadata": {
        "id": "EpwIOFGO98sU",
        "colab_type": "code",
        "colab": {}
      },
      "source": [
        "!pip install --upgrade deepcinac\n",
        "!pip install scanimage-tiff-reader\n",
        "!pip install tifffile\n",
        "!pip install alt_model_checkpoint"
      ],
      "execution_count": 0,
      "outputs": []
    },
    {
      "cell_type": "code",
      "metadata": {
        "id": "sh6Zwu3NbDE-",
        "colab_type": "code",
        "colab": {}
      },
      "source": [
        "!pip install PyYAML --upgrade\n",
        "!pip install h5py --upgrade"
      ],
      "execution_count": 0,
      "outputs": []
    },
    {
      "cell_type": "markdown",
      "metadata": {
        "id": "IdAkkNsH8yhb",
        "colab_type": "text"
      },
      "source": [
        "Then importing the classes necessary to run the prediction"
      ]
    },
    {
      "cell_type": "code",
      "metadata": {
        "id": "I4ULSZuw-Aqa",
        "colab_type": "code",
        "colab": {}
      },
      "source": [
        "from deepcinac.cinac_predictor import *\n",
        "from deepcinac.cinac_structures import *"
      ],
      "execution_count": 0,
      "outputs": []
    },
    {
      "cell_type": "markdown",
      "metadata": {
        "id": "YFmd4zdQ864G",
        "colab_type": "text"
      },
      "source": [
        "**Accessing your files in google drive**\n",
        "\n",
        "To access your files in google drive, you need to mount it. Running the code below, a link will appear that will give you access. "
      ]
    },
    {
      "cell_type": "code",
      "metadata": {
        "id": "ZVpthRgy-Ei5",
        "colab_type": "code",
        "colab": {}
      },
      "source": [
        "from google.colab import drive\n",
        "drive.mount('/content/gdrive')"
      ],
      "execution_count": 0,
      "outputs": []
    },
    {
      "cell_type": "markdown",
      "metadata": {
        "id": "y2awYblBGvj3",
        "colab_type": "text"
      },
      "source": [
        "You can either choose to use the classifier to infer neuronal activity or to predict the cell type. \n",
        "\n",
        "To predict the cell type set the variable cell_type_classifier_mode to False, else True."
      ]
    },
    {
      "cell_type": "code",
      "metadata": {
        "id": "a0jzvN1eGvxl",
        "colab_type": "code",
        "colab": {}
      },
      "source": [
        "cell_type_classifier_mode = True"
      ],
      "execution_count": 0,
      "outputs": []
    },
    {
      "cell_type": "markdown",
      "metadata": {
        "id": "ZHL37fkA9N3D",
        "colab_type": "text"
      },
      "source": [
        "You will need to upload your data to your drive. To do so, indicate the paths of the different files on the code below. You may have to replace the 'My Drive' in 'gdrive/My Drive/' by the correct path depending on the language used on your google drive. "
      ]
    },
    {
      "cell_type": "code",
      "metadata": {
        "id": "vad_Yj9l-HDd",
        "colab_type": "code",
        "colab": {}
      },
      "source": [
        "# root path, just used to avoid copying the path everywhere\n",
        "root_path = 'gdrive/My Drive/demo_deepcinac/'\n",
        "\n",
        "# path to calcium imaging data\n",
        "data_path = os.path.join(root_path, \"data\")\n",
        "movie_file_name = os.path.join(data_path, \"demo_deepcinac_1.tif\")\n",
        "\n",
        "# string used to identify the recording from which you want to predict activity\n",
        "identifier = \"demo_deepcinac\"\n",
        "\n",
        "# Path to your model data. It's possible to have more than one model, and use \n",
        "# each for different cell of the same recording (for exemple, one\n",
        "# network could be specialized for interneurons and the other one for pyramidal\n",
        "# cells)\n",
        "if cell_type_classifier_mode:\n",
        "    weights_file_name = os.path.join(root_path, \n",
        "                                     \"model/cell_type_v1_weights.h5\")\n",
        "    json_file_name = os.path.join(root_path, \n",
        "                                  \"model/cell_type_v1_model.json\")\n",
        "else:\n",
        "    weights_file_name = os.path.join(root_path, \"model/cinac_v1_general_weights.h5\")\n",
        "    json_file_name = os.path.join(root_path, \"model/cinac_v1_general_model.json\")\n",
        "\n",
        "# useful for cell type classifier, it should match the weigths and model\n",
        "# you define above\n",
        "cell_type_yaml_file = os.path.join(data_path, \"cell_type_yaml_files\",\n",
        "                                       \"pyr_vs_ins_multi_class.yaml\")\n",
        "\n",
        "# path of the directory where the results will be save\n",
        "# a directory will be created each time the prediction is run\n",
        "# the directory name will be the date and time at which the analysis has been run\n",
        "# the predictions will be in this directory.\n",
        "results_path = os.path.join(root_path, \"results\")"
      ],
      "execution_count": 0,
      "outputs": []
    },
    {
      "cell_type": "markdown",
      "metadata": {
        "id": "METcmmQAAfrN",
        "colab_type": "text"
      },
      "source": [
        "## Enabling and testing the GPU\n",
        "\n",
        "[source](https://colab.research.google.com/notebooks/gpu.ipynb#scrollTo=oM_8ELnJq_wd)\n",
        "\n",
        "First, you'll need to enable GPUs for the notebook:\n",
        "\n",
        "- Navigate to Edit→Notebook Settings\n",
        "- select GPU from the Hardware Accelerator drop-down\n",
        "\n",
        "Next, we'll confirm that we can connect to the GPU with tensorflow:"
      ]
    },
    {
      "cell_type": "code",
      "metadata": {
        "id": "G-EPPyDw1zi1",
        "colab_type": "code",
        "colab": {}
      },
      "source": [
        "import tensorflow as tf\n",
        "\n",
        "device_name = tf.test.gpu_device_name()\n",
        "if device_name != '/device:GPU:0':\n",
        "  raise SystemError('GPU device not found')\n",
        "print('Found GPU at: {}'.format(device_name))\n",
        "\n"
      ],
      "execution_count": 0,
      "outputs": []
    },
    {
      "cell_type": "markdown",
      "metadata": {
        "id": "B9Ps7tuFSkGQ",
        "colab_type": "text"
      },
      "source": [
        "## Evaluating performances of the classifier\n",
        "\n",
        "If you have cinac files with cell types defined, then you can use the code below\n",
        "to evaluate the performance of the classifier. \n",
        "\n",
        "Metrics will be printed and you can save plots of predictions distribution according to cell type.\n",
        "\n",
        "Evaluation for activity classifier will be soon available"
      ]
    },
    {
      "cell_type": "code",
      "metadata": {
        "id": "lx1-UFCdSkOP",
        "colab_type": "code",
        "colab": {}
      },
      "source": [
        "cinac_dir_name = os.path.join(data_path, \"cinac_cell_type_ground_truth\", \"for_testing\")\n",
        "\n",
        "evaluate_cell_type_predictions(cinac_dir_name, cell_type_yaml_file, results_path,\n",
        "                               json_file_name, weights_file_name, \n",
        "                               save_cell_type_distribution=True)"
      ],
      "execution_count": 0,
      "outputs": []
    },
    {
      "cell_type": "markdown",
      "metadata": {
        "id": "JqmHe96YDpq2",
        "colab_type": "text"
      },
      "source": [
        "## Use classifier on non annotated data\n",
        "\n",
        "Creating an instance of CinacRecording, this class will be use to link the calcium imaging movie and the ROIs."
      ]
    },
    {
      "cell_type": "code",
      "metadata": {
        "id": "iG6M4U5w_Iya",
        "colab_type": "code",
        "colab": {}
      },
      "source": [
        "cinac_recording = CinacRecording(identifier=identifier)\n",
        "\n",
        "# Creating and adding to cinac_recoding the calcium imaging movie data\n",
        "cinac_movie = CinacTiffMovie(tiff_file_name=movie_file_name)\n",
        "\n",
        "# if you have the movie already loaded in memory (for exemple in a NWB file, \n",
        "# if not using external link), then you could do instead:\n",
        "# cinac_movie = CinacTiffMovie(tiff_movie=tiff_movie)\n",
        "# tiff_movie being a 3d numpy array (n_frames*dim_y*dim_x)\n",
        "\n",
        "cinac_recording.set_movie(cinac_movie)"
      ],
      "execution_count": 0,
      "outputs": []
    },
    {
      "cell_type": "markdown",
      "metadata": {
        "id": "7nhS0RSzErVd",
        "colab_type": "text"
      },
      "source": [
        "Adding the information regarding the ROIs to the CinacRecording instance.\n",
        "\n",
        "Execute the code box that fits the data you want to use, you have four options "
      ]
    },
    {
      "cell_type": "code",
      "metadata": {
        "id": "v3GmmX8Q-hI3",
        "colab_type": "code",
        "colab": {}
      },
      "source": [
        "#-----------------------------\n",
        "# options 1: suite2p data \n",
        "#-----------------------------\n",
        "\n",
        "# Segmenting your data will produce npy files used to build the ROIs\n",
        "# the file iscell.npy indicated which roi represents a real cell, only those will\n",
        "# be used.\n",
        "# stat.npy will conain the ROIs coordinates. \n",
        "\n",
        "is_cell_suite2p_file_name = os.path.join(data_path, \"suite2p\", \n",
        "                                         \"demo_deepcinac_iscell_1.npy\")\n",
        "stat_suite2p_file_name = os.path.join(data_path, \"suite2p\", \n",
        "                                      \"demo_deepcinac_stat_1.npy\")\n",
        "cinac_recording.set_rois_from_suite_2p(is_cell_file_name=is_cell_suite2p_file_name,\n",
        "                                       stat_file_name=stat_suite2p_file_name)"
      ],
      "execution_count": 0,
      "outputs": []
    },
    {
      "cell_type": "code",
      "metadata": {
        "id": "p9YUvFhBJLIZ",
        "colab_type": "code",
        "colab": {}
      },
      "source": [
        "#------------------------------------------------------\n",
        "# options 2: contours coordinate (such as CaImAn, Fiji)\n",
        "#------------------------------------------------------\n",
        "\n",
        "\"\"\"\n",
        "coord: numpy array of 2d, first dimension of length 2 (x and y) and 2nd dimension \n",
        "       of length the number of\n",
        "       cells. Could also be a list of lists or tuples of 2 integers\n",
        "from_matlab: Indicate if the data has been computed by matlab, \n",
        "             then 1 will be removed to the coordinates so that it starts at zero.\n",
        "\"\"\"\n",
        "coord = None\n",
        "cinac_recording.set_rois_2d_array(coord=coord, from_matlab=False)"
      ],
      "execution_count": 0,
      "outputs": []
    },
    {
      "cell_type": "code",
      "metadata": {
        "id": "M1xQcKrpKAgH",
        "colab_type": "code",
        "colab": {}
      },
      "source": [
        "#------------------------------------------------\n",
        "# options 3: NWB (Neurodata Without Borders) data\n",
        "#------------------------------------------------\n",
        "\n",
        "\"\"\"\n",
        "Args:\n",
        "     nwb_data: nwb object instance\n",
        "         name_module: Name of the module to find segmentation. \n",
        "         Used this way: nwb_data.modules[name_module]\n",
        "         Ex: name_module = 'ophys'\n",
        "     name_segmentation: Name of the segmentation in which find the plane segmentation.\n",
        "         Used this way:get_plane_segmentation(name_segmentation)\n",
        "         Ex: name_segmentation = 'segmentation_suite2p'\n",
        "     name_seg_plane: Name of the segmentation plane in which to find the ROIs data\n",
        "         Used this way: mod[name_segmentation]get_plane_segmentation(name_seq_plane)\n",
        "         Ex: name_segmentation = 'my_plane_seg'\n",
        "         \n",
        "'pixel_mask' data need to be available in the segmentation plane for it to work\n",
        "                \n",
        "\"\"\"\n",
        "nwb_data = None\n",
        "name_module = \"\"\n",
        "name_segmentation = \"\"\n",
        "name_seg_plane = \"\"\n",
        "cinac_recording.set_rois_from_nwb(nwb_data=nwb_data, name_module=name_module, \n",
        "                                  name_segmentation=name_segmentation, \n",
        "                                  name_seg_plane=name_seg_plane)"
      ],
      "execution_count": 0,
      "outputs": []
    },
    {
      "cell_type": "code",
      "metadata": {
        "id": "393_uv4xMECP",
        "colab_type": "code",
        "colab": {}
      },
      "source": [
        "#-----------------------\n",
        "# options 4: Pixel masks\n",
        "#-----------------------\n",
        "\n",
        "\"\"\"\n",
        "Args:\n",
        "    pixel_masks: list of list of 2 integers representing \n",
        "                 for each cell all the pixels that belongs to the cell\n",
        "This method is actually called by set_rois_from_nwb() after extracting the \n",
        "pixel_masks data from the nwb_file\n",
        "\"\"\"\n",
        "\n",
        "pixel_masks = None\n",
        "cinac_recording.set_rois_using_pixel_mask(pixel_masks=pixel_masks)"
      ],
      "execution_count": 0,
      "outputs": []
    },
    {
      "cell_type": "markdown",
      "metadata": {
        "id": "l09B5ZZuO1ZJ",
        "colab_type": "text"
      },
      "source": [
        "Then we decide which network will be used for predicting the cells' activity.\n",
        "\n",
        "A dictionnary with key a tuple of 3 elements is used.\n",
        "\n",
        "The 3 elements are:\n",
        "\n",
        "\n",
        "*   (string) the model file name (.json extension)\n",
        "*   (string) the weights of the network file name (.h5 extension)\n",
        "*   (string) identifier for this configuration, will be used to name the output file\n",
        "\n",
        "The dictionnary will contain as value the cells to be predicted by the key configuration.\n",
        "\n",
        "If the value is set to None, then all the cells will be predicted using this configuration.\n",
        "\n"
      ]
    },
    {
      "cell_type": "code",
      "metadata": {
        "id": "apI2G1ws-ja5",
        "colab_type": "code",
        "colab": {}
      },
      "source": [
        "model_files_dict = dict()\n",
        "# predicting 10 first cells with this model, weights and string identifying the network\n",
        "model_files_dict[(json_file_name, weights_file_name, \"demo_cinac\")] = np.arange(10)\n",
        "\n",
        "# the line below allows to predict the activity of all cells present\n",
        "#model_files_dict[(json_file_name, weights_file_name, \"demo_cinac\")] = None"
      ],
      "execution_count": 0,
      "outputs": []
    },
    {
      "cell_type": "markdown",
      "metadata": {
        "id": "feXW29ZZP6XC",
        "colab_type": "text"
      },
      "source": [
        "We now create an instance of CinacPredictor and add the CinacRecording we have just created. \n",
        "\n",
        "It's possible to add more than one instance of CinacRecording, they will be predicted on the same run then. \n",
        "\n",
        "The argument removed_cells_mapping allows to remove cells from the segmentation. \n",
        "This could be useful as the network take in consideration the adjacent cells to predict the activity, thus if a cell was wrongly added to segmentation, this could lower the accuracy of the classifier. "
      ]
    },
    {
      "cell_type": "code",
      "metadata": {
        "id": "h-mQ9I42O0np",
        "colab_type": "code",
        "colab": {}
      },
      "source": [
        "cinac_predictor = CinacPredictor()\n",
        "\n",
        "\"\"\"\n",
        "Args:\n",
        "            \n",
        "    removed_cells_mapping: integers array of length the original numbers of \n",
        "        cells (such as defined in CinacRecording)\n",
        "        and as value either of positive int representing the new index of \n",
        "        the cell or -1 if the cell has been removed\n",
        "\"\"\"\n",
        "\n",
        "cinac_predictor.add_recording(cinac_recording=cinac_recording,\n",
        "                              removed_cells_mapping=None,\n",
        "                              model_files_dict=model_files_dict)"
      ],
      "execution_count": 0,
      "outputs": []
    },
    {
      "cell_type": "markdown",
      "metadata": {
        "id": "WnXWLpjvQ1M5",
        "colab_type": "text"
      },
      "source": [
        "Finally, we run the prediction. \n",
        "\n",
        "The output format could be either a matlab file(.mat) and/or numpy one (.npy).\n",
        "\n",
        "If matlab is chosen, the predictions will be available under the key \"predictions\". \n",
        "\n",
        "The predictions are a 2d float array (n_cells * n_frames) with value between 0 and 1, representing the prediction of our classifier for each frame. 1 means the cell is 100% sure active at that time, 0 is 100% sure not active. \n",
        "\n",
        "A cell is considered active during the rising time of the calcium transient. \n",
        "\n",
        "We use a threshold of 0.5 to binarize the predictions array and make it a raster. \n"
      ]
    },
    {
      "cell_type": "code",
      "metadata": {
        "id": "t1sGOof_-now",
        "colab_type": "code",
        "colab": {}
      },
      "source": [
        "with tf.device('/device:GPU:0'):\n",
        "    # predictions are saved in the results_path and return as a dict, \n",
        "    # with keys the CinacRecording identifiers and value a 2d array.\n",
        "    overlap_value = 0 if cell_type_classifier_mode else 0.5\n",
        "    predictions_dict = cinac_predictor.predict(results_path=results_path, \n",
        "                                               output_file_formats=\"npy\", \n",
        "                                               overlap_value=overlap_value,\n",
        "                                               cell_type_classifier_mode=cell_type_classifier_mode)\n",
        "    \n",
        "# Do output_file_formats=[\"npy\", \"mat\"] to get both extensions"
      ],
      "execution_count": 0,
      "outputs": []
    },
    {
      "cell_type": "markdown",
      "metadata": {
        "id": "XcJ28xAwAO76",
        "colab_type": "text"
      },
      "source": [
        "You can then use the .npz produced to visualize the predictions in the GUI, or use them at your ease, below is the code to binarized the activity predictions. \n",
        "\n",
        "When loading the npz, you can get the predictions by loading the field 'predictions'. The other field is 'cells' and is a 1d array containing the \n",
        "indices of the cells whose activity has been predicted."
      ]
    },
    {
      "cell_type": "markdown",
      "metadata": {
        "id": "cJvRVJg8S3dz",
        "colab_type": "text"
      },
      "source": [
        "Code to convert the activity predictions in a binary raster"
      ]
    },
    {
      "cell_type": "code",
      "metadata": {
        "id": "Qy56OcVvS3ta",
        "colab_type": "code",
        "colab": {}
      },
      "source": [
        "import numpy as np\n",
        "\n",
        "# dictionary with key identifier of the recording and value a binary 2d array\n",
        "#binary_predictions_dict = dict()\n",
        "\n",
        "for identifier, predictions in predictions_dict.items():\n",
        "    binary_predictions = np.zeros((len(predictions), len(predictions[0])), \n",
        "                                  dtype=\"int8\")\n",
        "    binary_predictions[predictions > 0.5] = 1\n",
        "    binary_predictions_dict[identifier] = binary_predictions\n"
      ],
      "execution_count": 0,
      "outputs": []
    },
    {
      "cell_type": "markdown",
      "metadata": {
        "id": "mQAkadXREhtg",
        "colab_type": "text"
      },
      "source": [
        "Below is the code to display the cell type predicted"
      ]
    },
    {
      "cell_type": "code",
      "metadata": {
        "id": "HQGhT6KkB0E8",
        "colab_type": "code",
        "colab": {}
      },
      "source": [
        "from deepcinac.utils.cinac_file_utils import read_cell_type_categories_yaml_file\n",
        "\n",
        "cell_type_from_code_dict, cell_type_to_code_dict, multi_class_arg = \\\n",
        "            read_cell_type_categories_yaml_file(yaml_file=cell_type_yaml_file, \n",
        "                                                using_multi_class=2)\n",
        "\n",
        "for identifier, cell_type_predictions in predictions_dict.items():\n",
        "    print(f\"identifier: {identifier}\")\n",
        "    for cell in np.arange(len(cell_type_predictions)):\n",
        "        if np.sum(cell_type_predictions[cell]) == 0:\n",
        "            continue\n",
        "            #print(f\"No prediction for cell {cell}\")\n",
        "        else:\n",
        "            cell_type_code = np.argmax(cell_type_predictions[cell])\n",
        "            print(f\"Predictions for cell {cell} are {cell_type_predictions[cell]}\")\n",
        "            print(f\"Predicted type for cell {cell} is {cell_type_from_code_dict[cell_type_code]}\")\n",
        "            print(\" \")"
      ],
      "execution_count": 0,
      "outputs": []
    }
  ]
}